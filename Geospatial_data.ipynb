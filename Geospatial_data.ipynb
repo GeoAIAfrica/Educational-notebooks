{
  "cells": [
    {
      "cell_type": "markdown",
      "metadata": {
        "id": "view-in-github",
        "colab_type": "text"
      },
      "source": [
        "<a href=\"https://colab.research.google.com/github/GeoAIAfrica/Intro-notebooks/blob/main/Geospatial_data.ipynb\" target=\"_parent\"><img src=\"https://colab.research.google.com/assets/colab-badge.svg\" alt=\"Open In Colab\"/></a>"
      ]
    },
    {
      "cell_type": "code",
      "source": [
        "# Mount your drive\n",
        "# The below will ask for permission, you should agree:\n",
        "# Your output should be \"Mounted at /content/drive\"\n",
        "from google.colab import drive\n",
        "drive.mount('/content/drive')"
      ],
      "metadata": {
        "colab": {
          "base_uri": "https://localhost:8080/"
        },
        "id": "mhood3KhdoQ1",
        "outputId": "1f3d3d35-0c81-4e58-d158-c16fbd0c1563"
      },
      "id": "mhood3KhdoQ1",
      "execution_count": null,
      "outputs": [
        {
          "output_type": "stream",
          "name": "stdout",
          "text": [
            "Mounted at /content/drive\n"
          ]
        }
      ]
    },
    {
      "cell_type": "code",
      "source": [
        "\n",
        "%cd \"/content/drive/MyDrive/dfki/\"\n",
        "%ls"
      ],
      "metadata": {
        "id": "JDT5jUmCiTH-"
      },
      "id": "JDT5jUmCiTH-",
      "execution_count": null,
      "outputs": []
    },
    {
      "cell_type": "markdown",
      "source": [
        "# Geospatial data\n",
        "\n",
        "Geospatial data refers to information that is associated with specific geographic locations on the Earth's surface. It has a spatial component, capturing the location, shape, and attributes of geographic entities. Geospatial data can include data on various phenomena, such as land cover, population density, elevation, climate, or transportation networks.\n",
        "\n",
        "Typically, geospatial data is represented in two ways: vector data and raster data.\n",
        "\n",
        "1. `Vector Data`: Vector data represents geospatial features using points, lines, and polygons. Each feature has geometric coordinates and associated attributes. Examples of vector file formats include `Shapefile` (.shp), `GeoJSON`, and `Geodatabase`.\n",
        "\n",
        "  The shapefile is still widely used data format for\n",
        "storing geospatial vector data. The filename extension for the Shapefile is .shp. Shapefile is not actually only a single file, but it is made of multiple separate files. The three mandatory files that are associated to a valid shapefile dataset are:\n",
        "\n",
        "  *  .shp containing the feature geometries,\n",
        "  *  .shx containing a positional index for the feature geometries,\n",
        "  *  .dbf containing the attribute information.\n",
        "  *  .prj file which contains information about the coordinate reference system of the dataset.\n",
        "\n",
        "2. `Raster Data`: Raster data represents geospatial information as a grid of cells or pixels, where each cell holds a value representing an attribute or measurement.\n",
        "\n",
        "  Raster data is stored in formats such as GeoTIFF, NetCDF, or ASCII Grid.\n",
        "\n",
        "\n",
        "   \n",
        "    \n",
        "\n",
        "\n"
      ],
      "metadata": {
        "id": "eweW2c0rjKv6"
      },
      "id": "eweW2c0rjKv6"
    },
    {
      "cell_type": "markdown",
      "id": "faa65b59",
      "metadata": {
        "id": "faa65b59"
      },
      "source": [
        "# Introduction to spatial data analysis with geopandas\n",
        "\n",
        "Here we will be using [geopandas](https://geopandas.org/) as our main tool for spatial data analysis. Geopandas extends the capacities of [pandas](https://pythongis.org/part1/chapter-04/index.html) with geospatial operations. The main data structures in geopandas are `GeoSeries` and `GeoDataFrame` which extend the capabilities of `Series` and `DataFrames` from pandas. This means that we can use many familiar methods from pandas also when working with geopandas and spatial features. A `GeoDataFrame` is basically a `pandas.DataFrame` that contains one column for geometries. The geometry column is a `GeoSeries` which contains the geometries  as `shapely` objects (points, lines, polygons, multipolygons etc.).\n",
        "\n",
        "## Getting started with geopandas"
      ]
    },
    {
      "cell_type": "code",
      "execution_count": null,
      "id": "8dc0c3d0",
      "metadata": {
        "id": "8dc0c3d0"
      },
      "outputs": [],
      "source": [
        "import geopandas as gpd"
      ]
    },
    {
      "cell_type": "markdown",
      "source": [
        "For this lesson we are using data that you can download from here. Once you have downloaded the [Data.zip ](https://github.com/Automating-GIS-processes/Lesson-2-Geo-DataFrames/raw/master/data/Data.zip)file into your home directory, you can unzip the file"
      ],
      "metadata": {
        "id": "AGqETlATTCmy"
      },
      "id": "AGqETlATTCmy"
    },
    {
      "cell_type": "code",
      "source": [
        "!pwd"
      ],
      "metadata": {
        "colab": {
          "base_uri": "https://localhost:8080/"
        },
        "id": "9iViS1SamNbs",
        "outputId": "d2d7c00a-4039-4c32-e638-f6d244413c4a"
      },
      "id": "9iViS1SamNbs",
      "execution_count": null,
      "outputs": [
        {
          "output_type": "stream",
          "name": "stdout",
          "text": [
            "/content/drive/MyDrive/dfki\n"
          ]
        }
      ]
    },
    {
      "cell_type": "code",
      "source": [
        "!unzip Data.zip\n",
        "!ls"
      ],
      "metadata": {
        "id": "PA_O4o0WTSXx"
      },
      "id": "PA_O4o0WTSXx",
      "execution_count": null,
      "outputs": []
    },
    {
      "cell_type": "markdown",
      "id": "9b4ee3e0",
      "metadata": {
        "id": "9b4ee3e0"
      },
      "source": [
        "## Reading a Shapefile\n",
        "\n",
        "Spatial data can be read easily with geopandas using `gpd.from_file()` -function:\n",
        "\n"
      ]
    },
    {
      "cell_type": "code",
      "execution_count": null,
      "id": "db42e539",
      "metadata": {
        "id": "db42e539"
      },
      "outputs": [],
      "source": [
        "# data = gpd.read_file(\"https://ndownloader.figshare.com/files/20232174\")\n",
        "# Set filepath (fix path relative to yours)\n",
        "fp = \"Data/DAMSELFISH_distributions.shp\"\n",
        "\n",
        "# Read file using gpd.read_file()\n",
        "data = gpd.read_file(fp)"
      ]
    },
    {
      "cell_type": "markdown",
      "id": "3c82314a",
      "metadata": {
        "id": "3c82314a"
      },
      "source": [
        "Let's check the data type."
      ]
    },
    {
      "cell_type": "code",
      "execution_count": null,
      "id": "dbb84a0d",
      "metadata": {
        "jupyter": {
          "outputs_hidden": false
        },
        "id": "dbb84a0d",
        "outputId": "c48de6c9-6d36-493f-eacc-269515ba1e85",
        "colab": {
          "base_uri": "https://localhost:8080/"
        }
      },
      "outputs": [
        {
          "output_type": "execute_result",
          "data": {
            "text/plain": [
              "geopandas.geodataframe.GeoDataFrame"
            ]
          },
          "metadata": {},
          "execution_count": 60
        }
      ],
      "source": [
        "type(data)"
      ]
    },
    {
      "cell_type": "markdown",
      "id": "2028763e",
      "metadata": {
        "id": "2028763e"
      },
      "source": [
        "Here we see that our `data` -variable is a `GeoDataFrame` which extends the functionalities of\n",
        "`DataFrame` to handle spatial data. We can apply many familiar `pandas` methods to explore the contents of our `GeoDataFrame`. Let's have a closer look at the first rows of the data."
      ]
    },
    {
      "cell_type": "code",
      "execution_count": null,
      "id": "64f2c58f",
      "metadata": {
        "jupyter": {
          "outputs_hidden": false
        },
        "id": "64f2c58f",
        "outputId": "00d86f39-c563-442a-944d-4dc136751a80",
        "colab": {
          "base_uri": "https://localhost:8080/",
          "height": 647
        }
      },
      "outputs": [
        {
          "output_type": "execute_result",
          "data": {
            "text/plain": [
              "      ID_NO             BINOMIAL  ORIGIN COMPILER  YEAR  \\\n",
              "0  183963.0   Stegastes leucorus       1     IUCN  2010   \n",
              "1  183963.0   Stegastes leucorus       1     IUCN  2010   \n",
              "2  183963.0   Stegastes leucorus       1     IUCN  2010   \n",
              "3  183793.0  Chromis intercrusma       1     IUCN  2010   \n",
              "4  183793.0  Chromis intercrusma       1     IUCN  2010   \n",
              "\n",
              "                                            CITATION  SOURCE  DIST_COMM  \\\n",
              "0  International Union for Conservation of Nature...     NaN        NaN   \n",
              "1  International Union for Conservation of Nature...     NaN        NaN   \n",
              "2  International Union for Conservation of Nature...     NaN        NaN   \n",
              "3  International Union for Conservation of Nature...     NaN        NaN   \n",
              "4  International Union for Conservation of Nature...     NaN        NaN   \n",
              "\n",
              "   ISLAND  SUBSPECIES  ...  RL_UPDATE KINGDOM_NA  PHYLUM_NAM      CLASS_NAME  \\\n",
              "0     NaN         NaN  ...     2012.1   ANIMALIA    CHORDATA  ACTINOPTERYGII   \n",
              "1     NaN         NaN  ...     2012.1   ANIMALIA    CHORDATA  ACTINOPTERYGII   \n",
              "2     NaN         NaN  ...     2012.1   ANIMALIA    CHORDATA  ACTINOPTERYGII   \n",
              "3     NaN         NaN  ...     2012.1   ANIMALIA    CHORDATA  ACTINOPTERYGII   \n",
              "4     NaN         NaN  ...     2012.1   ANIMALIA    CHORDATA  ACTINOPTERYGII   \n",
              "\n",
              "    ORDER_NAME     FAMILY_NAM GENUS_NAME   SPECIES_NA CATEGORY  \\\n",
              "0  PERCIFORMES  POMACENTRIDAE  Stegastes     leucorus       VU   \n",
              "1  PERCIFORMES  POMACENTRIDAE  Stegastes     leucorus       VU   \n",
              "2  PERCIFORMES  POMACENTRIDAE  Stegastes     leucorus       VU   \n",
              "3  PERCIFORMES  POMACENTRIDAE    Chromis  intercrusma       LC   \n",
              "4  PERCIFORMES  POMACENTRIDAE    Chromis  intercrusma       LC   \n",
              "\n",
              "                                            geometry  \n",
              "0  POLYGON ((-115.64375 29.71392, -115.61585 29.6...  \n",
              "1  POLYGON ((-105.58995 21.89340, -105.56483 21.8...  \n",
              "2  POLYGON ((-111.15962 19.01536, -111.15948 18.9...  \n",
              "3  POLYGON ((-80.86500 -0.77894, -80.75930 -0.833...  \n",
              "4  POLYGON ((-67.33922 -55.67610, -67.33755 -55.6...  \n",
              "\n",
              "[5 rows x 24 columns]"
            ],
            "text/html": [
              "\n",
              "  <div id=\"df-3552b4f9-42f9-4d18-b2cf-e5e3efcbf192\">\n",
              "    <div class=\"colab-df-container\">\n",
              "      <div>\n",
              "<style scoped>\n",
              "    .dataframe tbody tr th:only-of-type {\n",
              "        vertical-align: middle;\n",
              "    }\n",
              "\n",
              "    .dataframe tbody tr th {\n",
              "        vertical-align: top;\n",
              "    }\n",
              "\n",
              "    .dataframe thead th {\n",
              "        text-align: right;\n",
              "    }\n",
              "</style>\n",
              "<table border=\"1\" class=\"dataframe\">\n",
              "  <thead>\n",
              "    <tr style=\"text-align: right;\">\n",
              "      <th></th>\n",
              "      <th>ID_NO</th>\n",
              "      <th>BINOMIAL</th>\n",
              "      <th>ORIGIN</th>\n",
              "      <th>COMPILER</th>\n",
              "      <th>YEAR</th>\n",
              "      <th>CITATION</th>\n",
              "      <th>SOURCE</th>\n",
              "      <th>DIST_COMM</th>\n",
              "      <th>ISLAND</th>\n",
              "      <th>SUBSPECIES</th>\n",
              "      <th>...</th>\n",
              "      <th>RL_UPDATE</th>\n",
              "      <th>KINGDOM_NA</th>\n",
              "      <th>PHYLUM_NAM</th>\n",
              "      <th>CLASS_NAME</th>\n",
              "      <th>ORDER_NAME</th>\n",
              "      <th>FAMILY_NAM</th>\n",
              "      <th>GENUS_NAME</th>\n",
              "      <th>SPECIES_NA</th>\n",
              "      <th>CATEGORY</th>\n",
              "      <th>geometry</th>\n",
              "    </tr>\n",
              "  </thead>\n",
              "  <tbody>\n",
              "    <tr>\n",
              "      <th>0</th>\n",
              "      <td>183963.0</td>\n",
              "      <td>Stegastes leucorus</td>\n",
              "      <td>1</td>\n",
              "      <td>IUCN</td>\n",
              "      <td>2010</td>\n",
              "      <td>International Union for Conservation of Nature...</td>\n",
              "      <td>NaN</td>\n",
              "      <td>NaN</td>\n",
              "      <td>NaN</td>\n",
              "      <td>NaN</td>\n",
              "      <td>...</td>\n",
              "      <td>2012.1</td>\n",
              "      <td>ANIMALIA</td>\n",
              "      <td>CHORDATA</td>\n",
              "      <td>ACTINOPTERYGII</td>\n",
              "      <td>PERCIFORMES</td>\n",
              "      <td>POMACENTRIDAE</td>\n",
              "      <td>Stegastes</td>\n",
              "      <td>leucorus</td>\n",
              "      <td>VU</td>\n",
              "      <td>POLYGON ((-115.64375 29.71392, -115.61585 29.6...</td>\n",
              "    </tr>\n",
              "    <tr>\n",
              "      <th>1</th>\n",
              "      <td>183963.0</td>\n",
              "      <td>Stegastes leucorus</td>\n",
              "      <td>1</td>\n",
              "      <td>IUCN</td>\n",
              "      <td>2010</td>\n",
              "      <td>International Union for Conservation of Nature...</td>\n",
              "      <td>NaN</td>\n",
              "      <td>NaN</td>\n",
              "      <td>NaN</td>\n",
              "      <td>NaN</td>\n",
              "      <td>...</td>\n",
              "      <td>2012.1</td>\n",
              "      <td>ANIMALIA</td>\n",
              "      <td>CHORDATA</td>\n",
              "      <td>ACTINOPTERYGII</td>\n",
              "      <td>PERCIFORMES</td>\n",
              "      <td>POMACENTRIDAE</td>\n",
              "      <td>Stegastes</td>\n",
              "      <td>leucorus</td>\n",
              "      <td>VU</td>\n",
              "      <td>POLYGON ((-105.58995 21.89340, -105.56483 21.8...</td>\n",
              "    </tr>\n",
              "    <tr>\n",
              "      <th>2</th>\n",
              "      <td>183963.0</td>\n",
              "      <td>Stegastes leucorus</td>\n",
              "      <td>1</td>\n",
              "      <td>IUCN</td>\n",
              "      <td>2010</td>\n",
              "      <td>International Union for Conservation of Nature...</td>\n",
              "      <td>NaN</td>\n",
              "      <td>NaN</td>\n",
              "      <td>NaN</td>\n",
              "      <td>NaN</td>\n",
              "      <td>...</td>\n",
              "      <td>2012.1</td>\n",
              "      <td>ANIMALIA</td>\n",
              "      <td>CHORDATA</td>\n",
              "      <td>ACTINOPTERYGII</td>\n",
              "      <td>PERCIFORMES</td>\n",
              "      <td>POMACENTRIDAE</td>\n",
              "      <td>Stegastes</td>\n",
              "      <td>leucorus</td>\n",
              "      <td>VU</td>\n",
              "      <td>POLYGON ((-111.15962 19.01536, -111.15948 18.9...</td>\n",
              "    </tr>\n",
              "    <tr>\n",
              "      <th>3</th>\n",
              "      <td>183793.0</td>\n",
              "      <td>Chromis intercrusma</td>\n",
              "      <td>1</td>\n",
              "      <td>IUCN</td>\n",
              "      <td>2010</td>\n",
              "      <td>International Union for Conservation of Nature...</td>\n",
              "      <td>NaN</td>\n",
              "      <td>NaN</td>\n",
              "      <td>NaN</td>\n",
              "      <td>NaN</td>\n",
              "      <td>...</td>\n",
              "      <td>2012.1</td>\n",
              "      <td>ANIMALIA</td>\n",
              "      <td>CHORDATA</td>\n",
              "      <td>ACTINOPTERYGII</td>\n",
              "      <td>PERCIFORMES</td>\n",
              "      <td>POMACENTRIDAE</td>\n",
              "      <td>Chromis</td>\n",
              "      <td>intercrusma</td>\n",
              "      <td>LC</td>\n",
              "      <td>POLYGON ((-80.86500 -0.77894, -80.75930 -0.833...</td>\n",
              "    </tr>\n",
              "    <tr>\n",
              "      <th>4</th>\n",
              "      <td>183793.0</td>\n",
              "      <td>Chromis intercrusma</td>\n",
              "      <td>1</td>\n",
              "      <td>IUCN</td>\n",
              "      <td>2010</td>\n",
              "      <td>International Union for Conservation of Nature...</td>\n",
              "      <td>NaN</td>\n",
              "      <td>NaN</td>\n",
              "      <td>NaN</td>\n",
              "      <td>NaN</td>\n",
              "      <td>...</td>\n",
              "      <td>2012.1</td>\n",
              "      <td>ANIMALIA</td>\n",
              "      <td>CHORDATA</td>\n",
              "      <td>ACTINOPTERYGII</td>\n",
              "      <td>PERCIFORMES</td>\n",
              "      <td>POMACENTRIDAE</td>\n",
              "      <td>Chromis</td>\n",
              "      <td>intercrusma</td>\n",
              "      <td>LC</td>\n",
              "      <td>POLYGON ((-67.33922 -55.67610, -67.33755 -55.6...</td>\n",
              "    </tr>\n",
              "  </tbody>\n",
              "</table>\n",
              "<p>5 rows × 24 columns</p>\n",
              "</div>\n",
              "      <button class=\"colab-df-convert\" onclick=\"convertToInteractive('df-3552b4f9-42f9-4d18-b2cf-e5e3efcbf192')\"\n",
              "              title=\"Convert this dataframe to an interactive table.\"\n",
              "              style=\"display:none;\">\n",
              "        \n",
              "  <svg xmlns=\"http://www.w3.org/2000/svg\" height=\"24px\"viewBox=\"0 0 24 24\"\n",
              "       width=\"24px\">\n",
              "    <path d=\"M0 0h24v24H0V0z\" fill=\"none\"/>\n",
              "    <path d=\"M18.56 5.44l.94 2.06.94-2.06 2.06-.94-2.06-.94-.94-2.06-.94 2.06-2.06.94zm-11 1L8.5 8.5l.94-2.06 2.06-.94-2.06-.94L8.5 2.5l-.94 2.06-2.06.94zm10 10l.94 2.06.94-2.06 2.06-.94-2.06-.94-.94-2.06-.94 2.06-2.06.94z\"/><path d=\"M17.41 7.96l-1.37-1.37c-.4-.4-.92-.59-1.43-.59-.52 0-1.04.2-1.43.59L10.3 9.45l-7.72 7.72c-.78.78-.78 2.05 0 2.83L4 21.41c.39.39.9.59 1.41.59.51 0 1.02-.2 1.41-.59l7.78-7.78 2.81-2.81c.8-.78.8-2.07 0-2.86zM5.41 20L4 18.59l7.72-7.72 1.47 1.35L5.41 20z\"/>\n",
              "  </svg>\n",
              "      </button>\n",
              "      \n",
              "  <style>\n",
              "    .colab-df-container {\n",
              "      display:flex;\n",
              "      flex-wrap:wrap;\n",
              "      gap: 12px;\n",
              "    }\n",
              "\n",
              "    .colab-df-convert {\n",
              "      background-color: #E8F0FE;\n",
              "      border: none;\n",
              "      border-radius: 50%;\n",
              "      cursor: pointer;\n",
              "      display: none;\n",
              "      fill: #1967D2;\n",
              "      height: 32px;\n",
              "      padding: 0 0 0 0;\n",
              "      width: 32px;\n",
              "    }\n",
              "\n",
              "    .colab-df-convert:hover {\n",
              "      background-color: #E2EBFA;\n",
              "      box-shadow: 0px 1px 2px rgba(60, 64, 67, 0.3), 0px 1px 3px 1px rgba(60, 64, 67, 0.15);\n",
              "      fill: #174EA6;\n",
              "    }\n",
              "\n",
              "    [theme=dark] .colab-df-convert {\n",
              "      background-color: #3B4455;\n",
              "      fill: #D2E3FC;\n",
              "    }\n",
              "\n",
              "    [theme=dark] .colab-df-convert:hover {\n",
              "      background-color: #434B5C;\n",
              "      box-shadow: 0px 1px 3px 1px rgba(0, 0, 0, 0.15);\n",
              "      filter: drop-shadow(0px 1px 2px rgba(0, 0, 0, 0.3));\n",
              "      fill: #FFFFFF;\n",
              "    }\n",
              "  </style>\n",
              "\n",
              "      <script>\n",
              "        const buttonEl =\n",
              "          document.querySelector('#df-3552b4f9-42f9-4d18-b2cf-e5e3efcbf192 button.colab-df-convert');\n",
              "        buttonEl.style.display =\n",
              "          google.colab.kernel.accessAllowed ? 'block' : 'none';\n",
              "\n",
              "        async function convertToInteractive(key) {\n",
              "          const element = document.querySelector('#df-3552b4f9-42f9-4d18-b2cf-e5e3efcbf192');\n",
              "          const dataTable =\n",
              "            await google.colab.kernel.invokeFunction('convertToInteractive',\n",
              "                                                     [key], {});\n",
              "          if (!dataTable) return;\n",
              "\n",
              "          const docLinkHtml = 'Like what you see? Visit the ' +\n",
              "            '<a target=\"_blank\" href=https://colab.research.google.com/notebooks/data_table.ipynb>data table notebook</a>'\n",
              "            + ' to learn more about interactive tables.';\n",
              "          element.innerHTML = '';\n",
              "          dataTable['output_type'] = 'display_data';\n",
              "          await google.colab.output.renderOutput(dataTable, element);\n",
              "          const docLink = document.createElement('div');\n",
              "          docLink.innerHTML = docLinkHtml;\n",
              "          element.appendChild(docLink);\n",
              "        }\n",
              "      </script>\n",
              "    </div>\n",
              "  </div>\n",
              "  "
            ]
          },
          "metadata": {},
          "execution_count": 61
        }
      ],
      "source": [
        "data.head()"
      ]
    },
    {
      "cell_type": "markdown",
      "id": "cbe464d8",
      "metadata": {
        "id": "cbe464d8"
      },
      "source": [
        "It is always a good idea to explore your data also on a map. Creating a simple map from a `GeoDataFrame` is really easy. You can use the ``.plot()`` -function from geopandas that creates a map based on the geometries of the data. `geopandas` actually uses `matplotlib` for plotting which we introduced in Part 1 of this book. Let's try it out, and do a quick visualization of our data."
      ]
    },
    {
      "cell_type": "code",
      "execution_count": null,
      "id": "cfb617c9",
      "metadata": {
        "jupyter": {
          "outputs_hidden": false
        },
        "id": "cfb617c9",
        "outputId": "f2738c5e-807b-4c36-dd08-7564f2844b7f",
        "colab": {
          "base_uri": "https://localhost:8080/",
          "height": 214
        }
      },
      "outputs": [
        {
          "output_type": "execute_result",
          "data": {
            "text/plain": [
              "<Axes: >"
            ]
          },
          "metadata": {},
          "execution_count": 62
        },
        {
          "output_type": "display_data",
          "data": {
            "text/plain": [
              "<Figure size 640x480 with 1 Axes>"
            ],
            "image/png": "[encoded data removed]"
          },
          "metadata": {}
        }
      ],
      "source": [
        "data.plot()"
      ]
    },
    {
      "cell_type": "markdown",
      "id": "98c064a1",
      "metadata": {
        "id": "98c064a1"
      },
      "source": [
        "## Writing data into a file\n",
        "\n",
        "It is possible to export spatial data into various data formats using the `.to_file()` method in `geopandas`. Let's practice writing data into the geopackage file format. Before proceeding, let's check how the data looks like at this point."
      ]
    },
    {
      "cell_type": "code",
      "execution_count": null,
      "id": "5803bf11",
      "metadata": {
        "id": "5803bf11",
        "outputId": "07c0fd8c-2bdf-43db-ae10-6c25eb2c05fc",
        "colab": {
          "base_uri": "https://localhost:8080/",
          "height": 647
        }
      },
      "outputs": [
        {
          "output_type": "execute_result",
          "data": {
            "text/plain": [
              "      ID_NO             BINOMIAL  ORIGIN COMPILER  YEAR  \\\n",
              "0  183963.0   Stegastes leucorus       1     IUCN  2010   \n",
              "1  183963.0   Stegastes leucorus       1     IUCN  2010   \n",
              "2  183963.0   Stegastes leucorus       1     IUCN  2010   \n",
              "3  183793.0  Chromis intercrusma       1     IUCN  2010   \n",
              "4  183793.0  Chromis intercrusma       1     IUCN  2010   \n",
              "\n",
              "                                            CITATION  SOURCE  DIST_COMM  \\\n",
              "0  International Union for Conservation of Nature...     NaN        NaN   \n",
              "1  International Union for Conservation of Nature...     NaN        NaN   \n",
              "2  International Union for Conservation of Nature...     NaN        NaN   \n",
              "3  International Union for Conservation of Nature...     NaN        NaN   \n",
              "4  International Union for Conservation of Nature...     NaN        NaN   \n",
              "\n",
              "   ISLAND  SUBSPECIES  ...  RL_UPDATE KINGDOM_NA  PHYLUM_NAM      CLASS_NAME  \\\n",
              "0     NaN         NaN  ...     2012.1   ANIMALIA    CHORDATA  ACTINOPTERYGII   \n",
              "1     NaN         NaN  ...     2012.1   ANIMALIA    CHORDATA  ACTINOPTERYGII   \n",
              "2     NaN         NaN  ...     2012.1   ANIMALIA    CHORDATA  ACTINOPTERYGII   \n",
              "3     NaN         NaN  ...     2012.1   ANIMALIA    CHORDATA  ACTINOPTERYGII   \n",
              "4     NaN         NaN  ...     2012.1   ANIMALIA    CHORDATA  ACTINOPTERYGII   \n",
              "\n",
              "    ORDER_NAME     FAMILY_NAM GENUS_NAME   SPECIES_NA CATEGORY  \\\n",
              "0  PERCIFORMES  POMACENTRIDAE  Stegastes     leucorus       VU   \n",
              "1  PERCIFORMES  POMACENTRIDAE  Stegastes     leucorus       VU   \n",
              "2  PERCIFORMES  POMACENTRIDAE  Stegastes     leucorus       VU   \n",
              "3  PERCIFORMES  POMACENTRIDAE    Chromis  intercrusma       LC   \n",
              "4  PERCIFORMES  POMACENTRIDAE    Chromis  intercrusma       LC   \n",
              "\n",
              "                                            geometry  \n",
              "0  POLYGON ((-115.64375 29.71392, -115.61585 29.6...  \n",
              "1  POLYGON ((-105.58995 21.89340, -105.56483 21.8...  \n",
              "2  POLYGON ((-111.15962 19.01536, -111.15948 18.9...  \n",
              "3  POLYGON ((-80.86500 -0.77894, -80.75930 -0.833...  \n",
              "4  POLYGON ((-67.33922 -55.67610, -67.33755 -55.6...  \n",
              "\n",
              "[5 rows x 24 columns]"
            ],
            "text/html": [
              "\n",
              "  <div id=\"df-d17b6b0d-1fe8-4f28-aef0-9dfe945e7bfb\">\n",
              "    <div class=\"colab-df-container\">\n",
              "      <div>\n",
              "<style scoped>\n",
              "    .dataframe tbody tr th:only-of-type {\n",
              "        vertical-align: middle;\n",
              "    }\n",
              "\n",
              "    .dataframe tbody tr th {\n",
              "        vertical-align: top;\n",
              "    }\n",
              "\n",
              "    .dataframe thead th {\n",
              "        text-align: right;\n",
              "    }\n",
              "</style>\n",
              "<table border=\"1\" class=\"dataframe\">\n",
              "  <thead>\n",
              "    <tr style=\"text-align: right;\">\n",
              "      <th></th>\n",
              "      <th>ID_NO</th>\n",
              "      <th>BINOMIAL</th>\n",
              "      <th>ORIGIN</th>\n",
              "      <th>COMPILER</th>\n",
              "      <th>YEAR</th>\n",
              "      <th>CITATION</th>\n",
              "      <th>SOURCE</th>\n",
              "      <th>DIST_COMM</th>\n",
              "      <th>ISLAND</th>\n",
              "      <th>SUBSPECIES</th>\n",
              "      <th>...</th>\n",
              "      <th>RL_UPDATE</th>\n",
              "      <th>KINGDOM_NA</th>\n",
              "      <th>PHYLUM_NAM</th>\n",
              "      <th>CLASS_NAME</th>\n",
              "      <th>ORDER_NAME</th>\n",
              "      <th>FAMILY_NAM</th>\n",
              "      <th>GENUS_NAME</th>\n",
              "      <th>SPECIES_NA</th>\n",
              "      <th>CATEGORY</th>\n",
              "      <th>geometry</th>\n",
              "    </tr>\n",
              "  </thead>\n",
              "  <tbody>\n",
              "    <tr>\n",
              "      <th>0</th>\n",
              "      <td>183963.0</td>\n",
              "      <td>Stegastes leucorus</td>\n",
              "      <td>1</td>\n",
              "      <td>IUCN</td>\n",
              "      <td>2010</td>\n",
              "      <td>International Union for Conservation of Nature...</td>\n",
              "      <td>NaN</td>\n",
              "      <td>NaN</td>\n",
              "      <td>NaN</td>\n",
              "      <td>NaN</td>\n",
              "      <td>...</td>\n",
              "      <td>2012.1</td>\n",
              "      <td>ANIMALIA</td>\n",
              "      <td>CHORDATA</td>\n",
              "      <td>ACTINOPTERYGII</td>\n",
              "      <td>PERCIFORMES</td>\n",
              "      <td>POMACENTRIDAE</td>\n",
              "      <td>Stegastes</td>\n",
              "      <td>leucorus</td>\n",
              "      <td>VU</td>\n",
              "      <td>POLYGON ((-115.64375 29.71392, -115.61585 29.6...</td>\n",
              "    </tr>\n",
              "    <tr>\n",
              "      <th>1</th>\n",
              "      <td>183963.0</td>\n",
              "      <td>Stegastes leucorus</td>\n",
              "      <td>1</td>\n",
              "      <td>IUCN</td>\n",
              "      <td>2010</td>\n",
              "      <td>International Union for Conservation of Nature...</td>\n",
              "      <td>NaN</td>\n",
              "      <td>NaN</td>\n",
              "      <td>NaN</td>\n",
              "      <td>NaN</td>\n",
              "      <td>...</td>\n",
              "      <td>2012.1</td>\n",
              "      <td>ANIMALIA</td>\n",
              "      <td>CHORDATA</td>\n",
              "      <td>ACTINOPTERYGII</td>\n",
              "      <td>PERCIFORMES</td>\n",
              "      <td>POMACENTRIDAE</td>\n",
              "      <td>Stegastes</td>\n",
              "      <td>leucorus</td>\n",
              "      <td>VU</td>\n",
              "      <td>POLYGON ((-105.58995 21.89340, -105.56483 21.8...</td>\n",
              "    </tr>\n",
              "    <tr>\n",
              "      <th>2</th>\n",
              "      <td>183963.0</td>\n",
              "      <td>Stegastes leucorus</td>\n",
              "      <td>1</td>\n",
              "      <td>IUCN</td>\n",
              "      <td>2010</td>\n",
              "      <td>International Union for Conservation of Nature...</td>\n",
              "      <td>NaN</td>\n",
              "      <td>NaN</td>\n",
              "      <td>NaN</td>\n",
              "      <td>NaN</td>\n",
              "      <td>...</td>\n",
              "      <td>2012.1</td>\n",
              "      <td>ANIMALIA</td>\n",
              "      <td>CHORDATA</td>\n",
              "      <td>ACTINOPTERYGII</td>\n",
              "      <td>PERCIFORMES</td>\n",
              "      <td>POMACENTRIDAE</td>\n",
              "      <td>Stegastes</td>\n",
              "      <td>leucorus</td>\n",
              "      <td>VU</td>\n",
              "      <td>POLYGON ((-111.15962 19.01536, -111.15948 18.9...</td>\n",
              "    </tr>\n",
              "    <tr>\n",
              "      <th>3</th>\n",
              "      <td>183793.0</td>\n",
              "      <td>Chromis intercrusma</td>\n",
              "      <td>1</td>\n",
              "      <td>IUCN</td>\n",
              "      <td>2010</td>\n",
              "      <td>International Union for Conservation of Nature...</td>\n",
              "      <td>NaN</td>\n",
              "      <td>NaN</td>\n",
              "      <td>NaN</td>\n",
              "      <td>NaN</td>\n",
              "      <td>...</td>\n",
              "      <td>2012.1</td>\n",
              "      <td>ANIMALIA</td>\n",
              "      <td>CHORDATA</td>\n",
              "      <td>ACTINOPTERYGII</td>\n",
              "      <td>PERCIFORMES</td>\n",
              "      <td>POMACENTRIDAE</td>\n",
              "      <td>Chromis</td>\n",
              "      <td>intercrusma</td>\n",
              "      <td>LC</td>\n",
              "      <td>POLYGON ((-80.86500 -0.77894, -80.75930 -0.833...</td>\n",
              "    </tr>\n",
              "    <tr>\n",
              "      <th>4</th>\n",
              "      <td>183793.0</td>\n",
              "      <td>Chromis intercrusma</td>\n",
              "      <td>1</td>\n",
              "      <td>IUCN</td>\n",
              "      <td>2010</td>\n",
              "      <td>International Union for Conservation of Nature...</td>\n",
              "      <td>NaN</td>\n",
              "      <td>NaN</td>\n",
              "      <td>NaN</td>\n",
              "      <td>NaN</td>\n",
              "      <td>...</td>\n",
              "      <td>2012.1</td>\n",
              "      <td>ANIMALIA</td>\n",
              "      <td>CHORDATA</td>\n",
              "      <td>ACTINOPTERYGII</td>\n",
              "      <td>PERCIFORMES</td>\n",
              "      <td>POMACENTRIDAE</td>\n",
              "      <td>Chromis</td>\n",
              "      <td>intercrusma</td>\n",
              "      <td>LC</td>\n",
              "      <td>POLYGON ((-67.33922 -55.67610, -67.33755 -55.6...</td>\n",
              "    </tr>\n",
              "  </tbody>\n",
              "</table>\n",
              "<p>5 rows × 24 columns</p>\n",
              "</div>\n",
              "      <button class=\"colab-df-convert\" onclick=\"convertToInteractive('df-d17b6b0d-1fe8-4f28-aef0-9dfe945e7bfb')\"\n",
              "              title=\"Convert this dataframe to an interactive table.\"\n",
              "              style=\"display:none;\">\n",
              "        \n",
              "  <svg xmlns=\"http://www.w3.org/2000/svg\" height=\"24px\"viewBox=\"0 0 24 24\"\n",
              "       width=\"24px\">\n",
              "    <path d=\"M0 0h24v24H0V0z\" fill=\"none\"/>\n",
              "    <path d=\"M18.56 5.44l.94 2.06.94-2.06 2.06-.94-2.06-.94-.94-2.06-.94 2.06-2.06.94zm-11 1L8.5 8.5l.94-2.06 2.06-.94-2.06-.94L8.5 2.5l-.94 2.06-2.06.94zm10 10l.94 2.06.94-2.06 2.06-.94-2.06-.94-.94-2.06-.94 2.06-2.06.94z\"/><path d=\"M17.41 7.96l-1.37-1.37c-.4-.4-.92-.59-1.43-.59-.52 0-1.04.2-1.43.59L10.3 9.45l-7.72 7.72c-.78.78-.78 2.05 0 2.83L4 21.41c.39.39.9.59 1.41.59.51 0 1.02-.2 1.41-.59l7.78-7.78 2.81-2.81c.8-.78.8-2.07 0-2.86zM5.41 20L4 18.59l7.72-7.72 1.47 1.35L5.41 20z\"/>\n",
              "  </svg>\n",
              "      </button>\n",
              "      \n",
              "  <style>\n",
              "    .colab-df-container {\n",
              "      display:flex;\n",
              "      flex-wrap:wrap;\n",
              "      gap: 12px;\n",
              "    }\n",
              "\n",
              "    .colab-df-convert {\n",
              "      background-color: #E8F0FE;\n",
              "      border: none;\n",
              "      border-radius: 50%;\n",
              "      cursor: pointer;\n",
              "      display: none;\n",
              "      fill: #1967D2;\n",
              "      height: 32px;\n",
              "      padding: 0 0 0 0;\n",
              "      width: 32px;\n",
              "    }\n",
              "\n",
              "    .colab-df-convert:hover {\n",
              "      background-color: #E2EBFA;\n",
              "      box-shadow: 0px 1px 2px rgba(60, 64, 67, 0.3), 0px 1px 3px 1px rgba(60, 64, 67, 0.15);\n",
              "      fill: #174EA6;\n",
              "    }\n",
              "\n",
              "    [theme=dark] .colab-df-convert {\n",
              "      background-color: #3B4455;\n",
              "      fill: #D2E3FC;\n",
              "    }\n",
              "\n",
              "    [theme=dark] .colab-df-convert:hover {\n",
              "      background-color: #434B5C;\n",
              "      box-shadow: 0px 1px 3px 1px rgba(0, 0, 0, 0.15);\n",
              "      filter: drop-shadow(0px 1px 2px rgba(0, 0, 0, 0.3));\n",
              "      fill: #FFFFFF;\n",
              "    }\n",
              "  </style>\n",
              "\n",
              "      <script>\n",
              "        const buttonEl =\n",
              "          document.querySelector('#df-d17b6b0d-1fe8-4f28-aef0-9dfe945e7bfb button.colab-df-convert');\n",
              "        buttonEl.style.display =\n",
              "          google.colab.kernel.accessAllowed ? 'block' : 'none';\n",
              "\n",
              "        async function convertToInteractive(key) {\n",
              "          const element = document.querySelector('#df-d17b6b0d-1fe8-4f28-aef0-9dfe945e7bfb');\n",
              "          const dataTable =\n",
              "            await google.colab.kernel.invokeFunction('convertToInteractive',\n",
              "                                                     [key], {});\n",
              "          if (!dataTable) return;\n",
              "\n",
              "          const docLinkHtml = 'Like what you see? Visit the ' +\n",
              "            '<a target=\"_blank\" href=https://colab.research.google.com/notebooks/data_table.ipynb>data table notebook</a>'\n",
              "            + ' to learn more about interactive tables.';\n",
              "          element.innerHTML = '';\n",
              "          dataTable['output_type'] = 'display_data';\n",
              "          await google.colab.output.renderOutput(dataTable, element);\n",
              "          const docLink = document.createElement('div');\n",
              "          docLink.innerHTML = docLinkHtml;\n",
              "          element.appendChild(docLink);\n",
              "        }\n",
              "      </script>\n",
              "    </div>\n",
              "  </div>\n",
              "  "
            ]
          },
          "metadata": {},
          "execution_count": 63
        }
      ],
      "source": [
        "data.head()"
      ]
    },
    {
      "cell_type": "markdown",
      "id": "ea0d867d-5031-4d0a-b230-ab39e553505c",
      "metadata": {
        "id": "ea0d867d-5031-4d0a-b230-ab39e553505c"
      },
      "source": [
        "Write the data into a file using the `.to_file()` method."
      ]
    },
    {
      "cell_type": "code",
      "execution_count": null,
      "id": "49d317f9",
      "metadata": {
        "id": "49d317f9"
      },
      "outputs": [],
      "source": [
        "# Create a output path for the data\n",
        "output_fp = \"new_data.shp\"\n",
        "\n",
        "# Write the file\n",
        "data.to_file(output_fp)"
      ]
    },
    {
      "cell_type": "markdown",
      "id": "32bd2bc1",
      "metadata": {
        "id": "32bd2bc1"
      },
      "source": [
        "#### Question\n",
        "\n",
        "> Indented block\n",
        "\n",
        "\n",
        "\n",
        "Read the output file using `geopandas` and check that the data looks ok."
      ]
    },
    {
      "cell_type": "code",
      "execution_count": null,
      "id": "ad7325ea",
      "metadata": {
        "tags": [
          "remove_cell"
        ],
        "id": "ad7325ea"
      },
      "outputs": [],
      "source": [
        "# Use this cell to enter your solution."
      ]
    },
    {
      "cell_type": "code",
      "execution_count": null,
      "id": "c947fbba",
      "metadata": {
        "tags": [
          "remove_book_cell",
          "hide_cell"
        ],
        "id": "c947fbba",
        "outputId": "d3f0e806-cf7d-4c72-85d4-ec0a887ff4ff",
        "colab": {
          "base_uri": "https://localhost:8080/",
          "height": 647
        }
      },
      "outputs": [
        {
          "output_type": "execute_result",
          "data": {
            "text/plain": [
              "      ID_NO             BINOMIAL  ORIGIN COMPILER  YEAR  \\\n",
              "0  183963.0   Stegastes leucorus       1     IUCN  2010   \n",
              "1  183963.0   Stegastes leucorus       1     IUCN  2010   \n",
              "2  183963.0   Stegastes leucorus       1     IUCN  2010   \n",
              "3  183793.0  Chromis intercrusma       1     IUCN  2010   \n",
              "4  183793.0  Chromis intercrusma       1     IUCN  2010   \n",
              "\n",
              "                                            CITATION  SOURCE  DIST_COMM  \\\n",
              "0  International Union for Conservation of Nature...     NaN        NaN   \n",
              "1  International Union for Conservation of Nature...     NaN        NaN   \n",
              "2  International Union for Conservation of Nature...     NaN        NaN   \n",
              "3  International Union for Conservation of Nature...     NaN        NaN   \n",
              "4  International Union for Conservation of Nature...     NaN        NaN   \n",
              "\n",
              "   ISLAND  SUBSPECIES  ...  RL_UPDATE KINGDOM_NA  PHYLUM_NAM      CLASS_NAME  \\\n",
              "0     NaN         NaN  ...     2012.1   ANIMALIA    CHORDATA  ACTINOPTERYGII   \n",
              "1     NaN         NaN  ...     2012.1   ANIMALIA    CHORDATA  ACTINOPTERYGII   \n",
              "2     NaN         NaN  ...     2012.1   ANIMALIA    CHORDATA  ACTINOPTERYGII   \n",
              "3     NaN         NaN  ...     2012.1   ANIMALIA    CHORDATA  ACTINOPTERYGII   \n",
              "4     NaN         NaN  ...     2012.1   ANIMALIA    CHORDATA  ACTINOPTERYGII   \n",
              "\n",
              "    ORDER_NAME     FAMILY_NAM GENUS_NAME   SPECIES_NA CATEGORY  \\\n",
              "0  PERCIFORMES  POMACENTRIDAE  Stegastes     leucorus       VU   \n",
              "1  PERCIFORMES  POMACENTRIDAE  Stegastes     leucorus       VU   \n",
              "2  PERCIFORMES  POMACENTRIDAE  Stegastes     leucorus       VU   \n",
              "3  PERCIFORMES  POMACENTRIDAE    Chromis  intercrusma       LC   \n",
              "4  PERCIFORMES  POMACENTRIDAE    Chromis  intercrusma       LC   \n",
              "\n",
              "                                            geometry  \n",
              "0  POLYGON ((-115.64375 29.71392, -115.61585 29.6...  \n",
              "1  POLYGON ((-105.58995 21.89340, -105.56483 21.8...  \n",
              "2  POLYGON ((-111.15962 19.01536, -111.15948 18.9...  \n",
              "3  POLYGON ((-80.86500 -0.77894, -80.75930 -0.833...  \n",
              "4  POLYGON ((-67.33922 -55.67610, -67.33755 -55.6...  \n",
              "\n",
              "[5 rows x 24 columns]"
            ],
            "text/html": [
              "\n",
              "  <div id=\"df-1afa3c53-206b-4e5f-ac80-c9fce2dd848c\">\n",
              "    <div class=\"colab-df-container\">\n",
              "      <div>\n",
              "<style scoped>\n",
              "    .dataframe tbody tr th:only-of-type {\n",
              "        vertical-align: middle;\n",
              "    }\n",
              "\n",
              "    .dataframe tbody tr th {\n",
              "        vertical-align: top;\n",
              "    }\n",
              "\n",
              "    .dataframe thead th {\n",
              "        text-align: right;\n",
              "    }\n",
              "</style>\n",
              "<table border=\"1\" class=\"dataframe\">\n",
              "  <thead>\n",
              "    <tr style=\"text-align: right;\">\n",
              "      <th></th>\n",
              "      <th>ID_NO</th>\n",
              "      <th>BINOMIAL</th>\n",
              "      <th>ORIGIN</th>\n",
              "      <th>COMPILER</th>\n",
              "      <th>YEAR</th>\n",
              "      <th>CITATION</th>\n",
              "      <th>SOURCE</th>\n",
              "      <th>DIST_COMM</th>\n",
              "      <th>ISLAND</th>\n",
              "      <th>SUBSPECIES</th>\n",
              "      <th>...</th>\n",
              "      <th>RL_UPDATE</th>\n",
              "      <th>KINGDOM_NA</th>\n",
              "      <th>PHYLUM_NAM</th>\n",
              "      <th>CLASS_NAME</th>\n",
              "      <th>ORDER_NAME</th>\n",
              "      <th>FAMILY_NAM</th>\n",
              "      <th>GENUS_NAME</th>\n",
              "      <th>SPECIES_NA</th>\n",
              "      <th>CATEGORY</th>\n",
              "      <th>geometry</th>\n",
              "    </tr>\n",
              "  </thead>\n",
              "  <tbody>\n",
              "    <tr>\n",
              "      <th>0</th>\n",
              "      <td>183963.0</td>\n",
              "      <td>Stegastes leucorus</td>\n",
              "      <td>1</td>\n",
              "      <td>IUCN</td>\n",
              "      <td>2010</td>\n",
              "      <td>International Union for Conservation of Nature...</td>\n",
              "      <td>NaN</td>\n",
              "      <td>NaN</td>\n",
              "      <td>NaN</td>\n",
              "      <td>NaN</td>\n",
              "      <td>...</td>\n",
              "      <td>2012.1</td>\n",
              "      <td>ANIMALIA</td>\n",
              "      <td>CHORDATA</td>\n",
              "      <td>ACTINOPTERYGII</td>\n",
              "      <td>PERCIFORMES</td>\n",
              "      <td>POMACENTRIDAE</td>\n",
              "      <td>Stegastes</td>\n",
              "      <td>leucorus</td>\n",
              "      <td>VU</td>\n",
              "      <td>POLYGON ((-115.64375 29.71392, -115.61585 29.6...</td>\n",
              "    </tr>\n",
              "    <tr>\n",
              "      <th>1</th>\n",
              "      <td>183963.0</td>\n",
              "      <td>Stegastes leucorus</td>\n",
              "      <td>1</td>\n",
              "      <td>IUCN</td>\n",
              "      <td>2010</td>\n",
              "      <td>International Union for Conservation of Nature...</td>\n",
              "      <td>NaN</td>\n",
              "      <td>NaN</td>\n",
              "      <td>NaN</td>\n",
              "      <td>NaN</td>\n",
              "      <td>...</td>\n",
              "      <td>2012.1</td>\n",
              "      <td>ANIMALIA</td>\n",
              "      <td>CHORDATA</td>\n",
              "      <td>ACTINOPTERYGII</td>\n",
              "      <td>PERCIFORMES</td>\n",
              "      <td>POMACENTRIDAE</td>\n",
              "      <td>Stegastes</td>\n",
              "      <td>leucorus</td>\n",
              "      <td>VU</td>\n",
              "      <td>POLYGON ((-105.58995 21.89340, -105.56483 21.8...</td>\n",
              "    </tr>\n",
              "    <tr>\n",
              "      <th>2</th>\n",
              "      <td>183963.0</td>\n",
              "      <td>Stegastes leucorus</td>\n",
              "      <td>1</td>\n",
              "      <td>IUCN</td>\n",
              "      <td>2010</td>\n",
              "      <td>International Union for Conservation of Nature...</td>\n",
              "      <td>NaN</td>\n",
              "      <td>NaN</td>\n",
              "      <td>NaN</td>\n",
              "      <td>NaN</td>\n",
              "      <td>...</td>\n",
              "      <td>2012.1</td>\n",
              "      <td>ANIMALIA</td>\n",
              "      <td>CHORDATA</td>\n",
              "      <td>ACTINOPTERYGII</td>\n",
              "      <td>PERCIFORMES</td>\n",
              "      <td>POMACENTRIDAE</td>\n",
              "      <td>Stegastes</td>\n",
              "      <td>leucorus</td>\n",
              "      <td>VU</td>\n",
              "      <td>POLYGON ((-111.15962 19.01536, -111.15948 18.9...</td>\n",
              "    </tr>\n",
              "    <tr>\n",
              "      <th>3</th>\n",
              "      <td>183793.0</td>\n",
              "      <td>Chromis intercrusma</td>\n",
              "      <td>1</td>\n",
              "      <td>IUCN</td>\n",
              "      <td>2010</td>\n",
              "      <td>International Union for Conservation of Nature...</td>\n",
              "      <td>NaN</td>\n",
              "      <td>NaN</td>\n",
              "      <td>NaN</td>\n",
              "      <td>NaN</td>\n",
              "      <td>...</td>\n",
              "      <td>2012.1</td>\n",
              "      <td>ANIMALIA</td>\n",
              "      <td>CHORDATA</td>\n",
              "      <td>ACTINOPTERYGII</td>\n",
              "      <td>PERCIFORMES</td>\n",
              "      <td>POMACENTRIDAE</td>\n",
              "      <td>Chromis</td>\n",
              "      <td>intercrusma</td>\n",
              "      <td>LC</td>\n",
              "      <td>POLYGON ((-80.86500 -0.77894, -80.75930 -0.833...</td>\n",
              "    </tr>\n",
              "    <tr>\n",
              "      <th>4</th>\n",
              "      <td>183793.0</td>\n",
              "      <td>Chromis intercrusma</td>\n",
              "      <td>1</td>\n",
              "      <td>IUCN</td>\n",
              "      <td>2010</td>\n",
              "      <td>International Union for Conservation of Nature...</td>\n",
              "      <td>NaN</td>\n",
              "      <td>NaN</td>\n",
              "      <td>NaN</td>\n",
              "      <td>NaN</td>\n",
              "      <td>...</td>\n",
              "      <td>2012.1</td>\n",
              "      <td>ANIMALIA</td>\n",
              "      <td>CHORDATA</td>\n",
              "      <td>ACTINOPTERYGII</td>\n",
              "      <td>PERCIFORMES</td>\n",
              "      <td>POMACENTRIDAE</td>\n",
              "      <td>Chromis</td>\n",
              "      <td>intercrusma</td>\n",
              "      <td>LC</td>\n",
              "      <td>POLYGON ((-67.33922 -55.67610, -67.33755 -55.6...</td>\n",
              "    </tr>\n",
              "  </tbody>\n",
              "</table>\n",
              "<p>5 rows × 24 columns</p>\n",
              "</div>\n",
              "      <button class=\"colab-df-convert\" onclick=\"convertToInteractive('df-1afa3c53-206b-4e5f-ac80-c9fce2dd848c')\"\n",
              "              title=\"Convert this dataframe to an interactive table.\"\n",
              "              style=\"display:none;\">\n",
              "        \n",
              "  <svg xmlns=\"http://www.w3.org/2000/svg\" height=\"24px\"viewBox=\"0 0 24 24\"\n",
              "       width=\"24px\">\n",
              "    <path d=\"M0 0h24v24H0V0z\" fill=\"none\"/>\n",
              "    <path d=\"M18.56 5.44l.94 2.06.94-2.06 2.06-.94-2.06-.94-.94-2.06-.94 2.06-2.06.94zm-11 1L8.5 8.5l.94-2.06 2.06-.94-2.06-.94L8.5 2.5l-.94 2.06-2.06.94zm10 10l.94 2.06.94-2.06 2.06-.94-2.06-.94-.94-2.06-.94 2.06-2.06.94z\"/><path d=\"M17.41 7.96l-1.37-1.37c-.4-.4-.92-.59-1.43-.59-.52 0-1.04.2-1.43.59L10.3 9.45l-7.72 7.72c-.78.78-.78 2.05 0 2.83L4 21.41c.39.39.9.59 1.41.59.51 0 1.02-.2 1.41-.59l7.78-7.78 2.81-2.81c.8-.78.8-2.07 0-2.86zM5.41 20L4 18.59l7.72-7.72 1.47 1.35L5.41 20z\"/>\n",
              "  </svg>\n",
              "      </button>\n",
              "      \n",
              "  <style>\n",
              "    .colab-df-container {\n",
              "      display:flex;\n",
              "      flex-wrap:wrap;\n",
              "      gap: 12px;\n",
              "    }\n",
              "\n",
              "    .colab-df-convert {\n",
              "      background-color: #E8F0FE;\n",
              "      border: none;\n",
              "      border-radius: 50%;\n",
              "      cursor: pointer;\n",
              "      display: none;\n",
              "      fill: #1967D2;\n",
              "      height: 32px;\n",
              "      padding: 0 0 0 0;\n",
              "      width: 32px;\n",
              "    }\n",
              "\n",
              "    .colab-df-convert:hover {\n",
              "      background-color: #E2EBFA;\n",
              "      box-shadow: 0px 1px 2px rgba(60, 64, 67, 0.3), 0px 1px 3px 1px rgba(60, 64, 67, 0.15);\n",
              "      fill: #174EA6;\n",
              "    }\n",
              "\n",
              "    [theme=dark] .colab-df-convert {\n",
              "      background-color: #3B4455;\n",
              "      fill: #D2E3FC;\n",
              "    }\n",
              "\n",
              "    [theme=dark] .colab-df-convert:hover {\n",
              "      background-color: #434B5C;\n",
              "      box-shadow: 0px 1px 3px 1px rgba(0, 0, 0, 0.15);\n",
              "      filter: drop-shadow(0px 1px 2px rgba(0, 0, 0, 0.3));\n",
              "      fill: #FFFFFF;\n",
              "    }\n",
              "  </style>\n",
              "\n",
              "      <script>\n",
              "        const buttonEl =\n",
              "          document.querySelector('#df-1afa3c53-206b-4e5f-ac80-c9fce2dd848c button.colab-df-convert');\n",
              "        buttonEl.style.display =\n",
              "          google.colab.kernel.accessAllowed ? 'block' : 'none';\n",
              "\n",
              "        async function convertToInteractive(key) {\n",
              "          const element = document.querySelector('#df-1afa3c53-206b-4e5f-ac80-c9fce2dd848c');\n",
              "          const dataTable =\n",
              "            await google.colab.kernel.invokeFunction('convertToInteractive',\n",
              "                                                     [key], {});\n",
              "          if (!dataTable) return;\n",
              "\n",
              "          const docLinkHtml = 'Like what you see? Visit the ' +\n",
              "            '<a target=\"_blank\" href=https://colab.research.google.com/notebooks/data_table.ipynb>data table notebook</a>'\n",
              "            + ' to learn more about interactive tables.';\n",
              "          element.innerHTML = '';\n",
              "          dataTable['output_type'] = 'display_data';\n",
              "          await google.colab.output.renderOutput(dataTable, element);\n",
              "          const docLink = document.createElement('div');\n",
              "          docLink.innerHTML = docLinkHtml;\n",
              "          element.appendChild(docLink);\n",
              "        }\n",
              "      </script>\n",
              "    </div>\n",
              "  </div>\n",
              "  "
            ]
          },
          "metadata": {},
          "execution_count": 17
        }
      ],
      "source": [
        "# Solution\n",
        "\n",
        "temp = gpd.read_file(output_fp)\n",
        "\n",
        "# Check first rows\n",
        "temp.head()"
      ]
    },
    {
      "cell_type": "code",
      "execution_count": null,
      "id": "64223fd7",
      "metadata": {
        "tags": [
          "remove_book_cell",
          "hide_cell"
        ],
        "id": "64223fd7",
        "outputId": "d8c6efed-b583-4440-ed05-7f4cb5e0e97b",
        "colab": {
          "base_uri": "https://localhost:8080/",
          "height": 214
        }
      },
      "outputs": [
        {
          "output_type": "execute_result",
          "data": {
            "text/plain": [
              "<Axes: >"
            ]
          },
          "metadata": {},
          "execution_count": 18
        },
        {
          "output_type": "display_data",
          "data": {
            "text/plain": [
              "<Figure size 640x480 with 1 Axes>"
            ],
            "image/png": "[encoded data removed]"
          },
          "metadata": {}
        }
      ],
      "source": [
        "# Solution\n",
        "\n",
        "# You can also plot the data for a visual check\n",
        "temp.plot()"
      ]
    },
    {
      "cell_type": "markdown",
      "id": "861f9bff",
      "metadata": {
        "id": "861f9bff"
      },
      "source": [
        "## Geometries in geopandas\n",
        "\n",
        "A `GeoDataFrame` has one column for storing geometries. By default, `geopandas` looks for the geometries from a column called `geometry`. It is also possible to define other columns as the geometry column. Th geometry column is a `GeoSeries` that contains shapely's geometric objects.  Let's have a look at the geometry column of our sample data."
      ]
    },
    {
      "cell_type": "code",
      "execution_count": null,
      "id": "eeaf22f4",
      "metadata": {
        "jupyter": {
          "outputs_hidden": false
        },
        "id": "eeaf22f4",
        "outputId": "3c8c494a-a95c-46ed-879b-33181d4d6e32",
        "colab": {
          "base_uri": "https://localhost:8080/"
        }
      },
      "outputs": [
        {
          "output_type": "execute_result",
          "data": {
            "text/plain": [
              "0    POLYGON ((-115.64375 29.71392, -115.61585 29.6...\n",
              "1    POLYGON ((-105.58995 21.89340, -105.56483 21.8...\n",
              "2    POLYGON ((-111.15962 19.01536, -111.15948 18.9...\n",
              "3    POLYGON ((-80.86500 -0.77894, -80.75930 -0.833...\n",
              "4    POLYGON ((-67.33922 -55.67610, -67.33755 -55.6...\n",
              "Name: geometry, dtype: geometry"
            ]
          },
          "metadata": {},
          "execution_count": 65
        }
      ],
      "source": [
        "data[\"geometry\"].head()"
      ]
    },
    {
      "cell_type": "markdown",
      "source": [
        "Since spatial data is stored as Shapely objects, it is possible to use all of the functionalities of Shapely module that we practiced earlier. More information [here](https://pythongis.org/part2/chapter-06/nb/00-introduction-to-geographic-objects.html)."
      ],
      "metadata": {
        "id": "az-BQmNBZJj7"
      },
      "id": "az-BQmNBZJj7"
    },
    {
      "cell_type": "code",
      "source": [
        "from shapely.geometry import Point\n",
        "\n",
        "point = Point(2.2, 4.2)\n",
        "point3D = Point(9.26, -2.456, 0.57)\n",
        "\n",
        "point"
      ],
      "metadata": {
        "colab": {
          "base_uri": "https://localhost:8080/",
          "height": 121
        },
        "id": "oz5bk0kZVX4X",
        "outputId": "98ce3d25-54e6-48a2-c1bd-3a86fefd1a05"
      },
      "id": "oz5bk0kZVX4X",
      "execution_count": null,
      "outputs": [
        {
          "output_type": "execute_result",
          "data": {
            "text/plain": [
              "<POINT (2.2 4.2)>"
            ],
            "image/svg+xml": "<svg xmlns=\"http://www.w3.org/2000/svg\" xmlns:xlink=\"http://www.w3.org/1999/xlink\" width=\"100.0\" height=\"100.0\" viewBox=\"1.2000000000000002 3.2 2.0 2.0\" preserveAspectRatio=\"xMinYMin meet\"><g transform=\"matrix(1,0,0,-1,0,8.4)\"><circle cx=\"2.2\" cy=\"4.2\" r=\"0.06\" stroke=\"#555555\" stroke-width=\"0.02\" fill=\"#66cc99\" opacity=\"0.6\" /></g></svg>"
          },
          "metadata": {},
          "execution_count": 66
        }
      ]
    },
    {
      "cell_type": "markdown",
      "source": [
        "Let’s print the areas of the first 5 polygons:"
      ],
      "metadata": {
        "id": "xJnuOQ6RZORf"
      },
      "id": "xJnuOQ6RZORf"
    },
    {
      "cell_type": "code",
      "execution_count": null,
      "id": "582806b2",
      "metadata": {
        "id": "582806b2"
      },
      "outputs": [],
      "source": [
        "# Make a selection that contains only the first five rows\n",
        "selection = data[0:5]"
      ]
    },
    {
      "cell_type": "markdown",
      "source": [
        "We can iterate over the selected rows using a specific .iterrows() -function in (geo)pandas and print the area for each polygon:"
      ],
      "metadata": {
        "id": "XlJ6jxfLZaMV"
      },
      "id": "XlJ6jxfLZaMV"
    },
    {
      "cell_type": "code",
      "source": [
        "for index, row in selection.iterrows():\n",
        "   poly_area = row['geometry'].area\n",
        "   print(\"Polygon area at index {0} is: {1:.3f}\".format(index, poly_area))"
      ],
      "metadata": {
        "colab": {
          "base_uri": "https://localhost:8080/"
        },
        "id": "21TSF3q9ZZXE",
        "outputId": "09801235-fa9f-4f04-e11c-539760628161"
      },
      "id": "21TSF3q9ZZXE",
      "execution_count": null,
      "outputs": [
        {
          "output_type": "stream",
          "name": "stdout",
          "text": [
            "Polygon area at index 0 is: 19.396\n",
            "Polygon area at index 1 is: 6.146\n",
            "Polygon area at index 2 is: 2.697\n",
            "Polygon area at index 3 is: 87.461\n",
            "Polygon area at index 4 is: 0.001\n"
          ]
        }
      ]
    },
    {
      "cell_type": "markdown",
      "source": [
        "Hence, as you might guess from here, all the functionalities of Pandas are available directly in Geopandas without the need to call pandas separately because Geopandas is an extension for Pandas.\n",
        "\n",
        "\n",
        "Let’s next create a new column into our GeoDataFrame where we calculate and store the areas individual polygons. Calculating the areas of polygons is really easy in geopandas by using GeoDataFrame.area attribute:"
      ],
      "metadata": {
        "id": "f0Xjx4cJZmM1"
      },
      "id": "f0Xjx4cJZmM1"
    },
    {
      "cell_type": "code",
      "source": [
        "data['area'] = data.area"
      ],
      "metadata": {
        "colab": {
          "base_uri": "https://localhost:8080/"
        },
        "id": "oqx1JP3DZoU6",
        "outputId": "1aaed1a2-1549-4dd5-a22e-5737e1f81953"
      },
      "id": "oqx1JP3DZoU6",
      "execution_count": null,
      "outputs": [
        {
          "output_type": "stream",
          "name": "stderr",
          "text": [
            "<ipython-input-69-a77912d26f76>:1: UserWarning: Geometry is in a geographic CRS. Results from 'area' are likely incorrect. Use 'GeoSeries.to_crs()' to re-project geometries to a projected CRS before this operation.\n",
            "\n",
            "  data['area'] = data.area\n"
          ]
        }
      ]
    },
    {
      "cell_type": "markdown",
      "source": [
        "Let’s see the first 2 rows of our ‘area’ column.\n",
        "\n"
      ],
      "metadata": {
        "id": "yA14rHxvZ7In"
      },
      "id": "yA14rHxvZ7In"
    },
    {
      "cell_type": "code",
      "source": [
        "data['area'].head(2)"
      ],
      "metadata": {
        "colab": {
          "base_uri": "https://localhost:8080/"
        },
        "id": "yz9m314yaHKJ",
        "outputId": "a542f847-d84e-45a2-aab9-5fc1e346187b"
      },
      "id": "yz9m314yaHKJ",
      "execution_count": null,
      "outputs": [
        {
          "output_type": "execute_result",
          "data": {
            "text/plain": [
              "0    19.396254\n",
              "1     6.145902\n",
              "Name: area, dtype: float64"
            ]
          },
          "metadata": {},
          "execution_count": 70
        }
      ]
    },
    {
      "cell_type": "markdown",
      "source": [
        "Okey, so we can see that the area of our first polygon seems to be 19.39 and 6.14 for the second polygon. They correspond to the ones we saw in previous step when iterating rows, hence, everything seems to work as it should. Let’s check what is the min and the max of those areas using familiar functions from pandas"
      ],
      "metadata": {
        "id": "jAolh6PCaUES"
      },
      "id": "jAolh6PCaUES"
    },
    {
      "cell_type": "code",
      "source": [
        "# Maximum area\n",
        "max_area = data['area'].max()\n",
        "\n",
        "# Mean area\n",
        "mean_area = data['area'].mean()\n",
        "\n",
        "print(\"Max area: %s\\nMean area: %s\" % (round(max_area, 2), round(mean_area, 2)))"
      ],
      "metadata": {
        "colab": {
          "base_uri": "https://localhost:8080/"
        },
        "id": "kddffpGGaSBV",
        "outputId": "f9ffae6c-29d9-4d66-d9b1-a4044af1a536"
      },
      "id": "kddffpGGaSBV",
      "execution_count": null,
      "outputs": [
        {
          "output_type": "stream",
          "name": "stdout",
          "text": [
            "Max area: 1493.2\n",
            "Mean area: 19.96\n"
          ]
        }
      ]
    },
    {
      "cell_type": "markdown",
      "source": [
        "## Creating a GeoDataFrame from scratch\n",
        "\n",
        "It is possible to create spatial data from scratch by using `shapely`'s geometric objects and `geopandas`. This is useful as it makes it easy to convert, for example, a text file that contains coordinates into spatial data layers.\n",
        "\n",
        "Let’s create an empty GeoDataFrame `GeoDataFrame`"
      ],
      "metadata": {
        "id": "9RSaQd3vFrQn"
      },
      "id": "9RSaQd3vFrQn"
    },
    {
      "cell_type": "code",
      "source": [
        "# Import necessary modules first\n",
        "import pandas as pd\n",
        "import geopandas as gpd\n",
        "from shapely.geometry import Point, Polygon\n",
        "import fiona\n",
        "\n",
        "# Create an empty geopandas GeoDataFrame\n",
        "newdata = gpd.GeoDataFrame()"
      ],
      "metadata": {
        "id": "gObCSH4Nbdjj"
      },
      "id": "gObCSH4Nbdjj",
      "execution_count": null,
      "outputs": []
    },
    {
      "cell_type": "code",
      "source": [
        "# Let's see what's inside\n",
        "newdata"
      ],
      "metadata": {
        "colab": {
          "base_uri": "https://localhost:8080/",
          "height": 49
        },
        "id": "auq5epVLbvo5",
        "outputId": "b51d7bf3-e64e-4764-9b8e-395ca30cb8d6"
      },
      "id": "auq5epVLbvo5",
      "execution_count": null,
      "outputs": [
        {
          "output_type": "execute_result",
          "data": {
            "text/plain": [
              "Empty GeoDataFrame\n",
              "Columns: []\n",
              "Index: []"
            ],
            "text/html": [
              "\n",
              "  <div id=\"df-86d45296-7c57-45b0-9ed6-1903f6d55867\">\n",
              "    <div class=\"colab-df-container\">\n",
              "      <div>\n",
              "<style scoped>\n",
              "    .dataframe tbody tr th:only-of-type {\n",
              "        vertical-align: middle;\n",
              "    }\n",
              "\n",
              "    .dataframe tbody tr th {\n",
              "        vertical-align: top;\n",
              "    }\n",
              "\n",
              "    .dataframe thead th {\n",
              "        text-align: right;\n",
              "    }\n",
              "</style>\n",
              "<table border=\"1\" class=\"dataframe\">\n",
              "  <thead>\n",
              "    <tr style=\"text-align: right;\">\n",
              "      <th></th>\n",
              "    </tr>\n",
              "  </thead>\n",
              "  <tbody>\n",
              "  </tbody>\n",
              "</table>\n",
              "</div>\n",
              "      <button class=\"colab-df-convert\" onclick=\"convertToInteractive('df-86d45296-7c57-45b0-9ed6-1903f6d55867')\"\n",
              "              title=\"Convert this dataframe to an interactive table.\"\n",
              "              style=\"display:none;\">\n",
              "        \n",
              "  <svg xmlns=\"http://www.w3.org/2000/svg\" height=\"24px\"viewBox=\"0 0 24 24\"\n",
              "       width=\"24px\">\n",
              "    <path d=\"M0 0h24v24H0V0z\" fill=\"none\"/>\n",
              "    <path d=\"M18.56 5.44l.94 2.06.94-2.06 2.06-.94-2.06-.94-.94-2.06-.94 2.06-2.06.94zm-11 1L8.5 8.5l.94-2.06 2.06-.94-2.06-.94L8.5 2.5l-.94 2.06-2.06.94zm10 10l.94 2.06.94-2.06 2.06-.94-2.06-.94-.94-2.06-.94 2.06-2.06.94z\"/><path d=\"M17.41 7.96l-1.37-1.37c-.4-.4-.92-.59-1.43-.59-.52 0-1.04.2-1.43.59L10.3 9.45l-7.72 7.72c-.78.78-.78 2.05 0 2.83L4 21.41c.39.39.9.59 1.41.59.51 0 1.02-.2 1.41-.59l7.78-7.78 2.81-2.81c.8-.78.8-2.07 0-2.86zM5.41 20L4 18.59l7.72-7.72 1.47 1.35L5.41 20z\"/>\n",
              "  </svg>\n",
              "      </button>\n",
              "      \n",
              "  <style>\n",
              "    .colab-df-container {\n",
              "      display:flex;\n",
              "      flex-wrap:wrap;\n",
              "      gap: 12px;\n",
              "    }\n",
              "\n",
              "    .colab-df-convert {\n",
              "      background-color: #E8F0FE;\n",
              "      border: none;\n",
              "      border-radius: 50%;\n",
              "      cursor: pointer;\n",
              "      display: none;\n",
              "      fill: #1967D2;\n",
              "      height: 32px;\n",
              "      padding: 0 0 0 0;\n",
              "      width: 32px;\n",
              "    }\n",
              "\n",
              "    .colab-df-convert:hover {\n",
              "      background-color: #E2EBFA;\n",
              "      box-shadow: 0px 1px 2px rgba(60, 64, 67, 0.3), 0px 1px 3px 1px rgba(60, 64, 67, 0.15);\n",
              "      fill: #174EA6;\n",
              "    }\n",
              "\n",
              "    [theme=dark] .colab-df-convert {\n",
              "      background-color: #3B4455;\n",
              "      fill: #D2E3FC;\n",
              "    }\n",
              "\n",
              "    [theme=dark] .colab-df-convert:hover {\n",
              "      background-color: #434B5C;\n",
              "      box-shadow: 0px 1px 3px 1px rgba(0, 0, 0, 0.15);\n",
              "      filter: drop-shadow(0px 1px 2px rgba(0, 0, 0, 0.3));\n",
              "      fill: #FFFFFF;\n",
              "    }\n",
              "  </style>\n",
              "\n",
              "      <script>\n",
              "        const buttonEl =\n",
              "          document.querySelector('#df-86d45296-7c57-45b0-9ed6-1903f6d55867 button.colab-df-convert');\n",
              "        buttonEl.style.display =\n",
              "          google.colab.kernel.accessAllowed ? 'block' : 'none';\n",
              "\n",
              "        async function convertToInteractive(key) {\n",
              "          const element = document.querySelector('#df-86d45296-7c57-45b0-9ed6-1903f6d55867');\n",
              "          const dataTable =\n",
              "            await google.colab.kernel.invokeFunction('convertToInteractive',\n",
              "                                                     [key], {});\n",
              "          if (!dataTable) return;\n",
              "\n",
              "          const docLinkHtml = 'Like what you see? Visit the ' +\n",
              "            '<a target=\"_blank\" href=https://colab.research.google.com/notebooks/data_table.ipynb>data table notebook</a>'\n",
              "            + ' to learn more about interactive tables.';\n",
              "          element.innerHTML = '';\n",
              "          dataTable['output_type'] = 'display_data';\n",
              "          await google.colab.output.renderOutput(dataTable, element);\n",
              "          const docLink = document.createElement('div');\n",
              "          docLink.innerHTML = docLinkHtml;\n",
              "          element.appendChild(docLink);\n",
              "        }\n",
              "      </script>\n",
              "    </div>\n",
              "  </div>\n",
              "  "
            ]
          },
          "metadata": {},
          "execution_count": 74
        }
      ]
    },
    {
      "cell_type": "markdown",
      "source": [
        "The GeoDataFrame is empty since we haven’t placed any data inside.\n",
        "\n",
        "Let’s create a new column called geometry that will contain our Shapely objects:"
      ],
      "metadata": {
        "id": "puj8apIQbi_4"
      },
      "id": "puj8apIQbi_4"
    },
    {
      "cell_type": "code",
      "source": [
        "# Create a new column called 'geometry' to the GeoDataFrame\n",
        "newdata['geometry'] = None\n",
        "\n",
        "# Let's see what's inside\n",
        "newdata"
      ],
      "metadata": {
        "colab": {
          "base_uri": "https://localhost:8080/",
          "height": 104
        },
        "id": "5ct4jJyxbokG",
        "outputId": "8370c62e-db7c-433a-816f-2dd7f4abaea2"
      },
      "id": "5ct4jJyxbokG",
      "execution_count": null,
      "outputs": [
        {
          "output_type": "stream",
          "name": "stderr",
          "text": [
            "<ipython-input-75-85daf2f24bd5>:2: FutureWarning: You are adding a column named 'geometry' to a GeoDataFrame constructed without an active geometry column. Currently, this automatically sets the active geometry column to 'geometry' but in the future that will no longer happen. Instead, either provide geometry to the GeoDataFrame constructor (GeoDataFrame(... geometry=GeoSeries()) or use `set_geometry('geometry')` to explicitly set the active geometry column.\n",
            "  newdata['geometry'] = None\n"
          ]
        },
        {
          "output_type": "execute_result",
          "data": {
            "text/plain": [
              "Empty GeoDataFrame\n",
              "Columns: [geometry]\n",
              "Index: []"
            ],
            "text/html": [
              "\n",
              "  <div id=\"df-e9225022-596f-465c-ab82-b5a7232255f1\">\n",
              "    <div class=\"colab-df-container\">\n",
              "      <div>\n",
              "<style scoped>\n",
              "    .dataframe tbody tr th:only-of-type {\n",
              "        vertical-align: middle;\n",
              "    }\n",
              "\n",
              "    .dataframe tbody tr th {\n",
              "        vertical-align: top;\n",
              "    }\n",
              "\n",
              "    .dataframe thead th {\n",
              "        text-align: right;\n",
              "    }\n",
              "</style>\n",
              "<table border=\"1\" class=\"dataframe\">\n",
              "  <thead>\n",
              "    <tr style=\"text-align: right;\">\n",
              "      <th></th>\n",
              "      <th>geometry</th>\n",
              "    </tr>\n",
              "  </thead>\n",
              "  <tbody>\n",
              "  </tbody>\n",
              "</table>\n",
              "</div>\n",
              "      <button class=\"colab-df-convert\" onclick=\"convertToInteractive('df-e9225022-596f-465c-ab82-b5a7232255f1')\"\n",
              "              title=\"Convert this dataframe to an interactive table.\"\n",
              "              style=\"display:none;\">\n",
              "        \n",
              "  <svg xmlns=\"http://www.w3.org/2000/svg\" height=\"24px\"viewBox=\"0 0 24 24\"\n",
              "       width=\"24px\">\n",
              "    <path d=\"M0 0h24v24H0V0z\" fill=\"none\"/>\n",
              "    <path d=\"M18.56 5.44l.94 2.06.94-2.06 2.06-.94-2.06-.94-.94-2.06-.94 2.06-2.06.94zm-11 1L8.5 8.5l.94-2.06 2.06-.94-2.06-.94L8.5 2.5l-.94 2.06-2.06.94zm10 10l.94 2.06.94-2.06 2.06-.94-2.06-.94-.94-2.06-.94 2.06-2.06.94z\"/><path d=\"M17.41 7.96l-1.37-1.37c-.4-.4-.92-.59-1.43-.59-.52 0-1.04.2-1.43.59L10.3 9.45l-7.72 7.72c-.78.78-.78 2.05 0 2.83L4 21.41c.39.39.9.59 1.41.59.51 0 1.02-.2 1.41-.59l7.78-7.78 2.81-2.81c.8-.78.8-2.07 0-2.86zM5.41 20L4 18.59l7.72-7.72 1.47 1.35L5.41 20z\"/>\n",
              "  </svg>\n",
              "      </button>\n",
              "      \n",
              "  <style>\n",
              "    .colab-df-container {\n",
              "      display:flex;\n",
              "      flex-wrap:wrap;\n",
              "      gap: 12px;\n",
              "    }\n",
              "\n",
              "    .colab-df-convert {\n",
              "      background-color: #E8F0FE;\n",
              "      border: none;\n",
              "      border-radius: 50%;\n",
              "      cursor: pointer;\n",
              "      display: none;\n",
              "      fill: #1967D2;\n",
              "      height: 32px;\n",
              "      padding: 0 0 0 0;\n",
              "      width: 32px;\n",
              "    }\n",
              "\n",
              "    .colab-df-convert:hover {\n",
              "      background-color: #E2EBFA;\n",
              "      box-shadow: 0px 1px 2px rgba(60, 64, 67, 0.3), 0px 1px 3px 1px rgba(60, 64, 67, 0.15);\n",
              "      fill: #174EA6;\n",
              "    }\n",
              "\n",
              "    [theme=dark] .colab-df-convert {\n",
              "      background-color: #3B4455;\n",
              "      fill: #D2E3FC;\n",
              "    }\n",
              "\n",
              "    [theme=dark] .colab-df-convert:hover {\n",
              "      background-color: #434B5C;\n",
              "      box-shadow: 0px 1px 3px 1px rgba(0, 0, 0, 0.15);\n",
              "      filter: drop-shadow(0px 1px 2px rgba(0, 0, 0, 0.3));\n",
              "      fill: #FFFFFF;\n",
              "    }\n",
              "  </style>\n",
              "\n",
              "      <script>\n",
              "        const buttonEl =\n",
              "          document.querySelector('#df-e9225022-596f-465c-ab82-b5a7232255f1 button.colab-df-convert');\n",
              "        buttonEl.style.display =\n",
              "          google.colab.kernel.accessAllowed ? 'block' : 'none';\n",
              "\n",
              "        async function convertToInteractive(key) {\n",
              "          const element = document.querySelector('#df-e9225022-596f-465c-ab82-b5a7232255f1');\n",
              "          const dataTable =\n",
              "            await google.colab.kernel.invokeFunction('convertToInteractive',\n",
              "                                                     [key], {});\n",
              "          if (!dataTable) return;\n",
              "\n",
              "          const docLinkHtml = 'Like what you see? Visit the ' +\n",
              "            '<a target=\"_blank\" href=https://colab.research.google.com/notebooks/data_table.ipynb>data table notebook</a>'\n",
              "            + ' to learn more about interactive tables.';\n",
              "          element.innerHTML = '';\n",
              "          dataTable['output_type'] = 'display_data';\n",
              "          await google.colab.output.renderOutput(dataTable, element);\n",
              "          const docLink = document.createElement('div');\n",
              "          docLink.innerHTML = docLinkHtml;\n",
              "          element.appendChild(docLink);\n",
              "        }\n",
              "      </script>\n",
              "    </div>\n",
              "  </div>\n",
              "  "
            ]
          },
          "metadata": {},
          "execution_count": 75
        }
      ]
    },
    {
      "cell_type": "markdown",
      "source": [
        "Now we have a geometry column in our GeoDataFrame but we don’t have any data yet.\n",
        "\n",
        "Let’s create a Shapely Polygon repsenting the Helsinki Senate square that we can insert to our GeoDataFrame:"
      ],
      "metadata": {
        "id": "Od_9tIynb7P2"
      },
      "id": "Od_9tIynb7P2"
    },
    {
      "cell_type": "code",
      "execution_count": null,
      "id": "aec1fbab-b4e0-4641-816a-cdc37ab56432",
      "metadata": {
        "id": "aec1fbab-b4e0-4641-816a-cdc37ab56432",
        "colab": {
          "base_uri": "https://localhost:8080/",
          "height": 121
        },
        "outputId": "0ae5eae5-f2cc-4833-ff63-185a948d4f2d"
      },
      "outputs": [
        {
          "output_type": "execute_result",
          "data": {
            "text/plain": [
              "<POLYGON ((24.951 60.169, 24.953 60.169, 24.954 60.17, 24.951 60.17, 24.951 ...>"
            ],
            "image/svg+xml": "<svg xmlns=\"http://www.w3.org/2000/svg\" xmlns:xlink=\"http://www.w3.org/1999/xlink\" width=\"100.0\" height=\"100.0\" viewBox=\"24.95079456 60.16905356 0.0028198800000041047 0.0011548800000014126\" preserveAspectRatio=\"xMinYMin meet\"><g transform=\"matrix(1,0,0,-1,0,120.339262)\"><path fill-rule=\"evenodd\" fill=\"#66cc99\" stroke=\"#555555\" stroke-width=\"5.639760000008209e-05\" opacity=\"0.6\" d=\"M 24.950899,60.169158 L 24.953492,60.169158 L 24.95351,60.170104 L 24.950958,60.16999 L 24.950899,60.169158 z\" /></g></svg>"
          },
          "metadata": {},
          "execution_count": 76
        }
      ],
      "source": [
        "from shapely.geometry import Polygon\n",
        "\n",
        "# Coordinates of the Helsinki Senate square in decimal degrees\n",
        "coordinates = [\n",
        "    (24.950899, 60.169158),\n",
        "    (24.953492, 60.169158),\n",
        "    (24.953510, 60.170104),\n",
        "    (24.950958, 60.169990),\n",
        "]\n",
        "\n",
        "# Create a Shapely polygon from the coordinate-tuple list\n",
        "poly = Polygon(coordinates)\n",
        "poly"
      ]
    },
    {
      "cell_type": "markdown",
      "id": "727717a5-e176-4d55-bd30-a444bfc6758c",
      "metadata": {
        "id": "727717a5-e176-4d55-bd30-a444bfc6758c"
      },
      "source": [
        "Okey, so now we have appropriate Polygon -object.\n",
        "\n",
        "Let’s insert the polygon into our ‘geometry’ column in our GeoDataFrame:"
      ]
    },
    {
      "cell_type": "code",
      "execution_count": null,
      "id": "5d8178e8",
      "metadata": {
        "id": "5d8178e8",
        "colab": {
          "base_uri": "https://localhost:8080/",
          "height": 81
        },
        "outputId": "9fba11f8-88c9-46b6-8c7c-0bc34babaee0"
      },
      "outputs": [
        {
          "output_type": "execute_result",
          "data": {
            "text/plain": [
              "                                            geometry\n",
              "0  POLYGON ((24.95090 60.16916, 24.95349 60.16916..."
            ],
            "text/html": [
              "\n",
              "  <div id=\"df-82ef1032-c43b-4713-a74d-9c2387117c1f\">\n",
              "    <div class=\"colab-df-container\">\n",
              "      <div>\n",
              "<style scoped>\n",
              "    .dataframe tbody tr th:only-of-type {\n",
              "        vertical-align: middle;\n",
              "    }\n",
              "\n",
              "    .dataframe tbody tr th {\n",
              "        vertical-align: top;\n",
              "    }\n",
              "\n",
              "    .dataframe thead th {\n",
              "        text-align: right;\n",
              "    }\n",
              "</style>\n",
              "<table border=\"1\" class=\"dataframe\">\n",
              "  <thead>\n",
              "    <tr style=\"text-align: right;\">\n",
              "      <th></th>\n",
              "      <th>geometry</th>\n",
              "    </tr>\n",
              "  </thead>\n",
              "  <tbody>\n",
              "    <tr>\n",
              "      <th>0</th>\n",
              "      <td>POLYGON ((24.95090 60.16916, 24.95349 60.16916...</td>\n",
              "    </tr>\n",
              "  </tbody>\n",
              "</table>\n",
              "</div>\n",
              "      <button class=\"colab-df-convert\" onclick=\"convertToInteractive('df-82ef1032-c43b-4713-a74d-9c2387117c1f')\"\n",
              "              title=\"Convert this dataframe to an interactive table.\"\n",
              "              style=\"display:none;\">\n",
              "        \n",
              "  <svg xmlns=\"http://www.w3.org/2000/svg\" height=\"24px\"viewBox=\"0 0 24 24\"\n",
              "       width=\"24px\">\n",
              "    <path d=\"M0 0h24v24H0V0z\" fill=\"none\"/>\n",
              "    <path d=\"M18.56 5.44l.94 2.06.94-2.06 2.06-.94-2.06-.94-.94-2.06-.94 2.06-2.06.94zm-11 1L8.5 8.5l.94-2.06 2.06-.94-2.06-.94L8.5 2.5l-.94 2.06-2.06.94zm10 10l.94 2.06.94-2.06 2.06-.94-2.06-.94-.94-2.06-.94 2.06-2.06.94z\"/><path d=\"M17.41 7.96l-1.37-1.37c-.4-.4-.92-.59-1.43-.59-.52 0-1.04.2-1.43.59L10.3 9.45l-7.72 7.72c-.78.78-.78 2.05 0 2.83L4 21.41c.39.39.9.59 1.41.59.51 0 1.02-.2 1.41-.59l7.78-7.78 2.81-2.81c.8-.78.8-2.07 0-2.86zM5.41 20L4 18.59l7.72-7.72 1.47 1.35L5.41 20z\"/>\n",
              "  </svg>\n",
              "      </button>\n",
              "      \n",
              "  <style>\n",
              "    .colab-df-container {\n",
              "      display:flex;\n",
              "      flex-wrap:wrap;\n",
              "      gap: 12px;\n",
              "    }\n",
              "\n",
              "    .colab-df-convert {\n",
              "      background-color: #E8F0FE;\n",
              "      border: none;\n",
              "      border-radius: 50%;\n",
              "      cursor: pointer;\n",
              "      display: none;\n",
              "      fill: #1967D2;\n",
              "      height: 32px;\n",
              "      padding: 0 0 0 0;\n",
              "      width: 32px;\n",
              "    }\n",
              "\n",
              "    .colab-df-convert:hover {\n",
              "      background-color: #E2EBFA;\n",
              "      box-shadow: 0px 1px 2px rgba(60, 64, 67, 0.3), 0px 1px 3px 1px rgba(60, 64, 67, 0.15);\n",
              "      fill: #174EA6;\n",
              "    }\n",
              "\n",
              "    [theme=dark] .colab-df-convert {\n",
              "      background-color: #3B4455;\n",
              "      fill: #D2E3FC;\n",
              "    }\n",
              "\n",
              "    [theme=dark] .colab-df-convert:hover {\n",
              "      background-color: #434B5C;\n",
              "      box-shadow: 0px 1px 3px 1px rgba(0, 0, 0, 0.15);\n",
              "      filter: drop-shadow(0px 1px 2px rgba(0, 0, 0, 0.3));\n",
              "      fill: #FFFFFF;\n",
              "    }\n",
              "  </style>\n",
              "\n",
              "      <script>\n",
              "        const buttonEl =\n",
              "          document.querySelector('#df-82ef1032-c43b-4713-a74d-9c2387117c1f button.colab-df-convert');\n",
              "        buttonEl.style.display =\n",
              "          google.colab.kernel.accessAllowed ? 'block' : 'none';\n",
              "\n",
              "        async function convertToInteractive(key) {\n",
              "          const element = document.querySelector('#df-82ef1032-c43b-4713-a74d-9c2387117c1f');\n",
              "          const dataTable =\n",
              "            await google.colab.kernel.invokeFunction('convertToInteractive',\n",
              "                                                     [key], {});\n",
              "          if (!dataTable) return;\n",
              "\n",
              "          const docLinkHtml = 'Like what you see? Visit the ' +\n",
              "            '<a target=\"_blank\" href=https://colab.research.google.com/notebooks/data_table.ipynb>data table notebook</a>'\n",
              "            + ' to learn more about interactive tables.';\n",
              "          element.innerHTML = '';\n",
              "          dataTable['output_type'] = 'display_data';\n",
              "          await google.colab.output.renderOutput(dataTable, element);\n",
              "          const docLink = document.createElement('div');\n",
              "          docLink.innerHTML = docLinkHtml;\n",
              "          element.appendChild(docLink);\n",
              "        }\n",
              "      </script>\n",
              "    </div>\n",
              "  </div>\n",
              "  "
            ]
          },
          "metadata": {},
          "execution_count": 77
        }
      ],
      "source": [
        "# Insert the polygon into 'geometry' -column at index 0\n",
        "newdata.loc[0, 'geometry'] = poly\n",
        "\n",
        "# Let's see what we have now\n",
        "newdata"
      ]
    },
    {
      "cell_type": "code",
      "execution_count": null,
      "id": "a035fc6f-1149-436c-9f27-537b20ff95fe",
      "metadata": {
        "id": "a035fc6f-1149-436c-9f27-537b20ff95fe",
        "outputId": "2311c2a6-7a0b-4c7e-8fc0-b494d24ce6e5",
        "colab": {
          "base_uri": "https://localhost:8080/",
          "height": 81
        }
      },
      "outputs": [
        {
          "output_type": "execute_result",
          "data": {
            "text/plain": [
              "                                            geometry\n",
              "0  POLYGON ((24.95090 60.16916, 24.95349 60.16916..."
            ],
            "text/html": [
              "\n",
              "  <div id=\"df-d963c1ed-f384-49ef-9459-490d6c620cb7\">\n",
              "    <div class=\"colab-df-container\">\n",
              "      <div>\n",
              "<style scoped>\n",
              "    .dataframe tbody tr th:only-of-type {\n",
              "        vertical-align: middle;\n",
              "    }\n",
              "\n",
              "    .dataframe tbody tr th {\n",
              "        vertical-align: top;\n",
              "    }\n",
              "\n",
              "    .dataframe thead th {\n",
              "        text-align: right;\n",
              "    }\n",
              "</style>\n",
              "<table border=\"1\" class=\"dataframe\">\n",
              "  <thead>\n",
              "    <tr style=\"text-align: right;\">\n",
              "      <th></th>\n",
              "      <th>geometry</th>\n",
              "    </tr>\n",
              "  </thead>\n",
              "  <tbody>\n",
              "    <tr>\n",
              "      <th>0</th>\n",
              "      <td>POLYGON ((24.95090 60.16916, 24.95349 60.16916...</td>\n",
              "    </tr>\n",
              "  </tbody>\n",
              "</table>\n",
              "</div>\n",
              "      <button class=\"colab-df-convert\" onclick=\"convertToInteractive('df-d963c1ed-f384-49ef-9459-490d6c620cb7')\"\n",
              "              title=\"Convert this dataframe to an interactive table.\"\n",
              "              style=\"display:none;\">\n",
              "        \n",
              "  <svg xmlns=\"http://www.w3.org/2000/svg\" height=\"24px\"viewBox=\"0 0 24 24\"\n",
              "       width=\"24px\">\n",
              "    <path d=\"M0 0h24v24H0V0z\" fill=\"none\"/>\n",
              "    <path d=\"M18.56 5.44l.94 2.06.94-2.06 2.06-.94-2.06-.94-.94-2.06-.94 2.06-2.06.94zm-11 1L8.5 8.5l.94-2.06 2.06-.94-2.06-.94L8.5 2.5l-.94 2.06-2.06.94zm10 10l.94 2.06.94-2.06 2.06-.94-2.06-.94-.94-2.06-.94 2.06-2.06.94z\"/><path d=\"M17.41 7.96l-1.37-1.37c-.4-.4-.92-.59-1.43-.59-.52 0-1.04.2-1.43.59L10.3 9.45l-7.72 7.72c-.78.78-.78 2.05 0 2.83L4 21.41c.39.39.9.59 1.41.59.51 0 1.02-.2 1.41-.59l7.78-7.78 2.81-2.81c.8-.78.8-2.07 0-2.86zM5.41 20L4 18.59l7.72-7.72 1.47 1.35L5.41 20z\"/>\n",
              "  </svg>\n",
              "      </button>\n",
              "      \n",
              "  <style>\n",
              "    .colab-df-container {\n",
              "      display:flex;\n",
              "      flex-wrap:wrap;\n",
              "      gap: 12px;\n",
              "    }\n",
              "\n",
              "    .colab-df-convert {\n",
              "      background-color: #E8F0FE;\n",
              "      border: none;\n",
              "      border-radius: 50%;\n",
              "      cursor: pointer;\n",
              "      display: none;\n",
              "      fill: #1967D2;\n",
              "      height: 32px;\n",
              "      padding: 0 0 0 0;\n",
              "      width: 32px;\n",
              "    }\n",
              "\n",
              "    .colab-df-convert:hover {\n",
              "      background-color: #E2EBFA;\n",
              "      box-shadow: 0px 1px 2px rgba(60, 64, 67, 0.3), 0px 1px 3px 1px rgba(60, 64, 67, 0.15);\n",
              "      fill: #174EA6;\n",
              "    }\n",
              "\n",
              "    [theme=dark] .colab-df-convert {\n",
              "      background-color: #3B4455;\n",
              "      fill: #D2E3FC;\n",
              "    }\n",
              "\n",
              "    [theme=dark] .colab-df-convert:hover {\n",
              "      background-color: #434B5C;\n",
              "      box-shadow: 0px 1px 3px 1px rgba(0, 0, 0, 0.15);\n",
              "      filter: drop-shadow(0px 1px 2px rgba(0, 0, 0, 0.3));\n",
              "      fill: #FFFFFF;\n",
              "    }\n",
              "  </style>\n",
              "\n",
              "      <script>\n",
              "        const buttonEl =\n",
              "          document.querySelector('#df-d963c1ed-f384-49ef-9459-490d6c620cb7 button.colab-df-convert');\n",
              "        buttonEl.style.display =\n",
              "          google.colab.kernel.accessAllowed ? 'block' : 'none';\n",
              "\n",
              "        async function convertToInteractive(key) {\n",
              "          const element = document.querySelector('#df-d963c1ed-f384-49ef-9459-490d6c620cb7');\n",
              "          const dataTable =\n",
              "            await google.colab.kernel.invokeFunction('convertToInteractive',\n",
              "                                                     [key], {});\n",
              "          if (!dataTable) return;\n",
              "\n",
              "          const docLinkHtml = 'Like what you see? Visit the ' +\n",
              "            '<a target=\"_blank\" href=https://colab.research.google.com/notebooks/data_table.ipynb>data table notebook</a>'\n",
              "            + ' to learn more about interactive tables.';\n",
              "          element.innerHTML = '';\n",
              "          dataTable['output_type'] = 'display_data';\n",
              "          await google.colab.output.renderOutput(dataTable, element);\n",
              "          const docLink = document.createElement('div');\n",
              "          docLink.innerHTML = docLinkHtml;\n",
              "          element.appendChild(docLink);\n",
              "        }\n",
              "      </script>\n",
              "    </div>\n",
              "  </div>\n",
              "  "
            ]
          },
          "metadata": {},
          "execution_count": 50
        }
      ],
      "source": [
        "newdata"
      ]
    },
    {
      "cell_type": "markdown",
      "id": "98400110-6519-4422-83fa-39d54d6740aa",
      "metadata": {
        "id": "98400110-6519-4422-83fa-39d54d6740aa"
      },
      "source": [
        "Now we have a GeoDataFrame with Polygon that we can export to a Shapefile.\n",
        "\n",
        "Let’s add another column to our GeoDataFrame called Location with text Senaatintori."
      ]
    },
    {
      "cell_type": "code",
      "execution_count": null,
      "id": "bff22229",
      "metadata": {
        "jupyter": {
          "outputs_hidden": false
        },
        "id": "bff22229",
        "outputId": "a10d6aa0-43d9-4065-e57d-084d5fef4cfb",
        "colab": {
          "base_uri": "https://localhost:8080/",
          "height": 81
        }
      },
      "outputs": [
        {
          "output_type": "execute_result",
          "data": {
            "text/plain": [
              "                                            geometry      Location\n",
              "0  POLYGON ((24.95090 60.16916, 24.95349 60.16916...  Senaatintori"
            ],
            "text/html": [
              "\n",
              "  <div id=\"df-f9040eb2-a4a3-44d9-9f08-816c958f7a13\">\n",
              "    <div class=\"colab-df-container\">\n",
              "      <div>\n",
              "<style scoped>\n",
              "    .dataframe tbody tr th:only-of-type {\n",
              "        vertical-align: middle;\n",
              "    }\n",
              "\n",
              "    .dataframe tbody tr th {\n",
              "        vertical-align: top;\n",
              "    }\n",
              "\n",
              "    .dataframe thead th {\n",
              "        text-align: right;\n",
              "    }\n",
              "</style>\n",
              "<table border=\"1\" class=\"dataframe\">\n",
              "  <thead>\n",
              "    <tr style=\"text-align: right;\">\n",
              "      <th></th>\n",
              "      <th>geometry</th>\n",
              "      <th>Location</th>\n",
              "    </tr>\n",
              "  </thead>\n",
              "  <tbody>\n",
              "    <tr>\n",
              "      <th>0</th>\n",
              "      <td>POLYGON ((24.95090 60.16916, 24.95349 60.16916...</td>\n",
              "      <td>Senaatintori</td>\n",
              "    </tr>\n",
              "  </tbody>\n",
              "</table>\n",
              "</div>\n",
              "      <button class=\"colab-df-convert\" onclick=\"convertToInteractive('df-f9040eb2-a4a3-44d9-9f08-816c958f7a13')\"\n",
              "              title=\"Convert this dataframe to an interactive table.\"\n",
              "              style=\"display:none;\">\n",
              "        \n",
              "  <svg xmlns=\"http://www.w3.org/2000/svg\" height=\"24px\"viewBox=\"0 0 24 24\"\n",
              "       width=\"24px\">\n",
              "    <path d=\"M0 0h24v24H0V0z\" fill=\"none\"/>\n",
              "    <path d=\"M18.56 5.44l.94 2.06.94-2.06 2.06-.94-2.06-.94-.94-2.06-.94 2.06-2.06.94zm-11 1L8.5 8.5l.94-2.06 2.06-.94-2.06-.94L8.5 2.5l-.94 2.06-2.06.94zm10 10l.94 2.06.94-2.06 2.06-.94-2.06-.94-.94-2.06-.94 2.06-2.06.94z\"/><path d=\"M17.41 7.96l-1.37-1.37c-.4-.4-.92-.59-1.43-.59-.52 0-1.04.2-1.43.59L10.3 9.45l-7.72 7.72c-.78.78-.78 2.05 0 2.83L4 21.41c.39.39.9.59 1.41.59.51 0 1.02-.2 1.41-.59l7.78-7.78 2.81-2.81c.8-.78.8-2.07 0-2.86zM5.41 20L4 18.59l7.72-7.72 1.47 1.35L5.41 20z\"/>\n",
              "  </svg>\n",
              "      </button>\n",
              "      \n",
              "  <style>\n",
              "    .colab-df-container {\n",
              "      display:flex;\n",
              "      flex-wrap:wrap;\n",
              "      gap: 12px;\n",
              "    }\n",
              "\n",
              "    .colab-df-convert {\n",
              "      background-color: #E8F0FE;\n",
              "      border: none;\n",
              "      border-radius: 50%;\n",
              "      cursor: pointer;\n",
              "      display: none;\n",
              "      fill: #1967D2;\n",
              "      height: 32px;\n",
              "      padding: 0 0 0 0;\n",
              "      width: 32px;\n",
              "    }\n",
              "\n",
              "    .colab-df-convert:hover {\n",
              "      background-color: #E2EBFA;\n",
              "      box-shadow: 0px 1px 2px rgba(60, 64, 67, 0.3), 0px 1px 3px 1px rgba(60, 64, 67, 0.15);\n",
              "      fill: #174EA6;\n",
              "    }\n",
              "\n",
              "    [theme=dark] .colab-df-convert {\n",
              "      background-color: #3B4455;\n",
              "      fill: #D2E3FC;\n",
              "    }\n",
              "\n",
              "    [theme=dark] .colab-df-convert:hover {\n",
              "      background-color: #434B5C;\n",
              "      box-shadow: 0px 1px 3px 1px rgba(0, 0, 0, 0.15);\n",
              "      filter: drop-shadow(0px 1px 2px rgba(0, 0, 0, 0.3));\n",
              "      fill: #FFFFFF;\n",
              "    }\n",
              "  </style>\n",
              "\n",
              "      <script>\n",
              "        const buttonEl =\n",
              "          document.querySelector('#df-f9040eb2-a4a3-44d9-9f08-816c958f7a13 button.colab-df-convert');\n",
              "        buttonEl.style.display =\n",
              "          google.colab.kernel.accessAllowed ? 'block' : 'none';\n",
              "\n",
              "        async function convertToInteractive(key) {\n",
              "          const element = document.querySelector('#df-f9040eb2-a4a3-44d9-9f08-816c958f7a13');\n",
              "          const dataTable =\n",
              "            await google.colab.kernel.invokeFunction('convertToInteractive',\n",
              "                                                     [key], {});\n",
              "          if (!dataTable) return;\n",
              "\n",
              "          const docLinkHtml = 'Like what you see? Visit the ' +\n",
              "            '<a target=\"_blank\" href=https://colab.research.google.com/notebooks/data_table.ipynb>data table notebook</a>'\n",
              "            + ' to learn more about interactive tables.';\n",
              "          element.innerHTML = '';\n",
              "          dataTable['output_type'] = 'display_data';\n",
              "          await google.colab.output.renderOutput(dataTable, element);\n",
              "          const docLink = document.createElement('div');\n",
              "          docLink.innerHTML = docLinkHtml;\n",
              "          element.appendChild(docLink);\n",
              "        }\n",
              "      </script>\n",
              "    </div>\n",
              "  </div>\n",
              "  "
            ]
          },
          "metadata": {},
          "execution_count": 78
        }
      ],
      "source": [
        "# Add a new column and insert data\n",
        "newdata.loc[0, 'Location'] = 'Senaatintori'\n",
        "\n",
        "# Let's check the data\n",
        "newdata"
      ]
    },
    {
      "cell_type": "markdown",
      "id": "237b04ca",
      "metadata": {
        "id": "237b04ca"
      },
      "source": [
        "There it is! Now we have two columns in our data; one representing the geometry and another with additional attribute information. From here, you could proceed into adding additional rows of data, or printing out the data to a file."
      ]
    },
    {
      "cell_type": "markdown",
      "source": [
        "Before exporting the data it is useful to determine the coordinate reference system (projection) for the GeoDataFrame.\n",
        "\n",
        "GeoDataFrame has a property called .crs that (more about projection on next section) shows the coordinate system of the data which is empty (None) in our case since we are creating the data from the scratch:"
      ],
      "metadata": {
        "id": "QZnaUBmmc6SR"
      },
      "id": "QZnaUBmmc6SR"
    },
    {
      "cell_type": "code",
      "source": [
        "print(newdata.crs)"
      ],
      "metadata": {
        "colab": {
          "base_uri": "https://localhost:8080/"
        },
        "id": "HzB31wgjc_e7",
        "outputId": "4f4f6142-a842-4b63-d371-cbad65edc73d"
      },
      "id": "HzB31wgjc_e7",
      "execution_count": null,
      "outputs": [
        {
          "output_type": "stream",
          "name": "stdout",
          "text": [
            "None\n"
          ]
        }
      ]
    },
    {
      "cell_type": "markdown",
      "source": [
        "Let’s add a crs for our GeoDataFrame. A Python module called fiona has a nice function called from_epsg() for passing coordinate system for the GeoDataFrame. Next we will use that and determine the projection to WGS84 (epsg code: 4326):\n"
      ],
      "metadata": {
        "id": "8V0LgSQbdE-B"
      },
      "id": "8V0LgSQbdE-B"
    },
    {
      "cell_type": "code",
      "source": [
        "# Import specific function 'from_epsg' from fiona module\n",
        "from fiona.crs import from_epsg\n",
        "\n",
        "# Set the GeoDataFrame's coordinate system to WGS84\n",
        "newdata.crs = from_epsg(4326)\n",
        "\n",
        "# Let's see how the crs definition looks like\n",
        "newdata.crs"
      ],
      "metadata": {
        "colab": {
          "base_uri": "https://localhost:8080/"
        },
        "id": "Mi92EgJldDHC",
        "outputId": "2fc7c2ac-e121-45a8-dd39-0153295acb4d"
      },
      "id": "Mi92EgJldDHC",
      "execution_count": null,
      "outputs": [
        {
          "output_type": "execute_result",
          "data": {
            "text/plain": [
              "<Geographic 2D CRS: EPSG:4326>\n",
              "Name: WGS 84\n",
              "Axis Info [ellipsoidal]:\n",
              "- Lat[north]: Geodetic latitude (degree)\n",
              "- Lon[east]: Geodetic longitude (degree)\n",
              "Area of Use:\n",
              "- undefined\n",
              "Datum: World Geodetic System 1984\n",
              "- Ellipsoid: WGS 84\n",
              "- Prime Meridian: Greenwich"
            ]
          },
          "metadata": {},
          "execution_count": 80
        }
      ]
    },
    {
      "cell_type": "markdown",
      "source": [
        "Finally, we can export the data using GeoDataFrames .to_file() -function. The function works similarly as numpy or pandas, but here we only need to provide the output path for the Shapefile. Easy isn’t it!:"
      ],
      "metadata": {
        "id": "gYVOItufdPJU"
      },
      "id": "gYVOItufdPJU"
    },
    {
      "cell_type": "code",
      "source": [
        "# Determine the output path for the Shapefile\n",
        "outfp = r\"Data/Senaatintori.shp\"\n",
        "\n",
        "# Write the data into that Shapefile\n",
        "newdata.to_file(outfp)"
      ],
      "metadata": {
        "id": "6W-JtKcXdOcj"
      },
      "id": "6W-JtKcXdOcj",
      "execution_count": null,
      "outputs": []
    },
    {
      "cell_type": "markdown",
      "source": [
        "Now we have successfully created a Shapefile from the scratch using only Python programming. Similar approach can be used to for example to read coordinates from a text file (e.g. points) and create Shapefiles from those automatically."
      ],
      "metadata": {
        "id": "15Uu6ct-ddMn"
      },
      "id": "15Uu6ct-ddMn"
    },
    {
      "cell_type": "markdown",
      "id": "4b527591",
      "metadata": {
        "id": "4b527591"
      },
      "source": [
        "# Working with Map Projections"
      ]
    },
    {
      "cell_type": "markdown",
      "source": [
        "Coordinate reference systems (CRS) are important because the geometric shapes in a GeoDataFrame are simply a collection of coordinates in an arbitrary space. A CRS tells Python how those coordinates related to places on the Earth. A map projection (or a projected coordinate system) is a systematic transformation of the latitudes and longitudes into a plain surface where units are quite commonly represented as meters (instead of decimal degrees)."
      ],
      "metadata": {
        "id": "DTGxhpe4etsu"
      },
      "id": "DTGxhpe4etsu"
    },
    {
      "cell_type": "markdown",
      "source": [
        "## Download data"
      ],
      "metadata": {
        "id": "PdA--RXthrZu"
      },
      "id": "PdA--RXthrZu"
    },
    {
      "cell_type": "markdown",
      "source": [
        "For this tutorial we will be using a Shapefile representing Europe. Download and extract [Europe_borders.zip](https://automating-gis-processes.github.io/CSC18/_static/data/L2/Europe_borders.zip) file that contains a Shapefile with following files:"
      ],
      "metadata": {
        "id": "NT0kmxJMe4i2"
      },
      "id": "NT0kmxJMe4i2"
    },
    {
      "cell_type": "code",
      "source": [
        "\n",
        "!unzip Europe_borders.zip\n",
        "!cd Europe_borders\n",
        "!ls"
      ],
      "metadata": {
        "id": "M3dDgHnDemoq"
      },
      "id": "M3dDgHnDemoq",
      "execution_count": null,
      "outputs": []
    },
    {
      "cell_type": "markdown",
      "source": [
        "## Coordinate reference system (CRS)"
      ],
      "metadata": {
        "id": "bndBlloUhu7a"
      },
      "id": "bndBlloUhu7a"
    },
    {
      "cell_type": "markdown",
      "source": [
        "GeoDataFrame that is read from a Shapefile contains always (well not always but should) information about the coordinate system in which the data is projected.\n",
        "\n",
        "Let’s start by reading the data from the Europe_borders.shp file."
      ],
      "metadata": {
        "id": "MPFhpTkAh2JZ"
      },
      "id": "MPFhpTkAh2JZ"
    },
    {
      "cell_type": "code",
      "source": [
        "# Filepath to the Europe borders Shapefile\n",
        "fp = \"Europe_borders.shp\"\n",
        "\n",
        "# Read data\n",
        "data = gpd.read_file(fp)\n"
      ],
      "metadata": {
        "id": "QN-2aNFVemyM"
      },
      "id": "QN-2aNFVemyM",
      "execution_count": null,
      "outputs": []
    },
    {
      "cell_type": "code",
      "source": [
        "data"
      ],
      "metadata": {
        "colab": {
          "base_uri": "https://localhost:8080/",
          "height": 424
        },
        "id": "LmxxtskPp_xZ",
        "outputId": "a2c0068d-999a-4818-f7d0-795e0c151581"
      },
      "id": "LmxxtskPp_xZ",
      "execution_count": null,
      "outputs": [
        {
          "output_type": "execute_result",
          "data": {
            "text/plain": [
              "                  TZID                                           geometry\n",
              "0        Europe/Berlin  POLYGON ((8.45778 54.56236, 8.44953 54.56269, ...\n",
              "1        Europe/Berlin  POLYGON ((8.71992 47.69664, 8.72092 47.69530, ...\n",
              "2        Europe/Berlin  POLYGON ((6.73317 53.57409, 6.73017 53.57542, ...\n",
              "3        Europe/Berlin  POLYGON ((6.85822 53.59411, 6.85592 53.59550, ...\n",
              "4        Europe/Berlin  POLYGON ((6.89894 53.62561, 6.88439 53.62814, ...\n",
              "...                ...                                                ...\n",
              "3627  Europe/Stockholm  POLYGON ((18.75422 59.49353, 18.74311 59.49050...\n",
              "3628  Europe/Stockholm  POLYGON ((18.84164 59.50605, 18.84028 59.50797...\n",
              "3629  Europe/Stockholm  POLYGON ((18.59995 59.45653, 18.59431 59.45964...\n",
              "3630      Europe/Minsk  POLYGON ((30.00000 51.48947, 29.99511 51.48572...\n",
              "3631  Europe/Gibraltar  POLYGON ((-5.34392 36.11253, -5.34717 36.11528...\n",
              "\n",
              "[3632 rows x 2 columns]"
            ],
            "text/html": [
              "\n",
              "  <div id=\"df-afa4e670-b2e0-409f-be55-264e9b750416\">\n",
              "    <div class=\"colab-df-container\">\n",
              "      <div>\n",
              "<style scoped>\n",
              "    .dataframe tbody tr th:only-of-type {\n",
              "        vertical-align: middle;\n",
              "    }\n",
              "\n",
              "    .dataframe tbody tr th {\n",
              "        vertical-align: top;\n",
              "    }\n",
              "\n",
              "    .dataframe thead th {\n",
              "        text-align: right;\n",
              "    }\n",
              "</style>\n",
              "<table border=\"1\" class=\"dataframe\">\n",
              "  <thead>\n",
              "    <tr style=\"text-align: right;\">\n",
              "      <th></th>\n",
              "      <th>TZID</th>\n",
              "      <th>geometry</th>\n",
              "    </tr>\n",
              "  </thead>\n",
              "  <tbody>\n",
              "    <tr>\n",
              "      <th>0</th>\n",
              "      <td>Europe/Berlin</td>\n",
              "      <td>POLYGON ((8.45778 54.56236, 8.44953 54.56269, ...</td>\n",
              "    </tr>\n",
              "    <tr>\n",
              "      <th>1</th>\n",
              "      <td>Europe/Berlin</td>\n",
              "      <td>POLYGON ((8.71992 47.69664, 8.72092 47.69530, ...</td>\n",
              "    </tr>\n",
              "    <tr>\n",
              "      <th>2</th>\n",
              "      <td>Europe/Berlin</td>\n",
              "      <td>POLYGON ((6.73317 53.57409, 6.73017 53.57542, ...</td>\n",
              "    </tr>\n",
              "    <tr>\n",
              "      <th>3</th>\n",
              "      <td>Europe/Berlin</td>\n",
              "      <td>POLYGON ((6.85822 53.59411, 6.85592 53.59550, ...</td>\n",
              "    </tr>\n",
              "    <tr>\n",
              "      <th>4</th>\n",
              "      <td>Europe/Berlin</td>\n",
              "      <td>POLYGON ((6.89894 53.62561, 6.88439 53.62814, ...</td>\n",
              "    </tr>\n",
              "    <tr>\n",
              "      <th>...</th>\n",
              "      <td>...</td>\n",
              "      <td>...</td>\n",
              "    </tr>\n",
              "    <tr>\n",
              "      <th>3627</th>\n",
              "      <td>Europe/Stockholm</td>\n",
              "      <td>POLYGON ((18.75422 59.49353, 18.74311 59.49050...</td>\n",
              "    </tr>\n",
              "    <tr>\n",
              "      <th>3628</th>\n",
              "      <td>Europe/Stockholm</td>\n",
              "      <td>POLYGON ((18.84164 59.50605, 18.84028 59.50797...</td>\n",
              "    </tr>\n",
              "    <tr>\n",
              "      <th>3629</th>\n",
              "      <td>Europe/Stockholm</td>\n",
              "      <td>POLYGON ((18.59995 59.45653, 18.59431 59.45964...</td>\n",
              "    </tr>\n",
              "    <tr>\n",
              "      <th>3630</th>\n",
              "      <td>Europe/Minsk</td>\n",
              "      <td>POLYGON ((30.00000 51.48947, 29.99511 51.48572...</td>\n",
              "    </tr>\n",
              "    <tr>\n",
              "      <th>3631</th>\n",
              "      <td>Europe/Gibraltar</td>\n",
              "      <td>POLYGON ((-5.34392 36.11253, -5.34717 36.11528...</td>\n",
              "    </tr>\n",
              "  </tbody>\n",
              "</table>\n",
              "<p>3632 rows × 2 columns</p>\n",
              "</div>\n",
              "      <button class=\"colab-df-convert\" onclick=\"convertToInteractive('df-afa4e670-b2e0-409f-be55-264e9b750416')\"\n",
              "              title=\"Convert this dataframe to an interactive table.\"\n",
              "              style=\"display:none;\">\n",
              "        \n",
              "  <svg xmlns=\"http://www.w3.org/2000/svg\" height=\"24px\"viewBox=\"0 0 24 24\"\n",
              "       width=\"24px\">\n",
              "    <path d=\"M0 0h24v24H0V0z\" fill=\"none\"/>\n",
              "    <path d=\"M18.56 5.44l.94 2.06.94-2.06 2.06-.94-2.06-.94-.94-2.06-.94 2.06-2.06.94zm-11 1L8.5 8.5l.94-2.06 2.06-.94-2.06-.94L8.5 2.5l-.94 2.06-2.06.94zm10 10l.94 2.06.94-2.06 2.06-.94-2.06-.94-.94-2.06-.94 2.06-2.06.94z\"/><path d=\"M17.41 7.96l-1.37-1.37c-.4-.4-.92-.59-1.43-.59-.52 0-1.04.2-1.43.59L10.3 9.45l-7.72 7.72c-.78.78-.78 2.05 0 2.83L4 21.41c.39.39.9.59 1.41.59.51 0 1.02-.2 1.41-.59l7.78-7.78 2.81-2.81c.8-.78.8-2.07 0-2.86zM5.41 20L4 18.59l7.72-7.72 1.47 1.35L5.41 20z\"/>\n",
              "  </svg>\n",
              "      </button>\n",
              "      \n",
              "  <style>\n",
              "    .colab-df-container {\n",
              "      display:flex;\n",
              "      flex-wrap:wrap;\n",
              "      gap: 12px;\n",
              "    }\n",
              "\n",
              "    .colab-df-convert {\n",
              "      background-color: #E8F0FE;\n",
              "      border: none;\n",
              "      border-radius: 50%;\n",
              "      cursor: pointer;\n",
              "      display: none;\n",
              "      fill: #1967D2;\n",
              "      height: 32px;\n",
              "      padding: 0 0 0 0;\n",
              "      width: 32px;\n",
              "    }\n",
              "\n",
              "    .colab-df-convert:hover {\n",
              "      background-color: #E2EBFA;\n",
              "      box-shadow: 0px 1px 2px rgba(60, 64, 67, 0.3), 0px 1px 3px 1px rgba(60, 64, 67, 0.15);\n",
              "      fill: #174EA6;\n",
              "    }\n",
              "\n",
              "    [theme=dark] .colab-df-convert {\n",
              "      background-color: #3B4455;\n",
              "      fill: #D2E3FC;\n",
              "    }\n",
              "\n",
              "    [theme=dark] .colab-df-convert:hover {\n",
              "      background-color: #434B5C;\n",
              "      box-shadow: 0px 1px 3px 1px rgba(0, 0, 0, 0.15);\n",
              "      filter: drop-shadow(0px 1px 2px rgba(0, 0, 0, 0.3));\n",
              "      fill: #FFFFFF;\n",
              "    }\n",
              "  </style>\n",
              "\n",
              "      <script>\n",
              "        const buttonEl =\n",
              "          document.querySelector('#df-afa4e670-b2e0-409f-be55-264e9b750416 button.colab-df-convert');\n",
              "        buttonEl.style.display =\n",
              "          google.colab.kernel.accessAllowed ? 'block' : 'none';\n",
              "\n",
              "        async function convertToInteractive(key) {\n",
              "          const element = document.querySelector('#df-afa4e670-b2e0-409f-be55-264e9b750416');\n",
              "          const dataTable =\n",
              "            await google.colab.kernel.invokeFunction('convertToInteractive',\n",
              "                                                     [key], {});\n",
              "          if (!dataTable) return;\n",
              "\n",
              "          const docLinkHtml = 'Like what you see? Visit the ' +\n",
              "            '<a target=\"_blank\" href=https://colab.research.google.com/notebooks/data_table.ipynb>data table notebook</a>'\n",
              "            + ' to learn more about interactive tables.';\n",
              "          element.innerHTML = '';\n",
              "          dataTable['output_type'] = 'display_data';\n",
              "          await google.colab.output.renderOutput(dataTable, element);\n",
              "          const docLink = document.createElement('div');\n",
              "          docLink.innerHTML = docLinkHtml;\n",
              "          element.appendChild(docLink);\n",
              "        }\n",
              "      </script>\n",
              "    </div>\n",
              "  </div>\n",
              "  "
            ]
          },
          "metadata": {},
          "execution_count": 82
        }
      ]
    },
    {
      "cell_type": "markdown",
      "source": [
        "We can see the current coordinate reference system from .crs attribute:"
      ],
      "metadata": {
        "id": "Q1Cin5iXiHix"
      },
      "id": "Q1Cin5iXiHix"
    },
    {
      "cell_type": "code",
      "source": [
        "data.crs"
      ],
      "metadata": {
        "colab": {
          "base_uri": "https://localhost:8080/"
        },
        "id": "EypoFB6kem04",
        "outputId": "d9d2cb06-add9-4b41-fb69-d1e8e9f4a53e"
      },
      "id": "EypoFB6kem04",
      "execution_count": null,
      "outputs": [
        {
          "output_type": "execute_result",
          "data": {
            "text/plain": [
              "<Geographic 2D CRS: EPSG:4326>\n",
              "Name: WGS 84\n",
              "Axis Info [ellipsoidal]:\n",
              "- Lat[north]: Geodetic latitude (degree)\n",
              "- Lon[east]: Geodetic longitude (degree)\n",
              "Area of Use:\n",
              "- name: World.\n",
              "- bounds: (-180.0, -90.0, 180.0, 90.0)\n",
              "Datum: World Geodetic System 1984 ensemble\n",
              "- Ellipsoid: WGS 84\n",
              "- Prime Meridian: Greenwich"
            ]
          },
          "metadata": {},
          "execution_count": 83
        }
      ]
    },
    {
      "cell_type": "markdown",
      "source": [
        "Okey, so from this disctionary we can see that the data is something called epsg:4326. The EPSG number (“European Petroleum Survey Group”) is a code that tells about the coordinate system of the dataset. “EPSG Geodetic Parameter Dataset is a collection of definitions of coordinate reference systems and coordinate transformations which may be global, regional, national or local in application”. EPSG-number 4326 that we have here belongs to the WGS84 coordinate system (i.e. coordinates are in decimal degrees (lat, lon)).\n",
        "\n",
        "You can find a lot of information about different available coordinate reference systems from:\n",
        "\n",
        "* www.spatialreference.org\n",
        "* www.proj4.org\n",
        "* www.mapref.org\n",
        "\n",
        "Let’s also check the values in our geometry column."
      ],
      "metadata": {
        "id": "OBdjpmfTiL-0"
      },
      "id": "OBdjpmfTiL-0"
    },
    {
      "cell_type": "code",
      "source": [
        "data['geometry'].head()"
      ],
      "metadata": {
        "colab": {
          "base_uri": "https://localhost:8080/"
        },
        "id": "b6Z2FmkXem3T",
        "outputId": "77d4428b-9508-4a7d-ecaa-a4e443e8315a"
      },
      "id": "b6Z2FmkXem3T",
      "execution_count": null,
      "outputs": [
        {
          "output_type": "execute_result",
          "data": {
            "text/plain": [
              "0    POLYGON ((8.45778 54.56236, 8.44953 54.56269, ...\n",
              "1    POLYGON ((8.71992 47.69664, 8.72092 47.69530, ...\n",
              "2    POLYGON ((6.73317 53.57409, 6.73017 53.57542, ...\n",
              "3    POLYGON ((6.85822 53.59411, 6.85592 53.59550, ...\n",
              "4    POLYGON ((6.89894 53.62561, 6.88439 53.62814, ...\n",
              "Name: geometry, dtype: geometry"
            ]
          },
          "metadata": {},
          "execution_count": 84
        }
      ]
    },
    {
      "cell_type": "markdown",
      "source": [
        "Okey, so the coordinate values of the Polygons indeed look like lat-lon values.\n",
        "\n",
        "Let’s convert those geometries into Lambert Azimuthal Equal Area projection (EPSG: 3035). Changing the projection is really easy to do in Geopandas with .to_crs() -function. As an input for the function, you should define the column containing the geometries, i.e. geometry in this case, and a epgs value of the projection that you want to use."
      ],
      "metadata": {
        "id": "fZNO3yTKijXQ"
      },
      "id": "fZNO3yTKijXQ"
    },
    {
      "cell_type": "code",
      "source": [
        "# Let's take a copy of our layer\n",
        "data_proj = data.copy()\n",
        "\n",
        "# Reproject the geometries by replacing the values with projected ones\n",
        "data_proj = data_proj.to_crs(epsg=3035)"
      ],
      "metadata": {
        "id": "UN2W-3mwijzX"
      },
      "id": "UN2W-3mwijzX",
      "execution_count": null,
      "outputs": []
    },
    {
      "cell_type": "code",
      "source": [
        "data_proj['geometry'].head()"
      ],
      "metadata": {
        "colab": {
          "base_uri": "https://localhost:8080/"
        },
        "id": "TQs0drHUij52",
        "outputId": "f9e994d1-9117-4cc7-90ec-a7c24dd2037a"
      },
      "id": "TQs0drHUij52",
      "execution_count": null,
      "outputs": [
        {
          "output_type": "execute_result",
          "data": {
            "text/plain": [
              "0    POLYGON ((4221214.558 3496203.404, 4220681.651...\n",
              "1    POLYGON ((4224860.478 2732279.320, 4224932.819...\n",
              "2    POLYGON ((4104652.176 3390034.953, 4104460.401...\n",
              "3    POLYGON ((4113025.664 3391895.756, 4112879.943...\n",
              "4    POLYGON ((4115871.228 3395282.099, 4114921.348...\n",
              "Name: geometry, dtype: geometry"
            ]
          },
          "metadata": {},
          "execution_count": 86
        }
      ]
    },
    {
      "cell_type": "markdown",
      "source": [
        "And here we go, the numbers have changed! Now we have successfully changed the projection of our layer into a new one, i.e. to ETRS-LAEA projection.\n",
        "\n",
        "To really understand what is going on, it is good to explore our data visually. Hence, let’s compare the datasets by making maps out of them."
      ],
      "metadata": {
        "id": "jO6JXsq6iyVg"
      },
      "id": "jO6JXsq6iyVg"
    },
    {
      "cell_type": "code",
      "source": [
        "import matplotlib.pyplot as plt\n",
        "\n",
        "# Plot the WGS84\n",
        "data.plot(facecolor='gray');\n",
        "\n",
        "# Add title\n",
        "plt.title(\"WGS84 projection\");\n",
        "\n",
        "# Remove empty white space around the plot\n",
        "plt.tight_layout()\n",
        "\n",
        "# Plot the one with ETRS-LAEA projection\n",
        "data_proj.plot(facecolor='blue');\n",
        "\n",
        "# Add title\n",
        "plt.title(\"ETRS Lambert Azimuthal Equal Area projection\");\n",
        "\n",
        "# Remove empty white space around the plot\n",
        "plt.tight_layout()"
      ],
      "metadata": {
        "colab": {
          "base_uri": "https://localhost:8080/",
          "height": 957
        },
        "id": "d50fyNrqem5z",
        "outputId": "39075f88-0c4e-430b-c5b0-a50e8cf765a2"
      },
      "id": "d50fyNrqem5z",
      "execution_count": null,
      "outputs": [
        {
          "output_type": "display_data",
          "data": {
            "text/plain": [
              "<Figure size 640x480 with 1 Axes>"
            ],
            "image/png": "[encoded data removed]"
          },
          "metadata": {}
        },
        {
          "output_type": "display_data",
          "data": {
            "text/plain": [
              "<Figure size 640x480 with 1 Axes>"
            ],
            "image/png": "[encoded data removed]"
          },
          "metadata": {}
        }
      ]
    },
    {
      "cell_type": "markdown",
      "source": [
        "Indeed, they look quite different and our re-projected one looks much better in Europe as the areas especially in the north are more realistic and not so stretched as in WGS84.\n",
        "\n"
      ],
      "metadata": {
        "id": "om9gWvm_jFcN"
      },
      "id": "om9gWvm_jFcN"
    },
    {
      "cell_type": "markdown",
      "source": [
        "Next, we still need to change the crs of our GeoDataFrame into EPSG 3035 as now we only modified the values of the geometry column. We can take use of fiona’s from_epsg -function."
      ],
      "metadata": {
        "id": "Q3qshQfwjMlD"
      },
      "id": "Q3qshQfwjMlD"
    },
    {
      "cell_type": "code",
      "source": [
        "from fiona.crs import from_epsg\n",
        "\n",
        "# Determine the CRS of the GeoDataFrame\n",
        "data_proj.crs = from_epsg(3035)\n",
        "\n",
        "# Let's see what we have\n",
        "data_proj.crs"
      ],
      "metadata": {
        "colab": {
          "base_uri": "https://localhost:8080/"
        },
        "id": "IxZJexfBem8d",
        "outputId": "0d10e8e6-5a0c-40cc-feb8-9877cf23a83c"
      },
      "id": "IxZJexfBem8d",
      "execution_count": null,
      "outputs": [
        {
          "output_type": "execute_result",
          "data": {
            "text/plain": [
              "<Projected CRS: EPSG:3035>\n",
              "Name: ETRS89-extended / LAEA Europe\n",
              "Axis Info [cartesian]:\n",
              "- [north]: Northing (metre)\n",
              "- [east]: Easting (metre)\n",
              "Area of Use:\n",
              "- undefined\n",
              "Coordinate Operation:\n",
              "- name: unnamed\n",
              "- method: Lambert Azimuthal Equal Area\n",
              "Datum: European Terrestrial Reference System 1989\n",
              "- Ellipsoid: GRS 1980\n",
              "- Prime Meridian: Greenwich"
            ]
          },
          "metadata": {},
          "execution_count": 88
        }
      ]
    },
    {
      "cell_type": "markdown",
      "source": [
        "Finally, let’s save our projected layer into a Shapefile so that we can use it later."
      ],
      "metadata": {
        "id": "c0-3nGcsjXmJ"
      },
      "id": "c0-3nGcsjXmJ"
    },
    {
      "cell_type": "code",
      "source": [
        "# Ouput file path\n",
        "outfp = r\"/Europe_borders_epsg3035.shp\"\n",
        "\n",
        "# Save to disk\n",
        "data_proj.to_file(outfp)"
      ],
      "metadata": {
        "id": "qsh-Qdk5jX5_"
      },
      "id": "qsh-Qdk5jX5_",
      "execution_count": null,
      "outputs": []
    },
    {
      "cell_type": "markdown",
      "source": [
        "# Decoding\n",
        "\n",
        "Geocoding, i.e. converting addresses into coordinates or vice versa, is a really common GIS task. Luckily, in Python there are nice libraries that makes the geocoding really easy. One of the libraries that can do the geocoding for us is geopy that makes it easy to locate the coordinates of addresses, cities, countries, and landmarks across the globe using third-party geocoders and other data sources."
      ],
      "metadata": {
        "id": "McRXOtDGmA13"
      },
      "id": "McRXOtDGmA13"
    },
    {
      "cell_type": "markdown",
      "source": [
        "It is possible to do geocoding in Geopandas using its integrated functionalities of geopy. Geopandas has a function called geocode() that can geocode a list of addresses (strings) and return a GeoDataFrame containing the resulting point objects in geometry column. Nice, isn’t it! Let’s try this out.\n",
        "\n",
        "Download a text file called [addresses.txt](https://automating-gis-processes.github.io/CSC18/_static/data/L3/addresses.txt) that contains few addresses around Helsinki Region. The first rows of the data looks like following:\n",
        "\n",
        "\n",
        "    id;addr\n",
        "    1000;Itämerenkatu 14, 00101 Helsinki, Finland\n",
        "    1001;Kampinkuja 1, 00100 Helsinki, Finland\n",
        "    1002;Kaivokatu 8, 00101 Helsinki, Finland\n",
        "    1003;Hermannin rantatie 1, 00580 Helsinki, Finland\n"
      ],
      "metadata": {
        "id": "jLoPohmAmOMP"
      },
      "id": "jLoPohmAmOMP"
    },
    {
      "cell_type": "markdown",
      "source": [
        "We have an id for each row and an address on column addr.\n",
        "\n",
        "Let’s first read the data into a Pandas DataFrame using read_csv() -function:"
      ],
      "metadata": {
        "id": "LtcATXicm4Cb"
      },
      "id": "LtcATXicm4Cb"
    },
    {
      "cell_type": "code",
      "source": [
        "# Import necessary modules\n",
        "import pandas as pd\n",
        "import geopandas as gpd\n",
        "from shapely.geometry import Point\n",
        "\n",
        "# Filepath\n",
        "fp = \"addresses.txt\"\n",
        "\n",
        "# Read the data\n",
        "data = pd.read_csv(fp, sep=\";\")"
      ],
      "metadata": {
        "id": "-zgPYHrpmITd"
      },
      "id": "-zgPYHrpmITd",
      "execution_count": null,
      "outputs": []
    },
    {
      "cell_type": "code",
      "source": [
        "len(data)"
      ],
      "metadata": {
        "colab": {
          "base_uri": "https://localhost:8080/"
        },
        "id": "EQHnlg8-mIXk",
        "outputId": "c859163c-3dad-4985-87d2-35644df72198"
      },
      "id": "EQHnlg8-mIXk",
      "execution_count": null,
      "outputs": [
        {
          "output_type": "execute_result",
          "data": {
            "text/plain": [
              "34"
            ]
          },
          "metadata": {},
          "execution_count": 91
        }
      ]
    },
    {
      "cell_type": "code",
      "source": [
        "# Let's take a look of the data\n",
        "data.head()"
      ],
      "metadata": {
        "colab": {
          "base_uri": "https://localhost:8080/",
          "height": 206
        },
        "id": "a2GjBUsmmIaf",
        "outputId": "a0f36f7c-c64d-47a2-a138-58c947f49e25"
      },
      "id": "a2GjBUsmmIaf",
      "execution_count": null,
      "outputs": [
        {
          "output_type": "execute_result",
          "data": {
            "text/plain": [
              "     id                                           addr\n",
              "0  1000       Itämerenkatu 14, 00101 Helsinki, Finland\n",
              "1  1001          Kampinkuja 1, 00100 Helsinki, Finland\n",
              "2  1002           Kaivokatu 8, 00101 Helsinki, Finland\n",
              "3  1003  Hermannin rantatie 1, 00580 Helsinki, Finland\n",
              "4  1005     Tyynenmerenkatu 9, 00220 Helsinki, Finland"
            ],
            "text/html": [
              "\n",
              "  <div id=\"df-7f87b2f7-fffe-4379-9366-75855d3d0d90\">\n",
              "    <div class=\"colab-df-container\">\n",
              "      <div>\n",
              "<style scoped>\n",
              "    .dataframe tbody tr th:only-of-type {\n",
              "        vertical-align: middle;\n",
              "    }\n",
              "\n",
              "    .dataframe tbody tr th {\n",
              "        vertical-align: top;\n",
              "    }\n",
              "\n",
              "    .dataframe thead th {\n",
              "        text-align: right;\n",
              "    }\n",
              "</style>\n",
              "<table border=\"1\" class=\"dataframe\">\n",
              "  <thead>\n",
              "    <tr style=\"text-align: right;\">\n",
              "      <th></th>\n",
              "      <th>id</th>\n",
              "      <th>addr</th>\n",
              "    </tr>\n",
              "  </thead>\n",
              "  <tbody>\n",
              "    <tr>\n",
              "      <th>0</th>\n",
              "      <td>1000</td>\n",
              "      <td>Itämerenkatu 14, 00101 Helsinki, Finland</td>\n",
              "    </tr>\n",
              "    <tr>\n",
              "      <th>1</th>\n",
              "      <td>1001</td>\n",
              "      <td>Kampinkuja 1, 00100 Helsinki, Finland</td>\n",
              "    </tr>\n",
              "    <tr>\n",
              "      <th>2</th>\n",
              "      <td>1002</td>\n",
              "      <td>Kaivokatu 8, 00101 Helsinki, Finland</td>\n",
              "    </tr>\n",
              "    <tr>\n",
              "      <th>3</th>\n",
              "      <td>1003</td>\n",
              "      <td>Hermannin rantatie 1, 00580 Helsinki, Finland</td>\n",
              "    </tr>\n",
              "    <tr>\n",
              "      <th>4</th>\n",
              "      <td>1005</td>\n",
              "      <td>Tyynenmerenkatu 9, 00220 Helsinki, Finland</td>\n",
              "    </tr>\n",
              "  </tbody>\n",
              "</table>\n",
              "</div>\n",
              "      <button class=\"colab-df-convert\" onclick=\"convertToInteractive('df-7f87b2f7-fffe-4379-9366-75855d3d0d90')\"\n",
              "              title=\"Convert this dataframe to an interactive table.\"\n",
              "              style=\"display:none;\">\n",
              "        \n",
              "  <svg xmlns=\"http://www.w3.org/2000/svg\" height=\"24px\"viewBox=\"0 0 24 24\"\n",
              "       width=\"24px\">\n",
              "    <path d=\"M0 0h24v24H0V0z\" fill=\"none\"/>\n",
              "    <path d=\"M18.56 5.44l.94 2.06.94-2.06 2.06-.94-2.06-.94-.94-2.06-.94 2.06-2.06.94zm-11 1L8.5 8.5l.94-2.06 2.06-.94-2.06-.94L8.5 2.5l-.94 2.06-2.06.94zm10 10l.94 2.06.94-2.06 2.06-.94-2.06-.94-.94-2.06-.94 2.06-2.06.94z\"/><path d=\"M17.41 7.96l-1.37-1.37c-.4-.4-.92-.59-1.43-.59-.52 0-1.04.2-1.43.59L10.3 9.45l-7.72 7.72c-.78.78-.78 2.05 0 2.83L4 21.41c.39.39.9.59 1.41.59.51 0 1.02-.2 1.41-.59l7.78-7.78 2.81-2.81c.8-.78.8-2.07 0-2.86zM5.41 20L4 18.59l7.72-7.72 1.47 1.35L5.41 20z\"/>\n",
              "  </svg>\n",
              "      </button>\n",
              "      \n",
              "  <style>\n",
              "    .colab-df-container {\n",
              "      display:flex;\n",
              "      flex-wrap:wrap;\n",
              "      gap: 12px;\n",
              "    }\n",
              "\n",
              "    .colab-df-convert {\n",
              "      background-color: #E8F0FE;\n",
              "      border: none;\n",
              "      border-radius: 50%;\n",
              "      cursor: pointer;\n",
              "      display: none;\n",
              "      fill: #1967D2;\n",
              "      height: 32px;\n",
              "      padding: 0 0 0 0;\n",
              "      width: 32px;\n",
              "    }\n",
              "\n",
              "    .colab-df-convert:hover {\n",
              "      background-color: #E2EBFA;\n",
              "      box-shadow: 0px 1px 2px rgba(60, 64, 67, 0.3), 0px 1px 3px 1px rgba(60, 64, 67, 0.15);\n",
              "      fill: #174EA6;\n",
              "    }\n",
              "\n",
              "    [theme=dark] .colab-df-convert {\n",
              "      background-color: #3B4455;\n",
              "      fill: #D2E3FC;\n",
              "    }\n",
              "\n",
              "    [theme=dark] .colab-df-convert:hover {\n",
              "      background-color: #434B5C;\n",
              "      box-shadow: 0px 1px 3px 1px rgba(0, 0, 0, 0.15);\n",
              "      filter: drop-shadow(0px 1px 2px rgba(0, 0, 0, 0.3));\n",
              "      fill: #FFFFFF;\n",
              "    }\n",
              "  </style>\n",
              "\n",
              "      <script>\n",
              "        const buttonEl =\n",
              "          document.querySelector('#df-7f87b2f7-fffe-4379-9366-75855d3d0d90 button.colab-df-convert');\n",
              "        buttonEl.style.display =\n",
              "          google.colab.kernel.accessAllowed ? 'block' : 'none';\n",
              "\n",
              "        async function convertToInteractive(key) {\n",
              "          const element = document.querySelector('#df-7f87b2f7-fffe-4379-9366-75855d3d0d90');\n",
              "          const dataTable =\n",
              "            await google.colab.kernel.invokeFunction('convertToInteractive',\n",
              "                                                     [key], {});\n",
              "          if (!dataTable) return;\n",
              "\n",
              "          const docLinkHtml = 'Like what you see? Visit the ' +\n",
              "            '<a target=\"_blank\" href=https://colab.research.google.com/notebooks/data_table.ipynb>data table notebook</a>'\n",
              "            + ' to learn more about interactive tables.';\n",
              "          element.innerHTML = '';\n",
              "          dataTable['output_type'] = 'display_data';\n",
              "          await google.colab.output.renderOutput(dataTable, element);\n",
              "          const docLink = document.createElement('div');\n",
              "          docLink.innerHTML = docLinkHtml;\n",
              "          element.appendChild(docLink);\n",
              "        }\n",
              "      </script>\n",
              "    </div>\n",
              "  </div>\n",
              "  "
            ]
          },
          "metadata": {},
          "execution_count": 92
        }
      ]
    },
    {
      "cell_type": "markdown",
      "source": [
        "Now we have our data in a Pandas DataFrame and we can geocode our addresses.\n",
        "\n"
      ],
      "metadata": {
        "id": "k-1Lpq5xnRME"
      },
      "id": "k-1Lpq5xnRME"
    },
    {
      "cell_type": "code",
      "source": [
        "# Import the geocoding tool\n",
        "from geopandas.tools import geocode\n",
        "\n",
        "# Geocode addresses using Nominatim.\n",
        "# You can provide your own\n",
        "geo = geocode(data[\"addr\"], provider=\"nominatim\", user_agent=\"pythongis_book\", timeout=10)"
      ],
      "metadata": {
        "id": "msNDli0BmId0"
      },
      "id": "msNDli0BmId0",
      "execution_count": null,
      "outputs": []
    },
    {
      "cell_type": "code",
      "source": [
        "geocode?"
      ],
      "metadata": {
        "id": "25mzXZc9ZzNW"
      },
      "id": "25mzXZc9ZzNW",
      "execution_count": null,
      "outputs": []
    },
    {
      "cell_type": "code",
      "source": [
        "geo.head(2)"
      ],
      "metadata": {
        "colab": {
          "base_uri": "https://localhost:8080/",
          "height": 112
        },
        "id": "lchYBXVKmIfd",
        "outputId": "e12b1fda-77f8-4c28-b6d7-afb63f9a7e81"
      },
      "id": "lchYBXVKmIfd",
      "execution_count": null,
      "outputs": [
        {
          "output_type": "execute_result",
          "data": {
            "text/plain": [
              "                    geometry  \\\n",
              "0  POINT (24.91556 60.16320)   \n",
              "1  POINT (24.93166 60.16905)   \n",
              "\n",
              "                                             address  \n",
              "0  Ruoholahti, 14, Itämerenkatu, Salmisaari, Ruoh...  \n",
              "1  Kamppi, 1, Kampinkuja, Kamppi, Eteläinen suurp...  "
            ],
            "text/html": [
              "\n",
              "  <div id=\"df-45112b0c-9d10-490f-a702-64a613d13fc6\">\n",
              "    <div class=\"colab-df-container\">\n",
              "      <div>\n",
              "<style scoped>\n",
              "    .dataframe tbody tr th:only-of-type {\n",
              "        vertical-align: middle;\n",
              "    }\n",
              "\n",
              "    .dataframe tbody tr th {\n",
              "        vertical-align: top;\n",
              "    }\n",
              "\n",
              "    .dataframe thead th {\n",
              "        text-align: right;\n",
              "    }\n",
              "</style>\n",
              "<table border=\"1\" class=\"dataframe\">\n",
              "  <thead>\n",
              "    <tr style=\"text-align: right;\">\n",
              "      <th></th>\n",
              "      <th>geometry</th>\n",
              "      <th>address</th>\n",
              "    </tr>\n",
              "  </thead>\n",
              "  <tbody>\n",
              "    <tr>\n",
              "      <th>0</th>\n",
              "      <td>POINT (24.91556 60.16320)</td>\n",
              "      <td>Ruoholahti, 14, Itämerenkatu, Salmisaari, Ruoh...</td>\n",
              "    </tr>\n",
              "    <tr>\n",
              "      <th>1</th>\n",
              "      <td>POINT (24.93166 60.16905)</td>\n",
              "      <td>Kamppi, 1, Kampinkuja, Kamppi, Eteläinen suurp...</td>\n",
              "    </tr>\n",
              "  </tbody>\n",
              "</table>\n",
              "</div>\n",
              "      <button class=\"colab-df-convert\" onclick=\"convertToInteractive('df-45112b0c-9d10-490f-a702-64a613d13fc6')\"\n",
              "              title=\"Convert this dataframe to an interactive table.\"\n",
              "              style=\"display:none;\">\n",
              "        \n",
              "  <svg xmlns=\"http://www.w3.org/2000/svg\" height=\"24px\"viewBox=\"0 0 24 24\"\n",
              "       width=\"24px\">\n",
              "    <path d=\"M0 0h24v24H0V0z\" fill=\"none\"/>\n",
              "    <path d=\"M18.56 5.44l.94 2.06.94-2.06 2.06-.94-2.06-.94-.94-2.06-.94 2.06-2.06.94zm-11 1L8.5 8.5l.94-2.06 2.06-.94-2.06-.94L8.5 2.5l-.94 2.06-2.06.94zm10 10l.94 2.06.94-2.06 2.06-.94-2.06-.94-.94-2.06-.94 2.06-2.06.94z\"/><path d=\"M17.41 7.96l-1.37-1.37c-.4-.4-.92-.59-1.43-.59-.52 0-1.04.2-1.43.59L10.3 9.45l-7.72 7.72c-.78.78-.78 2.05 0 2.83L4 21.41c.39.39.9.59 1.41.59.51 0 1.02-.2 1.41-.59l7.78-7.78 2.81-2.81c.8-.78.8-2.07 0-2.86zM5.41 20L4 18.59l7.72-7.72 1.47 1.35L5.41 20z\"/>\n",
              "  </svg>\n",
              "      </button>\n",
              "      \n",
              "  <style>\n",
              "    .colab-df-container {\n",
              "      display:flex;\n",
              "      flex-wrap:wrap;\n",
              "      gap: 12px;\n",
              "    }\n",
              "\n",
              "    .colab-df-convert {\n",
              "      background-color: #E8F0FE;\n",
              "      border: none;\n",
              "      border-radius: 50%;\n",
              "      cursor: pointer;\n",
              "      display: none;\n",
              "      fill: #1967D2;\n",
              "      height: 32px;\n",
              "      padding: 0 0 0 0;\n",
              "      width: 32px;\n",
              "    }\n",
              "\n",
              "    .colab-df-convert:hover {\n",
              "      background-color: #E2EBFA;\n",
              "      box-shadow: 0px 1px 2px rgba(60, 64, 67, 0.3), 0px 1px 3px 1px rgba(60, 64, 67, 0.15);\n",
              "      fill: #174EA6;\n",
              "    }\n",
              "\n",
              "    [theme=dark] .colab-df-convert {\n",
              "      background-color: #3B4455;\n",
              "      fill: #D2E3FC;\n",
              "    }\n",
              "\n",
              "    [theme=dark] .colab-df-convert:hover {\n",
              "      background-color: #434B5C;\n",
              "      box-shadow: 0px 1px 3px 1px rgba(0, 0, 0, 0.15);\n",
              "      filter: drop-shadow(0px 1px 2px rgba(0, 0, 0, 0.3));\n",
              "      fill: #FFFFFF;\n",
              "    }\n",
              "  </style>\n",
              "\n",
              "      <script>\n",
              "        const buttonEl =\n",
              "          document.querySelector('#df-45112b0c-9d10-490f-a702-64a613d13fc6 button.colab-df-convert');\n",
              "        buttonEl.style.display =\n",
              "          google.colab.kernel.accessAllowed ? 'block' : 'none';\n",
              "\n",
              "        async function convertToInteractive(key) {\n",
              "          const element = document.querySelector('#df-45112b0c-9d10-490f-a702-64a613d13fc6');\n",
              "          const dataTable =\n",
              "            await google.colab.kernel.invokeFunction('convertToInteractive',\n",
              "                                                     [key], {});\n",
              "          if (!dataTable) return;\n",
              "\n",
              "          const docLinkHtml = 'Like what you see? Visit the ' +\n",
              "            '<a target=\"_blank\" href=https://colab.research.google.com/notebooks/data_table.ipynb>data table notebook</a>'\n",
              "            + ' to learn more about interactive tables.';\n",
              "          element.innerHTML = '';\n",
              "          dataTable['output_type'] = 'display_data';\n",
              "          await google.colab.output.renderOutput(dataTable, element);\n",
              "          const docLink = document.createElement('div');\n",
              "          docLink.innerHTML = docLinkHtml;\n",
              "          element.appendChild(docLink);\n",
              "        }\n",
              "      </script>\n",
              "    </div>\n",
              "  </div>\n",
              "  "
            ]
          },
          "metadata": {},
          "execution_count": 95
        }
      ]
    },
    {
      "cell_type": "markdown",
      "source": [
        "And Voilà! As a result we have a GeoDataFrame that contains our original address and a ‘geometry’ column containing Shapely Point -objects that we can use for exporting the addresses to a Shapefile for example. However, the id column is not there. Thus, we need to join the information from data into our new GeoDataFrame geo, thus making a Table Join.\n",
        "\n",
        "In this case, we can join the information using the .join() function because the original data frame and the geocoded output have an identical index and an identical number of rows."
      ],
      "metadata": {
        "id": "j5Jb7xZYnkGj"
      },
      "id": "j5Jb7xZYnkGj"
    },
    {
      "cell_type": "code",
      "source": [
        "join = geo.join(data)"
      ],
      "metadata": {
        "id": "PftZ2N6XmIg2"
      },
      "id": "PftZ2N6XmIg2",
      "execution_count": null,
      "outputs": []
    },
    {
      "cell_type": "code",
      "source": [
        "join.head()"
      ],
      "metadata": {
        "colab": {
          "base_uri": "https://localhost:8080/",
          "height": 206
        },
        "id": "cz432GNJmIid",
        "outputId": "e35dd751-7a4f-49ac-9899-c374aec3fc7d"
      },
      "id": "cz432GNJmIid",
      "execution_count": null,
      "outputs": [
        {
          "output_type": "execute_result",
          "data": {
            "text/plain": [
              "                    geometry  \\\n",
              "0  POINT (24.91556 60.16320)   \n",
              "1  POINT (24.93166 60.16905)   \n",
              "2  POINT (24.94168 60.16996)   \n",
              "3  POINT (24.97843 60.19024)   \n",
              "4  POINT (24.92151 60.15662)   \n",
              "\n",
              "                                             address    id  \\\n",
              "0  Ruoholahti, 14, Itämerenkatu, Salmisaari, Ruoh...  1000   \n",
              "1  Kamppi, 1, Kampinkuja, Kamppi, Eteläinen suurp...  1001   \n",
              "2  Bangkok9, 8, Kaivokatu, Keskusta, Kluuvi, Etel...  1002   \n",
              "3  Hermannin rantatie, Verkkosaari, Kalasatama, S...  1003   \n",
              "4  9, Tyynenmerenkatu, Jätkäsaari, Länsisatama, E...  1005   \n",
              "\n",
              "                                            addr  \n",
              "0       Itämerenkatu 14, 00101 Helsinki, Finland  \n",
              "1          Kampinkuja 1, 00100 Helsinki, Finland  \n",
              "2           Kaivokatu 8, 00101 Helsinki, Finland  \n",
              "3  Hermannin rantatie 1, 00580 Helsinki, Finland  \n",
              "4     Tyynenmerenkatu 9, 00220 Helsinki, Finland  "
            ],
            "text/html": [
              "\n",
              "  <div id=\"df-6897d229-2bf6-4161-a464-3a73c8704116\">\n",
              "    <div class=\"colab-df-container\">\n",
              "      <div>\n",
              "<style scoped>\n",
              "    .dataframe tbody tr th:only-of-type {\n",
              "        vertical-align: middle;\n",
              "    }\n",
              "\n",
              "    .dataframe tbody tr th {\n",
              "        vertical-align: top;\n",
              "    }\n",
              "\n",
              "    .dataframe thead th {\n",
              "        text-align: right;\n",
              "    }\n",
              "</style>\n",
              "<table border=\"1\" class=\"dataframe\">\n",
              "  <thead>\n",
              "    <tr style=\"text-align: right;\">\n",
              "      <th></th>\n",
              "      <th>geometry</th>\n",
              "      <th>address</th>\n",
              "      <th>id</th>\n",
              "      <th>addr</th>\n",
              "    </tr>\n",
              "  </thead>\n",
              "  <tbody>\n",
              "    <tr>\n",
              "      <th>0</th>\n",
              "      <td>POINT (24.91556 60.16320)</td>\n",
              "      <td>Ruoholahti, 14, Itämerenkatu, Salmisaari, Ruoh...</td>\n",
              "      <td>1000</td>\n",
              "      <td>Itämerenkatu 14, 00101 Helsinki, Finland</td>\n",
              "    </tr>\n",
              "    <tr>\n",
              "      <th>1</th>\n",
              "      <td>POINT (24.93166 60.16905)</td>\n",
              "      <td>Kamppi, 1, Kampinkuja, Kamppi, Eteläinen suurp...</td>\n",
              "      <td>1001</td>\n",
              "      <td>Kampinkuja 1, 00100 Helsinki, Finland</td>\n",
              "    </tr>\n",
              "    <tr>\n",
              "      <th>2</th>\n",
              "      <td>POINT (24.94168 60.16996)</td>\n",
              "      <td>Bangkok9, 8, Kaivokatu, Keskusta, Kluuvi, Etel...</td>\n",
              "      <td>1002</td>\n",
              "      <td>Kaivokatu 8, 00101 Helsinki, Finland</td>\n",
              "    </tr>\n",
              "    <tr>\n",
              "      <th>3</th>\n",
              "      <td>POINT (24.97843 60.19024)</td>\n",
              "      <td>Hermannin rantatie, Verkkosaari, Kalasatama, S...</td>\n",
              "      <td>1003</td>\n",
              "      <td>Hermannin rantatie 1, 00580 Helsinki, Finland</td>\n",
              "    </tr>\n",
              "    <tr>\n",
              "      <th>4</th>\n",
              "      <td>POINT (24.92151 60.15662)</td>\n",
              "      <td>9, Tyynenmerenkatu, Jätkäsaari, Länsisatama, E...</td>\n",
              "      <td>1005</td>\n",
              "      <td>Tyynenmerenkatu 9, 00220 Helsinki, Finland</td>\n",
              "    </tr>\n",
              "  </tbody>\n",
              "</table>\n",
              "</div>\n",
              "      <button class=\"colab-df-convert\" onclick=\"convertToInteractive('df-6897d229-2bf6-4161-a464-3a73c8704116')\"\n",
              "              title=\"Convert this dataframe to an interactive table.\"\n",
              "              style=\"display:none;\">\n",
              "        \n",
              "  <svg xmlns=\"http://www.w3.org/2000/svg\" height=\"24px\"viewBox=\"0 0 24 24\"\n",
              "       width=\"24px\">\n",
              "    <path d=\"M0 0h24v24H0V0z\" fill=\"none\"/>\n",
              "    <path d=\"M18.56 5.44l.94 2.06.94-2.06 2.06-.94-2.06-.94-.94-2.06-.94 2.06-2.06.94zm-11 1L8.5 8.5l.94-2.06 2.06-.94-2.06-.94L8.5 2.5l-.94 2.06-2.06.94zm10 10l.94 2.06.94-2.06 2.06-.94-2.06-.94-.94-2.06-.94 2.06-2.06.94z\"/><path d=\"M17.41 7.96l-1.37-1.37c-.4-.4-.92-.59-1.43-.59-.52 0-1.04.2-1.43.59L10.3 9.45l-7.72 7.72c-.78.78-.78 2.05 0 2.83L4 21.41c.39.39.9.59 1.41.59.51 0 1.02-.2 1.41-.59l7.78-7.78 2.81-2.81c.8-.78.8-2.07 0-2.86zM5.41 20L4 18.59l7.72-7.72 1.47 1.35L5.41 20z\"/>\n",
              "  </svg>\n",
              "      </button>\n",
              "      \n",
              "  <style>\n",
              "    .colab-df-container {\n",
              "      display:flex;\n",
              "      flex-wrap:wrap;\n",
              "      gap: 12px;\n",
              "    }\n",
              "\n",
              "    .colab-df-convert {\n",
              "      background-color: #E8F0FE;\n",
              "      border: none;\n",
              "      border-radius: 50%;\n",
              "      cursor: pointer;\n",
              "      display: none;\n",
              "      fill: #1967D2;\n",
              "      height: 32px;\n",
              "      padding: 0 0 0 0;\n",
              "      width: 32px;\n",
              "    }\n",
              "\n",
              "    .colab-df-convert:hover {\n",
              "      background-color: #E2EBFA;\n",
              "      box-shadow: 0px 1px 2px rgba(60, 64, 67, 0.3), 0px 1px 3px 1px rgba(60, 64, 67, 0.15);\n",
              "      fill: #174EA6;\n",
              "    }\n",
              "\n",
              "    [theme=dark] .colab-df-convert {\n",
              "      background-color: #3B4455;\n",
              "      fill: #D2E3FC;\n",
              "    }\n",
              "\n",
              "    [theme=dark] .colab-df-convert:hover {\n",
              "      background-color: #434B5C;\n",
              "      box-shadow: 0px 1px 3px 1px rgba(0, 0, 0, 0.15);\n",
              "      filter: drop-shadow(0px 1px 2px rgba(0, 0, 0, 0.3));\n",
              "      fill: #FFFFFF;\n",
              "    }\n",
              "  </style>\n",
              "\n",
              "      <script>\n",
              "        const buttonEl =\n",
              "          document.querySelector('#df-6897d229-2bf6-4161-a464-3a73c8704116 button.colab-df-convert');\n",
              "        buttonEl.style.display =\n",
              "          google.colab.kernel.accessAllowed ? 'block' : 'none';\n",
              "\n",
              "        async function convertToInteractive(key) {\n",
              "          const element = document.querySelector('#df-6897d229-2bf6-4161-a464-3a73c8704116');\n",
              "          const dataTable =\n",
              "            await google.colab.kernel.invokeFunction('convertToInteractive',\n",
              "                                                     [key], {});\n",
              "          if (!dataTable) return;\n",
              "\n",
              "          const docLinkHtml = 'Like what you see? Visit the ' +\n",
              "            '<a target=\"_blank\" href=https://colab.research.google.com/notebooks/data_table.ipynb>data table notebook</a>'\n",
              "            + ' to learn more about interactive tables.';\n",
              "          element.innerHTML = '';\n",
              "          dataTable['output_type'] = 'display_data';\n",
              "          await google.colab.output.renderOutput(dataTable, element);\n",
              "          const docLink = document.createElement('div');\n",
              "          docLink.innerHTML = docLinkHtml;\n",
              "          element.appendChild(docLink);\n",
              "        }\n",
              "      </script>\n",
              "    </div>\n",
              "  </div>\n",
              "  "
            ]
          },
          "metadata": {},
          "execution_count": 53
        }
      ]
    },
    {
      "cell_type": "markdown",
      "source": [
        "Let’s also check the data type of our new join table."
      ],
      "metadata": {
        "id": "gpWPLY8ioLJA"
      },
      "id": "gpWPLY8ioLJA"
    },
    {
      "cell_type": "code",
      "source": [
        "type(join)"
      ],
      "metadata": {
        "colab": {
          "base_uri": "https://localhost:8080/"
        },
        "id": "hTGskY2boMtZ",
        "outputId": "ad574586-89ed-4734-82b0-64f19eb8f5ba"
      },
      "id": "hTGskY2boMtZ",
      "execution_count": null,
      "outputs": [
        {
          "output_type": "execute_result",
          "data": {
            "text/plain": [
              "geopandas.geodataframe.GeoDataFrame"
            ]
          },
          "metadata": {},
          "execution_count": 96
        }
      ]
    },
    {
      "cell_type": "markdown",
      "source": [
        "As a result we have a new GeoDataFrame called join where we now have all original columns plus a new column for geometry.\n",
        "\n",
        "Now it is easy to save our address points into a Shapefile\n"
      ],
      "metadata": {
        "id": "O0UOAgEeoQYk"
      },
      "id": "O0UOAgEeoQYk"
    },
    {
      "cell_type": "code",
      "source": [
        "# Output file path\n",
        "outfp = r\"/addresses.shp\"\n",
        "\n",
        "# Save to Shapefile\n",
        "join.to_file(outfp)"
      ],
      "metadata": {
        "id": "0AQQqvRHoWaF"
      },
      "id": "0AQQqvRHoWaF",
      "execution_count": null,
      "outputs": []
    },
    {
      "cell_type": "markdown",
      "source": [
        "That’s it. Now we have successfully geocoded those addresses into Points and made a Shapefile out of them. Easy isn’t it! Let’s still take a look how our data looks like."
      ],
      "metadata": {
        "id": "X6Qe3lX4ogkP"
      },
      "id": "X6Qe3lX4ogkP"
    },
    {
      "cell_type": "code",
      "source": [
        "join.plot()\n",
        "plt.tight_layout();"
      ],
      "metadata": {
        "colab": {
          "base_uri": "https://localhost:8080/",
          "height": 487
        },
        "id": "mUzwx2xFoWfB",
        "outputId": "f4fc2f01-539c-4078-d2c6-972a35504b8b"
      },
      "id": "mUzwx2xFoWfB",
      "execution_count": null,
      "outputs": [
        {
          "output_type": "display_data",
          "data": {
            "text/plain": [
              "<Figure size 640x480 with 1 Axes>"
            ],
            "image/png": "[encoded data removed]"
          },
          "metadata": {}
        }
      ]
    },
    {
      "cell_type": "markdown",
      "id": "486a9000",
      "metadata": {
        "id": "486a9000"
      },
      "source": [
        "# Operations between multiple datasets\n",
        "\n",
        "<!---\n",
        "- Selecting data based on spatial relationships\n",
        "- Overlay analysis\n",
        "- Spatial join, nearest join\n",
        "- Distance operations\n",
        "- Spatial index\n",
        "-->"
      ]
    },
    {
      "cell_type": "markdown",
      "id": "dc15b0ab",
      "metadata": {
        "id": "dc15b0ab"
      },
      "source": [
        "## Selecting data based on spatial relationships\n",
        "\n",
        "Finding out if a certain point is located inside or outside of an area,\n",
        "or finding out if a line intersects with another line or polygon are\n",
        "fundamental geospatial operations that are often used e.g. to select\n",
        "data based on location. Such spatial queries are one of the typical\n",
        "first steps of the workflow when doing spatial analysis. Performing a\n",
        "spatial join (will be introduced later) between two spatial datasets is\n",
        "one of the most typical applications where Point in Polygon (PIP) query\n",
        "is used.\n",
        "\n",
        "For further reading about PIP and other geometric operations,\n",
        "see Chapter 4.2 in Smith, Goodchild & Longley: [Geospatial Analysis - 6th edition](https://www.spatialanalysisonline.com/HTML/index.html)."
      ]
    },
    {
      "cell_type": "markdown",
      "id": "29d7a295",
      "metadata": {
        "id": "29d7a295"
      },
      "source": [
        "### How to check if point is inside a polygon?\n",
        "\n",
        "Computationally, detecting if a point is inside a polygon is most commonly done using a specific formula called [Ray Casting algorithm](https://en.wikipedia.org/wiki/Point_in_polygon#Ray_casting_algorithm).\n",
        "Luckily, we do not need to create such a function ourselves for\n",
        "conducting the Point in Polygon (PIP) query. Instead, we can take\n",
        "advantage of [Shapely's binary predicates](https://shapely.readthedocs.io/en/stable/manual.html#binary-predicates)\n",
        "that can evaluate the topolocical relationships between geographical\n",
        "objects, such as the PIP as we're interested here.\n",
        "\n",
        "There are basically two ways of conducting PIP in Shapely:\n",
        "\n",
        "1. using a function called\n",
        "   [within()](https://shapely.readthedocs.io/en/stable/manual.html#object.within)\n",
        "   that checks if a point is within a polygon\n",
        "2. using a function called\n",
        "   [contains()](https://shapely.readthedocs.io/en/stable/manual.html#object.contains)\n",
        "   that checks if a polygon contains a point\n",
        "\n",
        "Notice: even though we are talking here about **Point** in Polygon\n",
        "operation, it is also possible to check if a LineString or Polygon is\n",
        "inside another Polygon.\n",
        "\n",
        "Let's import shapely functionalities and create some points:"
      ]
    },
    {
      "cell_type": "code",
      "execution_count": null,
      "id": "b977ca47",
      "metadata": {
        "id": "b977ca47"
      },
      "outputs": [],
      "source": [
        "from shapely.geometry import Point, Polygon\n",
        "\n",
        "# Create Point objects\n",
        "p1 = Point(24.952242, 60.1696017)\n",
        "p2 = Point(24.976567, 60.1612500)"
      ]
    },
    {
      "cell_type": "markdown",
      "id": "96aeb5cf",
      "metadata": {
        "id": "96aeb5cf"
      },
      "source": [
        "Let's also create a polygon using a list of coordinate-tuples:"
      ]
    },
    {
      "cell_type": "code",
      "execution_count": null,
      "id": "087850cd",
      "metadata": {
        "deletable": true,
        "editable": true,
        "jupyter": {
          "outputs_hidden": false
        },
        "id": "087850cd"
      },
      "outputs": [],
      "source": [
        "# Create a Polygon\n",
        "coords = [\n",
        "    (24.950899, 60.169158),\n",
        "    (24.953492, 60.169158),\n",
        "    (24.953510, 60.170104),\n",
        "    (24.950958, 60.169990),\n",
        "]\n",
        "poly = Polygon(coords)"
      ]
    },
    {
      "cell_type": "code",
      "execution_count": null,
      "id": "eb70a5f8",
      "metadata": {
        "id": "eb70a5f8",
        "colab": {
          "base_uri": "https://localhost:8080/"
        },
        "outputId": "2b88dc3a-4ed1-43c3-e702-cfadb0c8a981"
      },
      "outputs": [
        {
          "output_type": "stream",
          "name": "stdout",
          "text": [
            "POINT (24.952242 60.1696017)\n",
            "POINT (24.976567 60.16125)\n",
            "POLYGON ((24.950899 60.169158, 24.953492 60.169158, 24.95351 60.170104, 24.950958 60.16999, 24.950899 60.169158))\n"
          ]
        }
      ],
      "source": [
        "# Let's check what we have\n",
        "print(p1)\n",
        "print(p2)\n",
        "print(poly)"
      ]
    },
    {
      "cell_type": "markdown",
      "id": "7bb32053",
      "metadata": {
        "deletable": true,
        "editable": true,
        "id": "7bb32053"
      },
      "source": [
        "- Let's check if those points are ``within`` the polygon:"
      ]
    },
    {
      "cell_type": "code",
      "execution_count": null,
      "id": "48ee117c",
      "metadata": {
        "id": "48ee117c",
        "colab": {
          "base_uri": "https://localhost:8080/"
        },
        "outputId": "51b90913-6abc-4ab4-ae0d-da515216826b"
      },
      "outputs": [
        {
          "output_type": "execute_result",
          "data": {
            "text/plain": [
              "True"
            ]
          },
          "metadata": {},
          "execution_count": 91
        }
      ],
      "source": [
        "# Check if p1 is within the polygon using the within function\n",
        "p1.within(poly)"
      ]
    },
    {
      "cell_type": "code",
      "execution_count": null,
      "id": "3d48f024",
      "metadata": {
        "deletable": true,
        "editable": true,
        "jupyter": {
          "outputs_hidden": false
        },
        "id": "3d48f024",
        "colab": {
          "base_uri": "https://localhost:8080/"
        },
        "outputId": "daae00b1-62f1-4eff-912d-d3caa9dc34e8"
      },
      "outputs": [
        {
          "output_type": "execute_result",
          "data": {
            "text/plain": [
              "False"
            ]
          },
          "metadata": {},
          "execution_count": 92
        }
      ],
      "source": [
        "# Check if p2 is within the polygon\n",
        "p2.within(poly)"
      ]
    },
    {
      "cell_type": "markdown",
      "id": "69eed617",
      "metadata": {
        "deletable": true,
        "editable": true,
        "id": "69eed617"
      },
      "source": [
        "Okey, so we can see that the first point seems to be inside that polygon\n",
        "and the other one isn't.\n",
        "\n",
        "-In fact, the first point is quite close to close to the center of the polygon as we\n",
        "can see if we compare the point location to the polygon centroid:"
      ]
    },
    {
      "cell_type": "code",
      "execution_count": null,
      "id": "a8c74ce6",
      "metadata": {
        "deletable": true,
        "editable": true,
        "jupyter": {
          "outputs_hidden": false
        },
        "id": "a8c74ce6",
        "colab": {
          "base_uri": "https://localhost:8080/"
        },
        "outputId": "bfd69095-ee45-48eb-b7fa-681643d7d746"
      },
      "outputs": [
        {
          "output_type": "stream",
          "name": "stdout",
          "text": [
            "POINT (24.952242 60.1696017)\n",
            "POINT (24.952242428492358 60.16960179038188)\n"
          ]
        }
      ],
      "source": [
        "# Our point\n",
        "print(p1)\n",
        "\n",
        "# The centroid\n",
        "print(poly.centroid)"
      ]
    },
    {
      "cell_type": "markdown",
      "id": "a6256cf7",
      "metadata": {
        "deletable": true,
        "editable": true,
        "id": "a6256cf7"
      },
      "source": [
        "It is also possible to do PIP other way around, i.e. to check if\n",
        "polygon contains a point:"
      ]
    },
    {
      "cell_type": "code",
      "execution_count": null,
      "id": "8435ee3e",
      "metadata": {
        "id": "8435ee3e",
        "colab": {
          "base_uri": "https://localhost:8080/"
        },
        "outputId": "948bb9c3-815e-4aab-e8b8-c7a85cd310c9"
      },
      "outputs": [
        {
          "output_type": "execute_result",
          "data": {
            "text/plain": [
              "True"
            ]
          },
          "metadata": {},
          "execution_count": 94
        }
      ],
      "source": [
        "# Does polygon contain p1?\n",
        "poly.contains(p1)"
      ]
    },
    {
      "cell_type": "code",
      "execution_count": null,
      "id": "fe4555d0",
      "metadata": {
        "deletable": true,
        "editable": true,
        "jupyter": {
          "outputs_hidden": false
        },
        "id": "fe4555d0",
        "colab": {
          "base_uri": "https://localhost:8080/"
        },
        "outputId": "7e9cd3db-80f0-4257-c67c-920506986c1d"
      },
      "outputs": [
        {
          "output_type": "execute_result",
          "data": {
            "text/plain": [
              "False"
            ]
          },
          "metadata": {},
          "execution_count": 95
        }
      ],
      "source": [
        "# Does polygon contain p2?\n",
        "poly.contains(p2)"
      ]
    },
    {
      "cell_type": "markdown",
      "id": "64e1f373",
      "metadata": {
        "deletable": true,
        "editable": true,
        "id": "64e1f373"
      },
      "source": [
        "Thus, both ways of checking the spatial relationship are identical; [contains()](https://shapely.readthedocs.io/en/stable/manual.html#object.contains) is inverse to [within()](https://shapely.readthedocs.io/en/stable/manual.html#object.within) and vice versa.\n",
        "\n",
        "Which one should you use then? Well, it depends:\n",
        "\n",
        "-  if you have **many points and just one polygon** and you try to find out\n",
        "   which one of them is inside the polygon: You might need to iterate over the points and check one at a time if it\n",
        "   is **within()** the polygon.\n",
        "\n",
        "-  if you have **many polygons and just one point** and you want to find out\n",
        "   which polygon contains the point: You might need to iterate over the polygons until you find a polygon that **contains()** the point specified (assuming there are no overlapping polygons)"
      ]
    },
    {
      "cell_type": "markdown",
      "id": "54ebd563",
      "metadata": {
        "id": "54ebd563"
      },
      "source": [
        "## Intersect\n",
        "\n",
        "Another typical geospatial operation is to see if a geometry intersects\n",
        "or touches another one. Again, there are binary operations in Shapely for checking these spatial relationships:\n",
        "\n",
        "- [intersects():](https://shapely.readthedocs.io/en/stable/manual.html#object.intersects) Two objects intersect if the boundary or interior of one object intersect in any way with the boundary or interior of the other object.\n",
        "\n",
        "- [touches():](https://shapely.readthedocs.io/en/stable/manual.html#object.touches) Two objects touch if the objects have at least one point in common and their interiors do not intersect with any part of the other object.\n",
        "   \n",
        "\n",
        "Let's try these out.\n",
        "\n",
        "Let's create two LineStrings:"
      ]
    },
    {
      "cell_type": "code",
      "execution_count": null,
      "id": "1126f8bf",
      "metadata": {
        "deletable": true,
        "editable": true,
        "id": "1126f8bf"
      },
      "outputs": [],
      "source": [
        "from shapely.geometry import LineString, MultiLineString\n",
        "\n",
        "# Create two lines\n",
        "line_a = LineString([(0, 0), (1, 1)])\n",
        "line_b = LineString([(1, 1), (0, 2)])"
      ]
    },
    {
      "cell_type": "markdown",
      "id": "47efbc05",
      "metadata": {
        "deletable": true,
        "editable": true,
        "id": "47efbc05"
      },
      "source": [
        "Let's see if they intersect"
      ]
    },
    {
      "cell_type": "code",
      "execution_count": null,
      "id": "eade991d",
      "metadata": {
        "deletable": true,
        "editable": true,
        "jupyter": {
          "outputs_hidden": false
        },
        "id": "eade991d",
        "colab": {
          "base_uri": "https://localhost:8080/"
        },
        "outputId": "9ac5ee7b-fb46-4263-c318-071d55c12cb6"
      },
      "outputs": [
        {
          "output_type": "execute_result",
          "data": {
            "text/plain": [
              "True"
            ]
          },
          "metadata": {},
          "execution_count": 104
        }
      ],
      "source": [
        "line_a.intersects(line_b)"
      ]
    },
    {
      "cell_type": "markdown",
      "id": "a742c29f",
      "metadata": {
        "deletable": true,
        "editable": true,
        "id": "a742c29f"
      },
      "source": [
        "Do they also touch?"
      ]
    },
    {
      "cell_type": "code",
      "execution_count": null,
      "id": "f1334504",
      "metadata": {
        "deletable": true,
        "editable": true,
        "jupyter": {
          "outputs_hidden": false
        },
        "id": "f1334504",
        "colab": {
          "base_uri": "https://localhost:8080/"
        },
        "outputId": "b8320da2-b08c-40f1-fe73-ea4bbded93ac"
      },
      "outputs": [
        {
          "output_type": "execute_result",
          "data": {
            "text/plain": [
              "True"
            ]
          },
          "metadata": {},
          "execution_count": 105
        }
      ],
      "source": [
        "line_a.touches(line_b)"
      ]
    },
    {
      "cell_type": "markdown",
      "id": "0fcbd48f",
      "metadata": {
        "deletable": true,
        "editable": true,
        "id": "0fcbd48f"
      },
      "source": [
        "Indeed, they do and we can see this by plotting the features together"
      ]
    },
    {
      "cell_type": "code",
      "execution_count": null,
      "id": "530bf98b",
      "metadata": {
        "deletable": true,
        "editable": true,
        "jupyter": {
          "outputs_hidden": false
        },
        "id": "530bf98b",
        "colab": {
          "base_uri": "https://localhost:8080/",
          "height": 121
        },
        "outputId": "ec24205f-086c-4f92-d437-a9d6a0aaf96d"
      },
      "outputs": [
        {
          "output_type": "execute_result",
          "data": {
            "text/plain": [
              "<MULTILINESTRING ((0 0, 1 1), (1 1, 0 2))>"
            ],
            "image/svg+xml": "<svg xmlns=\"http://www.w3.org/2000/svg\" xmlns:xlink=\"http://www.w3.org/1999/xlink\" width=\"100.0\" height=\"100.0\" viewBox=\"-0.08 -0.08 1.1600000000000001 2.16\" preserveAspectRatio=\"xMinYMin meet\"><g transform=\"matrix(1,0,0,-1,0,2.0)\"><g><polyline fill=\"none\" stroke=\"#66cc99\" stroke-width=\"0.0432\" points=\"0.0,0.0 1.0,1.0\" opacity=\"0.8\" /><polyline fill=\"none\" stroke=\"#66cc99\" stroke-width=\"0.0432\" points=\"1.0,1.0 0.0,2.0\" opacity=\"0.8\" /></g></g></svg>"
          },
          "metadata": {},
          "execution_count": 106
        }
      ],
      "source": [
        "# Create a MultiLineString from line_a and line_b\n",
        "multi_line = MultiLineString([line_a, line_b])\n",
        "multi_line"
      ]
    },
    {
      "cell_type": "markdown",
      "id": "c84fc08e",
      "metadata": {
        "deletable": true,
        "editable": true,
        "id": "c84fc08e"
      },
      "source": [
        "Thus, the ``line_b`` continues from the same node ( (1,1) ) where ``line_a`` ends.\n",
        "\n",
        "However, if the lines overlap fully, they don't touch due to the spatial relationship rule, as we can see:\n",
        "\n",
        "Check if `line_a` touches itself:"
      ]
    },
    {
      "cell_type": "code",
      "execution_count": null,
      "id": "2e903de8",
      "metadata": {
        "deletable": true,
        "editable": true,
        "jupyter": {
          "outputs_hidden": false
        },
        "id": "2e903de8",
        "colab": {
          "base_uri": "https://localhost:8080/"
        },
        "outputId": "0421d0dd-49fe-400e-ed6d-2196681a0ab5"
      },
      "outputs": [
        {
          "output_type": "execute_result",
          "data": {
            "text/plain": [
              "False"
            ]
          },
          "metadata": {},
          "execution_count": 100
        }
      ],
      "source": [
        "# Does the line touch with itself?\n",
        "line_a.touches(line_a)"
      ]
    },
    {
      "cell_type": "markdown",
      "id": "5d6dfb3e",
      "metadata": {
        "deletable": true,
        "editable": true,
        "id": "5d6dfb3e"
      },
      "source": [
        "It does not. However, it does intersect:"
      ]
    },
    {
      "cell_type": "code",
      "execution_count": null,
      "id": "8ec8cd3e",
      "metadata": {
        "deletable": true,
        "editable": true,
        "jupyter": {
          "outputs_hidden": false
        },
        "id": "8ec8cd3e",
        "colab": {
          "base_uri": "https://localhost:8080/"
        },
        "outputId": "e2f179a6-d7ef-4108-99e7-c81663238be4"
      },
      "outputs": [
        {
          "output_type": "execute_result",
          "data": {
            "text/plain": [
              "True"
            ]
          },
          "metadata": {},
          "execution_count": 101
        }
      ],
      "source": [
        "# Does the line intersect with itself?\n",
        "line_a.intersects(line_a)"
      ]
    },
    {
      "cell_type": "markdown",
      "id": "e2018d24",
      "metadata": {
        "id": "e2018d24"
      },
      "source": [
        "## Spatial join\n",
        "\n",
        "[Spatial join](http://wiki.gis.com/wiki/index.php/Spatial_Join) is\n",
        "yet another classic GIS problem. Getting attributes from one layer and\n",
        "transferring them into another layer based on their spatial relationship\n",
        "is something you most likely need to do on a regular basis.\n",
        "\n",
        "In the previous section we learned how to perform **a Point in Polygon query**.\n",
        "We can now use the same logic to conduct **a spatial join** between two layers based on their\n",
        "spatial relationship. We could, for example, join the attributes of a polygon layer into a point layer where each point would get the\n",
        "attributes of a polygon that ``contains`` the point.\n",
        "\n",
        "Luckily, [spatial join is already implemented in Geopandas](http://geopandas.org/mergingdata.html#spatial-joins), thus we do not need to create our own function for doing it. There are three possible types of\n",
        "join that can be applied in spatial join that are determined with ``op`` -parameter in the ``gpd.sjoin()`` -function:\n",
        "\n",
        "-  ``\"intersects\"``\n",
        "-  ``\"within\"``\n",
        "-  ``\"contains\"``\n",
        "\n",
        "Sounds familiar? Yep, all of those spatial relationships were discussed\n",
        "in the [Point in Polygon lesson](point-in-polygon.ipynb), thus you should know how they work.\n",
        "\n",
        "Furthermore, pay attention to the different options for the type of join via the `how` parameter; \"left\", \"right\" and \"inner\". You can read more about these options in the [geopandas sjoin documentation](http://geopandas.org/mergingdata.html#sjoin-arguments) and pandas guide for [merge, join and concatenate](https://pandas.pydata.org/pandas-docs/stable/user_guide/merging.html)\n",
        "\n",
        "Let's perform a spatial join between these two layers:\n",
        "- **Addresses:** the geocoded address-point (we created this Shapefile in the geocoding tutorial)\n",
        "- **Population grid:** 250m x 250m grid polygon layer that contains population information from the Helsinki Region.\n",
        "    - The population grid a dataset is produced by the **Helsinki Region Environmental\n",
        "Services Authority (HSY)** (see [this page](https://www.hsy.fi/fi/asiantuntijalle/avoindata/Sivut/AvoinData.aspx?dataID=7) to access data from different years).\n",
        "    - You can download the data from [from this link](https://www.hsy.fi/sites/AvoinData/AvoinData/SYT/Tietoyhteistyoyksikko/Shape%20(Esri)/V%C3%A4est%C3%B6tietoruudukko/Vaestotietoruudukko_2018_SHP.zip) in the  [Helsinki Region Infroshare\n",
        "(HRI) open data portal](https://hri.fi/en_gb/).\n"
      ]
    },
    {
      "cell_type": "markdown",
      "id": "7afec855",
      "metadata": {
        "id": "7afec855"
      },
      "source": [
        "- Here, we will access the data directly from the HSY wfs:\n",
        "\n",
        "<!-- #endregion -->"
      ]
    },
    {
      "cell_type": "code",
      "source": [
        "!pip install geojson"
      ],
      "metadata": {
        "colab": {
          "base_uri": "https://localhost:8080/"
        },
        "id": "uowhKbiILUIZ",
        "outputId": "568a905d-c4aa-4070-e7fa-a596c61d6790"
      },
      "id": "uowhKbiILUIZ",
      "execution_count": null,
      "outputs": [
        {
          "output_type": "stream",
          "name": "stdout",
          "text": [
            "Requirement already satisfied: geojson in /usr/local/lib/python3.10/dist-packages (3.0.1)\n"
          ]
        }
      ]
    },
    {
      "cell_type": "code",
      "execution_count": null,
      "id": "3b8f459c",
      "metadata": {
        "id": "3b8f459c"
      },
      "outputs": [],
      "source": [
        "import geopandas as gpd\n",
        "from pyproj import CRS\n",
        "import requests\n",
        "import geojson\n",
        "\n",
        "# Specify the url for web feature service\n",
        "url = \"https://kartta.hsy.fi/geoserver/wfs\"\n",
        "\n",
        "# Specify parameters (read data in json format).\n",
        "# Available feature types in this particular data source: http://geo.stat.fi/geoserver/vaestoruutu/wfs?service=wfs&version=2.0.0&request=describeFeatureType\n",
        "params = dict(\n",
        "    service=\"WFS\",\n",
        "    version=\"2.0.0\",\n",
        "    request=\"GetFeature\",\n",
        "    typeName=\"asuminen_ja_maankaytto:Vaestotietoruudukko_2018\",\n",
        "    outputFormat=\"json\",\n",
        ")\n",
        "\n",
        "# Fetch data from WFS using requests\n",
        "r = requests.get(url, params=params)\n",
        "\n",
        "# Create GeoDataFrame from geojson\n",
        "pop = gpd.GeoDataFrame.from_features(geojson.loads(r.content))"
      ]
    },
    {
      "cell_type": "markdown",
      "id": "385e5abb",
      "metadata": {
        "id": "385e5abb"
      },
      "source": [
        "Check the result:"
      ]
    },
    {
      "cell_type": "code",
      "execution_count": null,
      "id": "9e782638",
      "metadata": {
        "id": "9e782638",
        "colab": {
          "base_uri": "https://localhost:8080/",
          "height": 424
        },
        "outputId": "35f4292e-0425-4b02-8db1-bd13890d5167"
      },
      "outputs": [
        {
          "output_type": "execute_result",
          "data": {
            "text/plain": [
              "                                            geometry  index  asukkaita  \\\n",
              "0  POLYGON ((25472499.995 6689749.005, 25472499.9...    688          9   \n",
              "1  POLYGON ((25472499.995 6685998.998, 25472499.9...    703          5   \n",
              "2  POLYGON ((25472499.995 6684249.004, 25472499.9...    710          8   \n",
              "3  POLYGON ((25472499.995 6683999.005, 25472499.9...    711          5   \n",
              "4  POLYGON ((25472499.995 6682998.998, 25472499.9...    715         11   \n",
              "\n",
              "   asvaljyys  ika0_9  ika10_19  ika20_29  ika30_39  ika40_49  ika50_59  \\\n",
              "0       28.0      99        99        99        99        99        99   \n",
              "1       51.0      99        99        99        99        99        99   \n",
              "2       44.0      99        99        99        99        99        99   \n",
              "3       90.0      99        99        99        99        99        99   \n",
              "4       41.0      99        99        99        99        99        99   \n",
              "\n",
              "   ika60_69  ika70_79  ika_yli80  \n",
              "0        99        99         99  \n",
              "1        99        99         99  \n",
              "2        99        99         99  \n",
              "3        99        99         99  \n",
              "4        99        99         99  "
            ],
            "text/html": [
              "\n",
              "  <div id=\"df-4a8f7592-2a85-45f1-b07b-9e997cca0ac0\">\n",
              "    <div class=\"colab-df-container\">\n",
              "      <div>\n",
              "<style scoped>\n",
              "    .dataframe tbody tr th:only-of-type {\n",
              "        vertical-align: middle;\n",
              "    }\n",
              "\n",
              "    .dataframe tbody tr th {\n",
              "        vertical-align: top;\n",
              "    }\n",
              "\n",
              "    .dataframe thead th {\n",
              "        text-align: right;\n",
              "    }\n",
              "</style>\n",
              "<table border=\"1\" class=\"dataframe\">\n",
              "  <thead>\n",
              "    <tr style=\"text-align: right;\">\n",
              "      <th></th>\n",
              "      <th>geometry</th>\n",
              "      <th>index</th>\n",
              "      <th>asukkaita</th>\n",
              "      <th>asvaljyys</th>\n",
              "      <th>ika0_9</th>\n",
              "      <th>ika10_19</th>\n",
              "      <th>ika20_29</th>\n",
              "      <th>ika30_39</th>\n",
              "      <th>ika40_49</th>\n",
              "      <th>ika50_59</th>\n",
              "      <th>ika60_69</th>\n",
              "      <th>ika70_79</th>\n",
              "      <th>ika_yli80</th>\n",
              "    </tr>\n",
              "  </thead>\n",
              "  <tbody>\n",
              "    <tr>\n",
              "      <th>0</th>\n",
              "      <td>POLYGON ((25472499.995 6689749.005, 25472499.9...</td>\n",
              "      <td>688</td>\n",
              "      <td>9</td>\n",
              "      <td>28.0</td>\n",
              "      <td>99</td>\n",
              "      <td>99</td>\n",
              "      <td>99</td>\n",
              "      <td>99</td>\n",
              "      <td>99</td>\n",
              "      <td>99</td>\n",
              "      <td>99</td>\n",
              "      <td>99</td>\n",
              "      <td>99</td>\n",
              "    </tr>\n",
              "    <tr>\n",
              "      <th>1</th>\n",
              "      <td>POLYGON ((25472499.995 6685998.998, 25472499.9...</td>\n",
              "      <td>703</td>\n",
              "      <td>5</td>\n",
              "      <td>51.0</td>\n",
              "      <td>99</td>\n",
              "      <td>99</td>\n",
              "      <td>99</td>\n",
              "      <td>99</td>\n",
              "      <td>99</td>\n",
              "      <td>99</td>\n",
              "      <td>99</td>\n",
              "      <td>99</td>\n",
              "      <td>99</td>\n",
              "    </tr>\n",
              "    <tr>\n",
              "      <th>2</th>\n",
              "      <td>POLYGON ((25472499.995 6684249.004, 25472499.9...</td>\n",
              "      <td>710</td>\n",
              "      <td>8</td>\n",
              "      <td>44.0</td>\n",
              "      <td>99</td>\n",
              "      <td>99</td>\n",
              "      <td>99</td>\n",
              "      <td>99</td>\n",
              "      <td>99</td>\n",
              "      <td>99</td>\n",
              "      <td>99</td>\n",
              "      <td>99</td>\n",
              "      <td>99</td>\n",
              "    </tr>\n",
              "    <tr>\n",
              "      <th>3</th>\n",
              "      <td>POLYGON ((25472499.995 6683999.005, 25472499.9...</td>\n",
              "      <td>711</td>\n",
              "      <td>5</td>\n",
              "      <td>90.0</td>\n",
              "      <td>99</td>\n",
              "      <td>99</td>\n",
              "      <td>99</td>\n",
              "      <td>99</td>\n",
              "      <td>99</td>\n",
              "      <td>99</td>\n",
              "      <td>99</td>\n",
              "      <td>99</td>\n",
              "      <td>99</td>\n",
              "    </tr>\n",
              "    <tr>\n",
              "      <th>4</th>\n",
              "      <td>POLYGON ((25472499.995 6682998.998, 25472499.9...</td>\n",
              "      <td>715</td>\n",
              "      <td>11</td>\n",
              "      <td>41.0</td>\n",
              "      <td>99</td>\n",
              "      <td>99</td>\n",
              "      <td>99</td>\n",
              "      <td>99</td>\n",
              "      <td>99</td>\n",
              "      <td>99</td>\n",
              "      <td>99</td>\n",
              "      <td>99</td>\n",
              "      <td>99</td>\n",
              "    </tr>\n",
              "  </tbody>\n",
              "</table>\n",
              "</div>\n",
              "      <button class=\"colab-df-convert\" onclick=\"convertToInteractive('df-4a8f7592-2a85-45f1-b07b-9e997cca0ac0')\"\n",
              "              title=\"Convert this dataframe to an interactive table.\"\n",
              "              style=\"display:none;\">\n",
              "        \n",
              "  <svg xmlns=\"http://www.w3.org/2000/svg\" height=\"24px\"viewBox=\"0 0 24 24\"\n",
              "       width=\"24px\">\n",
              "    <path d=\"M0 0h24v24H0V0z\" fill=\"none\"/>\n",
              "    <path d=\"M18.56 5.44l.94 2.06.94-2.06 2.06-.94-2.06-.94-.94-2.06-.94 2.06-2.06.94zm-11 1L8.5 8.5l.94-2.06 2.06-.94-2.06-.94L8.5 2.5l-.94 2.06-2.06.94zm10 10l.94 2.06.94-2.06 2.06-.94-2.06-.94-.94-2.06-.94 2.06-2.06.94z\"/><path d=\"M17.41 7.96l-1.37-1.37c-.4-.4-.92-.59-1.43-.59-.52 0-1.04.2-1.43.59L10.3 9.45l-7.72 7.72c-.78.78-.78 2.05 0 2.83L4 21.41c.39.39.9.59 1.41.59.51 0 1.02-.2 1.41-.59l7.78-7.78 2.81-2.81c.8-.78.8-2.07 0-2.86zM5.41 20L4 18.59l7.72-7.72 1.47 1.35L5.41 20z\"/>\n",
              "  </svg>\n",
              "      </button>\n",
              "      \n",
              "  <style>\n",
              "    .colab-df-container {\n",
              "      display:flex;\n",
              "      flex-wrap:wrap;\n",
              "      gap: 12px;\n",
              "    }\n",
              "\n",
              "    .colab-df-convert {\n",
              "      background-color: #E8F0FE;\n",
              "      border: none;\n",
              "      border-radius: 50%;\n",
              "      cursor: pointer;\n",
              "      display: none;\n",
              "      fill: #1967D2;\n",
              "      height: 32px;\n",
              "      padding: 0 0 0 0;\n",
              "      width: 32px;\n",
              "    }\n",
              "\n",
              "    .colab-df-convert:hover {\n",
              "      background-color: #E2EBFA;\n",
              "      box-shadow: 0px 1px 2px rgba(60, 64, 67, 0.3), 0px 1px 3px 1px rgba(60, 64, 67, 0.15);\n",
              "      fill: #174EA6;\n",
              "    }\n",
              "\n",
              "    [theme=dark] .colab-df-convert {\n",
              "      background-color: #3B4455;\n",
              "      fill: #D2E3FC;\n",
              "    }\n",
              "\n",
              "    [theme=dark] .colab-df-convert:hover {\n",
              "      background-color: #434B5C;\n",
              "      box-shadow: 0px 1px 3px 1px rgba(0, 0, 0, 0.15);\n",
              "      filter: drop-shadow(0px 1px 2px rgba(0, 0, 0, 0.3));\n",
              "      fill: #FFFFFF;\n",
              "    }\n",
              "  </style>\n",
              "\n",
              "      <script>\n",
              "        const buttonEl =\n",
              "          document.querySelector('#df-4a8f7592-2a85-45f1-b07b-9e997cca0ac0 button.colab-df-convert');\n",
              "        buttonEl.style.display =\n",
              "          google.colab.kernel.accessAllowed ? 'block' : 'none';\n",
              "\n",
              "        async function convertToInteractive(key) {\n",
              "          const element = document.querySelector('#df-4a8f7592-2a85-45f1-b07b-9e997cca0ac0');\n",
              "          const dataTable =\n",
              "            await google.colab.kernel.invokeFunction('convertToInteractive',\n",
              "                                                     [key], {});\n",
              "          if (!dataTable) return;\n",
              "\n",
              "          const docLinkHtml = 'Like what you see? Visit the ' +\n",
              "            '<a target=\"_blank\" href=https://colab.research.google.com/notebooks/data_table.ipynb>data table notebook</a>'\n",
              "            + ' to learn more about interactive tables.';\n",
              "          element.innerHTML = '';\n",
              "          dataTable['output_type'] = 'display_data';\n",
              "          await google.colab.output.renderOutput(dataTable, element);\n",
              "          const docLink = document.createElement('div');\n",
              "          docLink.innerHTML = docLinkHtml;\n",
              "          element.appendChild(docLink);\n",
              "        }\n",
              "      </script>\n",
              "    </div>\n",
              "  </div>\n",
              "  "
            ]
          },
          "metadata": {},
          "execution_count": 109
        }
      ],
      "source": [
        "pop.head()"
      ]
    },
    {
      "cell_type": "markdown",
      "id": "fba21f2b",
      "metadata": {
        "id": "fba21f2b"
      },
      "source": [
        "Okey so we have multiple columns in the dataset but the most important\n",
        "one here is the column `asukkaita` (\"population\" in Finnish) that\n",
        "tells the amount of inhabitants living under that polygon.\n",
        "\n",
        "-  Let's change the name of that column into `pop18` so that it is\n",
        "   more intuitive. As you might remember, we can easily rename (Geo)DataFrame column names using the ``rename()`` function where we pass a dictionary of new column names like this: ``columns={'oldname': 'newname'}``."
      ]
    },
    {
      "cell_type": "code",
      "execution_count": null,
      "id": "85e3f003",
      "metadata": {
        "id": "85e3f003",
        "colab": {
          "base_uri": "https://localhost:8080/"
        },
        "outputId": "dd25f362-b1a7-4d11-d8d5-aa4e0938ce3d"
      },
      "outputs": [
        {
          "output_type": "execute_result",
          "data": {
            "text/plain": [
              "Index(['geometry', 'index', 'pop18', 'asvaljyys', 'ika0_9', 'ika10_19',\n",
              "       'ika20_29', 'ika30_39', 'ika40_49', 'ika50_59', 'ika60_69', 'ika70_79',\n",
              "       'ika_yli80'],\n",
              "      dtype='object')"
            ]
          },
          "metadata": {},
          "execution_count": 110
        }
      ],
      "source": [
        "# Change the name of a column\n",
        "pop = pop.rename(columns={\"asukkaita\": \"pop18\"})\n",
        "\n",
        "# Check the column names\n",
        "pop.columns"
      ]
    },
    {
      "cell_type": "markdown",
      "id": "e07bbb3a",
      "metadata": {
        "id": "e07bbb3a"
      },
      "source": [
        "Let's also get rid of all unnecessary columns by selecting only columns that we need i.e. ``pop18`` and ``geometry``"
      ]
    },
    {
      "cell_type": "code",
      "execution_count": null,
      "id": "49dd94d2",
      "metadata": {
        "id": "49dd94d2"
      },
      "outputs": [],
      "source": [
        "# Subset columns\n",
        "pop = pop[[\"pop18\", \"geometry\"]]"
      ]
    },
    {
      "cell_type": "code",
      "execution_count": null,
      "id": "59d0b0b1",
      "metadata": {
        "id": "59d0b0b1",
        "colab": {
          "base_uri": "https://localhost:8080/",
          "height": 337
        },
        "outputId": "2d6917a6-4eb6-483c-e91b-6f5409ffc993"
      },
      "outputs": [
        {
          "output_type": "execute_result",
          "data": {
            "text/plain": [
              "                                            geometry  index  pop18  asvaljyys  \\\n",
              "0  POLYGON ((25472499.995 6689749.005, 25472499.9...    688      9       28.0   \n",
              "1  POLYGON ((25472499.995 6685998.998, 25472499.9...    703      5       51.0   \n",
              "2  POLYGON ((25472499.995 6684249.004, 25472499.9...    710      8       44.0   \n",
              "3  POLYGON ((25472499.995 6683999.005, 25472499.9...    711      5       90.0   \n",
              "4  POLYGON ((25472499.995 6682998.998, 25472499.9...    715     11       41.0   \n",
              "\n",
              "   ika0_9  ika10_19  ika20_29  ika30_39  ika40_49  ika50_59  ika60_69  \\\n",
              "0      99        99        99        99        99        99        99   \n",
              "1      99        99        99        99        99        99        99   \n",
              "2      99        99        99        99        99        99        99   \n",
              "3      99        99        99        99        99        99        99   \n",
              "4      99        99        99        99        99        99        99   \n",
              "\n",
              "   ika70_79  ika_yli80  \n",
              "0        99         99  \n",
              "1        99         99  \n",
              "2        99         99  \n",
              "3        99         99  \n",
              "4        99         99  "
            ],
            "text/html": [
              "\n",
              "  <div id=\"df-9dae0cbd-6342-464e-b67c-6a13e052177c\">\n",
              "    <div class=\"colab-df-container\">\n",
              "      <div>\n",
              "<style scoped>\n",
              "    .dataframe tbody tr th:only-of-type {\n",
              "        vertical-align: middle;\n",
              "    }\n",
              "\n",
              "    .dataframe tbody tr th {\n",
              "        vertical-align: top;\n",
              "    }\n",
              "\n",
              "    .dataframe thead th {\n",
              "        text-align: right;\n",
              "    }\n",
              "</style>\n",
              "<table border=\"1\" class=\"dataframe\">\n",
              "  <thead>\n",
              "    <tr style=\"text-align: right;\">\n",
              "      <th></th>\n",
              "      <th>geometry</th>\n",
              "      <th>index</th>\n",
              "      <th>pop18</th>\n",
              "      <th>asvaljyys</th>\n",
              "      <th>ika0_9</th>\n",
              "      <th>ika10_19</th>\n",
              "      <th>ika20_29</th>\n",
              "      <th>ika30_39</th>\n",
              "      <th>ika40_49</th>\n",
              "      <th>ika50_59</th>\n",
              "      <th>ika60_69</th>\n",
              "      <th>ika70_79</th>\n",
              "      <th>ika_yli80</th>\n",
              "    </tr>\n",
              "  </thead>\n",
              "  <tbody>\n",
              "    <tr>\n",
              "      <th>0</th>\n",
              "      <td>POLYGON ((25472499.995 6689749.005, 25472499.9...</td>\n",
              "      <td>688</td>\n",
              "      <td>9</td>\n",
              "      <td>28.0</td>\n",
              "      <td>99</td>\n",
              "      <td>99</td>\n",
              "      <td>99</td>\n",
              "      <td>99</td>\n",
              "      <td>99</td>\n",
              "      <td>99</td>\n",
              "      <td>99</td>\n",
              "      <td>99</td>\n",
              "      <td>99</td>\n",
              "    </tr>\n",
              "    <tr>\n",
              "      <th>1</th>\n",
              "      <td>POLYGON ((25472499.995 6685998.998, 25472499.9...</td>\n",
              "      <td>703</td>\n",
              "      <td>5</td>\n",
              "      <td>51.0</td>\n",
              "      <td>99</td>\n",
              "      <td>99</td>\n",
              "      <td>99</td>\n",
              "      <td>99</td>\n",
              "      <td>99</td>\n",
              "      <td>99</td>\n",
              "      <td>99</td>\n",
              "      <td>99</td>\n",
              "      <td>99</td>\n",
              "    </tr>\n",
              "    <tr>\n",
              "      <th>2</th>\n",
              "      <td>POLYGON ((25472499.995 6684249.004, 25472499.9...</td>\n",
              "      <td>710</td>\n",
              "      <td>8</td>\n",
              "      <td>44.0</td>\n",
              "      <td>99</td>\n",
              "      <td>99</td>\n",
              "      <td>99</td>\n",
              "      <td>99</td>\n",
              "      <td>99</td>\n",
              "      <td>99</td>\n",
              "      <td>99</td>\n",
              "      <td>99</td>\n",
              "      <td>99</td>\n",
              "    </tr>\n",
              "    <tr>\n",
              "      <th>3</th>\n",
              "      <td>POLYGON ((25472499.995 6683999.005, 25472499.9...</td>\n",
              "      <td>711</td>\n",
              "      <td>5</td>\n",
              "      <td>90.0</td>\n",
              "      <td>99</td>\n",
              "      <td>99</td>\n",
              "      <td>99</td>\n",
              "      <td>99</td>\n",
              "      <td>99</td>\n",
              "      <td>99</td>\n",
              "      <td>99</td>\n",
              "      <td>99</td>\n",
              "      <td>99</td>\n",
              "    </tr>\n",
              "    <tr>\n",
              "      <th>4</th>\n",
              "      <td>POLYGON ((25472499.995 6682998.998, 25472499.9...</td>\n",
              "      <td>715</td>\n",
              "      <td>11</td>\n",
              "      <td>41.0</td>\n",
              "      <td>99</td>\n",
              "      <td>99</td>\n",
              "      <td>99</td>\n",
              "      <td>99</td>\n",
              "      <td>99</td>\n",
              "      <td>99</td>\n",
              "      <td>99</td>\n",
              "      <td>99</td>\n",
              "      <td>99</td>\n",
              "    </tr>\n",
              "  </tbody>\n",
              "</table>\n",
              "</div>\n",
              "      <button class=\"colab-df-convert\" onclick=\"convertToInteractive('df-9dae0cbd-6342-464e-b67c-6a13e052177c')\"\n",
              "              title=\"Convert this dataframe to an interactive table.\"\n",
              "              style=\"display:none;\">\n",
              "        \n",
              "  <svg xmlns=\"http://www.w3.org/2000/svg\" height=\"24px\"viewBox=\"0 0 24 24\"\n",
              "       width=\"24px\">\n",
              "    <path d=\"M0 0h24v24H0V0z\" fill=\"none\"/>\n",
              "    <path d=\"M18.56 5.44l.94 2.06.94-2.06 2.06-.94-2.06-.94-.94-2.06-.94 2.06-2.06.94zm-11 1L8.5 8.5l.94-2.06 2.06-.94-2.06-.94L8.5 2.5l-.94 2.06-2.06.94zm10 10l.94 2.06.94-2.06 2.06-.94-2.06-.94-.94-2.06-.94 2.06-2.06.94z\"/><path d=\"M17.41 7.96l-1.37-1.37c-.4-.4-.92-.59-1.43-.59-.52 0-1.04.2-1.43.59L10.3 9.45l-7.72 7.72c-.78.78-.78 2.05 0 2.83L4 21.41c.39.39.9.59 1.41.59.51 0 1.02-.2 1.41-.59l7.78-7.78 2.81-2.81c.8-.78.8-2.07 0-2.86zM5.41 20L4 18.59l7.72-7.72 1.47 1.35L5.41 20z\"/>\n",
              "  </svg>\n",
              "      </button>\n",
              "      \n",
              "  <style>\n",
              "    .colab-df-container {\n",
              "      display:flex;\n",
              "      flex-wrap:wrap;\n",
              "      gap: 12px;\n",
              "    }\n",
              "\n",
              "    .colab-df-convert {\n",
              "      background-color: #E8F0FE;\n",
              "      border: none;\n",
              "      border-radius: 50%;\n",
              "      cursor: pointer;\n",
              "      display: none;\n",
              "      fill: #1967D2;\n",
              "      height: 32px;\n",
              "      padding: 0 0 0 0;\n",
              "      width: 32px;\n",
              "    }\n",
              "\n",
              "    .colab-df-convert:hover {\n",
              "      background-color: #E2EBFA;\n",
              "      box-shadow: 0px 1px 2px rgba(60, 64, 67, 0.3), 0px 1px 3px 1px rgba(60, 64, 67, 0.15);\n",
              "      fill: #174EA6;\n",
              "    }\n",
              "\n",
              "    [theme=dark] .colab-df-convert {\n",
              "      background-color: #3B4455;\n",
              "      fill: #D2E3FC;\n",
              "    }\n",
              "\n",
              "    [theme=dark] .colab-df-convert:hover {\n",
              "      background-color: #434B5C;\n",
              "      box-shadow: 0px 1px 3px 1px rgba(0, 0, 0, 0.15);\n",
              "      filter: drop-shadow(0px 1px 2px rgba(0, 0, 0, 0.3));\n",
              "      fill: #FFFFFF;\n",
              "    }\n",
              "  </style>\n",
              "\n",
              "      <script>\n",
              "        const buttonEl =\n",
              "          document.querySelector('#df-9dae0cbd-6342-464e-b67c-6a13e052177c button.colab-df-convert');\n",
              "        buttonEl.style.display =\n",
              "          google.colab.kernel.accessAllowed ? 'block' : 'none';\n",
              "\n",
              "        async function convertToInteractive(key) {\n",
              "          const element = document.querySelector('#df-9dae0cbd-6342-464e-b67c-6a13e052177c');\n",
              "          const dataTable =\n",
              "            await google.colab.kernel.invokeFunction('convertToInteractive',\n",
              "                                                     [key], {});\n",
              "          if (!dataTable) return;\n",
              "\n",
              "          const docLinkHtml = 'Like what you see? Visit the ' +\n",
              "            '<a target=\"_blank\" href=https://colab.research.google.com/notebooks/data_table.ipynb>data table notebook</a>'\n",
              "            + ' to learn more about interactive tables.';\n",
              "          element.innerHTML = '';\n",
              "          dataTable['output_type'] = 'display_data';\n",
              "          await google.colab.output.renderOutput(dataTable, element);\n",
              "          const docLink = document.createElement('div');\n",
              "          docLink.innerHTML = docLinkHtml;\n",
              "          element.appendChild(docLink);\n",
              "        }\n",
              "      </script>\n",
              "    </div>\n",
              "  </div>\n",
              "  "
            ]
          },
          "metadata": {},
          "execution_count": 111
        }
      ],
      "source": [
        "pop.head()"
      ]
    },
    {
      "cell_type": "markdown",
      "source": [
        "References:\n",
        "\n",
        "https://pythongis.org/index.html\n",
        "\n",
        "https://automating-gis-processes.github.io/CSC18/index.html"
      ],
      "metadata": {
        "id": "H3Neuw9ieurS"
      },
      "id": "H3Neuw9ieurS"
    },
    {
      "cell_type": "code",
      "source": [],
      "metadata": {
        "id": "bWlgTmMWevVr"
      },
      "id": "bWlgTmMWevVr",
      "execution_count": null,
      "outputs": []
    }
  ],
  "metadata": {
    "kernelspec": {
      "display_name": "Python 3 (ipykernel)",
      "language": "python",
      "name": "python3"
    },
    "language_info": {
      "codemirror_mode": {
        "name": "ipython",
        "version": 3
      },
      "file_extension": ".py",
      "mimetype": "text/x-python",
      "name": "python",
      "nbconvert_exporter": "python",
      "pygments_lexer": "ipython3",
      "version": "3.10.9"
    },
    "colab": {
      "provenance": [],
      "collapsed_sections": [
        "9b4ee3e0",
        "98c064a1"
      ],
      "toc_visible": true,
      "include_colab_link": true
    }
  },
  "nbformat": 4,
  "nbformat_minor": 5
}